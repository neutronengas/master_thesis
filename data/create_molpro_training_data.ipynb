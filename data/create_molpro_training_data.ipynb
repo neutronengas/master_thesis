{
 "cells": [
  {
   "cell_type": "code",
   "execution_count": 49,
   "metadata": {},
   "outputs": [],
   "source": [
    "import numpy as np\n",
    "from periodic_system import periodic_system\n",
    "import subprocess"
   ]
  },
  {
   "cell_type": "code",
   "execution_count": 28,
   "metadata": {},
   "outputs": [
    {
     "name": "stdout",
     "output_type": "stream",
     "text": [
      "['E', 'name', 'F', 'theory', 'R', 'z', 'type', 'md5']\n"
     ]
    }
   ],
   "source": [
    "data = np.load(\"md17_benzene2017.npz\", allow_pickle=True)\n",
    "data_dict = {}\n",
    "for key in list(data.keys()):\n",
    "    data_dict[key] = data[key]\n",
    "print(list(data.keys()))"
   ]
  },
  {
   "cell_type": "code",
   "execution_count": 29,
   "metadata": {},
   "outputs": [
    {
     "data": {
      "text/plain": [
       "array([6, 6, 6, 6, 6, 6, 1, 1, 1, 1, 1, 1], dtype=uint8)"
      ]
     },
     "execution_count": 29,
     "metadata": {},
     "output_type": "execute_result"
    }
   ],
   "source": [
    "data_dict[\"z\"]"
   ]
  },
  {
   "cell_type": "code",
   "execution_count": 60,
   "metadata": {},
   "outputs": [],
   "source": [
    "def create_molpro_training_data(R, filename, calculation_type):\n",
    "    rows = []\n",
    "    num_atoms = len(data_dict[\"z\"])\n",
    "    for i in range(num_atoms):\n",
    "        atom_number = data_dict[\"z\"][i]\n",
    "        atom = periodic_system[atom_number]\n",
    "        coords = [str(coord) for coord in R[i]]\n",
    "        row = [atom] + coords\n",
    "        row = \",\".join(row)\n",
    "        rows.append(row)\n",
    "    rows = [\"geomtyp=xyz\"] + [\"geometry={\"] + [str(num_atoms)] + [\"\"] + rows + [\"}\"] + [\"hf\"] + [f\"{calculation_type}\"]\n",
    "    rows += [\"{matrop\"] \n",
    "    rows += [\"load,Dscf,DEN,TYPE=2\"] \n",
    "    rows += [\"write,Dscf,denfile\"]\n",
    "    rows += [\"}\"]\n",
    "    rows = \"\\n\".join(rows)\n",
    "    f = open(f\"{filename}.inp\", \"w\")\n",
    "    f.write(rows)\n",
    "    f.close()\n",
    "    return\n",
    "    "
   ]
  },
  {
   "cell_type": "code",
   "execution_count": 61,
   "metadata": {},
   "outputs": [],
   "source": [
    "R = data_dict[\"R\"][0]\n",
    "filename = \"test_data\"\n",
    "create_molpro_training_data(R, filename, \"MP2\")"
   ]
  },
  {
   "attachments": {},
   "cell_type": "markdown",
   "metadata": {},
   "source": [
    "**Run molpro**"
   ]
  },
  {
   "cell_type": "code",
   "execution_count": 59,
   "metadata": {},
   "outputs": [],
   "source": [
    "command = f\"/usr/local/molpro/molpro_2022.3/bin/molpro {filename}.inp\"\n",
    "process = subprocess.Popen(command, shell=True, stdout=subprocess.PIPE, stderr=subprocess.PIPE)\n",
    "stdout, stderr = process.communicate()"
   ]
  }
 ],
 "metadata": {
  "kernelspec": {
   "display_name": "ml_env",
   "language": "python",
   "name": "python3"
  },
  "language_info": {
   "codemirror_mode": {
    "name": "ipython",
    "version": 3
   },
   "file_extension": ".py",
   "mimetype": "text/x-python",
   "name": "python",
   "nbconvert_exporter": "python",
   "pygments_lexer": "ipython3",
   "version": "3.9.16"
  },
  "orig_nbformat": 4
 },
 "nbformat": 4,
 "nbformat_minor": 2
}
