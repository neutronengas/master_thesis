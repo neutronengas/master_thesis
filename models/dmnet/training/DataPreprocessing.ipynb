{
 "cells": [
  {
   "cell_type": "code",
   "execution_count": 1,
   "metadata": {},
   "outputs": [],
   "source": [
    "import numpy as np\n",
    "from functools import partial\n",
    "import pickle\n",
    "import matplotlib.pyplot as plt"
   ]
  },
  {
   "cell_type": "code",
   "execution_count": 2,
   "metadata": {},
   "outputs": [],
   "source": [
    "def rdm_padding(rdm, Z):\n",
    "    num_orbitals = np.array([5 if z < 3 else 14 for z in Z])\n",
    "    rdm_atom_start_indices = np.concatenate([[0], num_orbitals]).cumsum()\n",
    "    insert_start_positions = rdm_atom_start_indices[1:][rdm_atom_start_indices[1:] - rdm_atom_start_indices[:-1] == 5]\n",
    "    insertum = np.zeros((9, rdm.shape[1]))\n",
    "    for index in reversed(insert_start_positions):\n",
    "        rdm = np.insert(rdm, index, insertum, axis=0)\n",
    "    rdm = rdm.T\n",
    "    insertum = np.zeros((9, rdm.shape[1]))\n",
    "    for index in reversed(insert_start_positions):\n",
    "        rdm = np.insert(rdm, index, insertum, axis=0)\n",
    "    for i in np.concatenate([[0], (14 * np.ones_like(Z, dtype=np.int32))[:-1]]).cumsum()[Z <= 2] + 2:\n",
    "        rdm[:, [i, i + 1, i + 2, i + 3]] = rdm[:, [i + 3, i, i + 1, i + 2]]\n",
    "        rdm[[i, i + 1, i + 2, i + 3], :] = rdm[[i + 3, i, i + 1, i + 2], :]\n",
    "    return rdm"
   ]
  },
  {
   "cell_type": "code",
   "execution_count": 3,
   "metadata": {},
   "outputs": [],
   "source": [
    "def rdm_reshape(rdm):\n",
    "    side_length = len(rdm)\n",
    "    n_atoms = side_length // 14\n",
    "    rdm = np.reshape(rdm, (n_atoms, 14, n_atoms, 14))\n",
    "    rdm = np.transpose(rdm, (0, 2, 1, 3))\n",
    "    rdm = np.reshape(rdm, (n_atoms ** 2, 14, 14 ))\n",
    "    return rdm"
   ]
  },
  {
   "cell_type": "code",
   "execution_count": 4,
   "metadata": {},
   "outputs": [],
   "source": [
    "def add_Z_and_N(dict, Z):\n",
    "    n_mols = len(dict[\"R\"])\n",
    "    N = Z.shape[0] * np.ones((n_mols,), dtype=np.int32)\n",
    "    dict[\"Z\"] = np.tile(Z, n_mols)\n",
    "    dict[\"N\"] = np.tile(N, n_mols)\n",
    "    return dict"
   ]
  },
  {
   "cell_type": "markdown",
   "metadata": {},
   "source": [
    "**H2**"
   ]
  },
  {
   "cell_type": "code",
   "execution_count": 5,
   "metadata": {},
   "outputs": [],
   "source": [
    "# data = np.load(\"../../data/md_h2.npz\", allow_pickle=True)\n",
    "# Z = np.array([1, 1])\n",
    "# data = add_Z_and_N(data, Z)\n",
    "# rdm_hf = data[\"hf_rdm\"]\n",
    "# h2_rdm_pad = partial(rdm_padding, Z=Z)\n",
    "# rdm_hf = np.vectorize(h2_rdm_pad, signature=\"(a,a)->(b,b)\")(rdm_hf)\n",
    "# print(rdm_hf.shape)\n",
    "# rdm_hf = np.vectorize(rdm_reshape, signature=\"(a,a)->(c,b,b)\")(rdm_hf)\n",
    "# rdm_hf = np.reshape(rdm_hf, (rdm_hf.shape[0] * rdm_hf.shape[1], rdm_hf.shape[2], rdm_hf.shape[3]))\n",
    "# data[\"hf_rdm\"] = rdm_hf\n",
    "# data[\"N_rdm\"] = data[\"N\"] ** 2\n",
    "# # restrict train coords to the useful ones\n",
    "# for key in [\"train_coords\", \"hf_train_density\", \"mp_train_density\"]:\n",
    "#     data[key] = data[key][:, :140]"
   ]
  },
  {
   "cell_type": "code",
   "execution_count": 7,
   "metadata": {},
   "outputs": [],
   "source": [
    "#with open(\"../../data/md_h2.npz\", \"wb\") as f:\n",
    "#     pickle.dump(data, f)"
   ]
  },
  {
   "cell_type": "markdown",
   "metadata": {},
   "source": [
    "**Benzene**"
   ]
  },
  {
   "cell_type": "code",
   "execution_count": null,
   "metadata": {},
   "outputs": [],
   "source": [
    "data = np.load(\"../../data/md_benzene_mod.npz\", allow_pickle=True)\n",
    "Z = np.array([6, 6, 6, 6, 6, 6, 1, 1, 1, 1, 1, 1])\n",
    "data = add_Z_and_N(data, Z)\n",
    "rdm_hf = data[\"hf_rdm\"]\n",
    "h2_rdm_pad = partial(rdm_padding, Z=Z)\n",
    "rdm_hf = np.vectorize(h2_rdm_pad, signature=\"(a,a)->(b,b)\")(rdm_hf)\n",
    "rdm_hf = np.vectorize(rdm_reshape, signature=\"(a,a)->(c,b,b)\")(rdm_hf)\n",
    "rdm_hf = np.reshape(rdm_hf, (rdm_hf.shape[0] * rdm_hf.shape[1], rdm_hf.shape[2], rdm_hf.shape[3]))\n",
    "data[\"hf_rdm\"] = rdm_hf\n",
    "data[\"N_rdm\"] = data[\"N\"] ** 2"
   ]
  },
  {
   "cell_type": "code",
   "execution_count": null,
   "metadata": {},
   "outputs": [],
   "source": [
    "with open(\"../../data/md_benzene_mod.npz\", \"wb\") as f:\n",
    "    pickle.dump(data, f)"
   ]
  },
  {
   "cell_type": "markdown",
   "metadata": {},
   "source": [
    "**Formamide**"
   ]
  },
  {
   "cell_type": "code",
   "execution_count": 9,
   "metadata": {},
   "outputs": [],
   "source": [
    "data = np.load(\"../../data/formamide.npz\", allow_pickle=True)\n",
    "Z = np.array([7, 1, 1, 6, 8, 1])\n",
    "data = add_Z_and_N(data, Z)\n",
    "\n",
    "# Hartree-Fock RDM\n",
    "rdm_hf = data[\"hf_1rdms\"]\n",
    "rdm_pad = partial(rdm_padding, Z=Z)\n",
    "rdm_hf = np.vectorize(rdm_pad, signature=\"(a,a)->(b,b)\")(rdm_hf)\n",
    "rdm_hf = np.vectorize(rdm_reshape, signature=\"(a,a)->(c,b,b)\")(rdm_hf)\n",
    "rdm_hf = np.reshape(rdm_hf, (rdm_hf.shape[0] * rdm_hf.shape[1], rdm_hf.shape[2], rdm_hf.shape[3]))\n",
    "data[\"hf_1rdms\"] = rdm_hf\n",
    "\n",
    "# MP2 RDM\n",
    "rdm_mp = data[\"mp_1rdms\"]\n",
    "rdm_pad = partial(rdm_padding, Z=Z)\n",
    "rdm_mp = np.vectorize(rdm_pad, signature=\"(a,a)->(b,b)\")(rdm_mp)\n",
    "rdm_mp = np.vectorize(rdm_reshape, signature=\"(a,a)->(c,b,b)\")(rdm_mp)\n",
    "rdm_mp = np.reshape(rdm_mp, (rdm_mp.shape[0] * rdm_mp.shape[1], rdm_mp.shape[2], rdm_mp.shape[3]))\n",
    "data[\"mp_1rdms\"] = rdm_mp\n",
    "\n",
    "data[\"N_rdm\"] = data[\"N\"] ** 2"
   ]
  },
  {
   "cell_type": "code",
   "execution_count": 10,
   "metadata": {},
   "outputs": [],
   "source": [
    "with open(\"../../data/formamide.npz\", \"wb\") as f:\n",
    "    pickle.dump(data, f)"
   ]
  },
  {
   "cell_type": "code",
   "execution_count": 11,
   "metadata": {},
   "outputs": [
    {
     "data": {
      "text/plain": [
       "dict_keys(['R', 'grid_coordss', 'sphere_coordss', 'hf_1rdms', 'mp_1rdms', 'hf_grid_densities', 'hf_sphere_densities', 'mp_grid_densities', 'mp_sphere_densities', 'dft_grid_densities', 'dft_sphere_densities', 'Z', 'N', 'N_rdm'])"
      ]
     },
     "execution_count": 11,
     "metadata": {},
     "output_type": "execute_result"
    }
   ],
   "source": [
    "data = np.load(\"../../data/formamide.npz\", allow_pickle=True)\n",
    "data.keys()"
   ]
  },
  {
   "cell_type": "code",
   "execution_count": 12,
   "metadata": {},
   "outputs": [
    {
     "data": {
      "text/plain": [
       "(33552, 14, 14)"
      ]
     },
     "execution_count": 12,
     "metadata": {},
     "output_type": "execute_result"
    }
   ],
   "source": [
    "data[\"mp_1rdms\"].shape"
   ]
  },
  {
   "cell_type": "code",
   "execution_count": null,
   "metadata": {},
   "outputs": [],
   "source": []
  }
 ],
 "metadata": {
  "kernelspec": {
   "display_name": "tf_old",
   "language": "python",
   "name": "python3"
  },
  "language_info": {
   "codemirror_mode": {
    "name": "ipython",
    "version": 3
   },
   "file_extension": ".py",
   "mimetype": "text/x-python",
   "name": "python",
   "nbconvert_exporter": "python",
   "pygments_lexer": "ipython3",
   "version": "3.10.8"
  },
  "orig_nbformat": 4
 },
 "nbformat": 4,
 "nbformat_minor": 2
}
