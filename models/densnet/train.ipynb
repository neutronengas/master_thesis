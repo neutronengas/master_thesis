{
 "cells": [
  {
   "cell_type": "code",
   "execution_count": 1,
   "metadata": {},
   "outputs": [
    {
     "name": "stderr",
     "output_type": "stream",
     "text": [
      "2023-08-02 16:45:36.026011: I tensorflow/core/platform/cpu_feature_guard.cc:193] This TensorFlow binary is optimized with oneAPI Deep Neural Network Library (oneDNN) to use the following CPU instructions in performance-critical operations:  SSE4.1 SSE4.2\n",
      "To enable them in other operations, rebuild TensorFlow with the appropriate compiler flags.\n"
     ]
    }
   ],
   "source": [
    "import tensorflow as tf\n",
    "import numpy as np\n",
    "import os\n",
    "import ast\n",
    "import logging\n",
    "import string\n",
    "import random\n",
    "import yaml\n",
    "\n",
    "from datetime import datetime\n",
    "\n",
    "from densnet.model.densnet import DensNet\n",
    "from densnet.model.activations import swish\n",
    "from densnet.training.metrics import Metrics\n",
    "from densnet.training.trainer import Trainer\n",
    "from densnet.training.data_container import DataContainer\n",
    "from densnet.training.data_provider import DataProvider"
   ]
  },
  {
   "cell_type": "code",
   "execution_count": 2,
   "metadata": {},
   "outputs": [],
   "source": [
    "# set up logger\n",
    "logger = logging.getLogger()\n",
    "logger.handlers = []\n",
    "ch = logging.StreamHandler()\n",
    "formatter = logging.Formatter(\n",
    "    fmt='%(asctime)s (%(levelname)s): %(message)s',\n",
    "    datefmt='%Y-%m-%d %H:%M:%S'\n",
    ")\n",
    "ch.setFormatter(formatter)\n",
    "logger.addHandler(ch)\n",
    "logger.setLevel('INFO')\n",
    "os.environ['TF_CPP_MIN_LOG_LEVEL'] = '1'\n",
    "tf.get_logger().setLevel('WARN')\n",
    "tf.autograph.set_verbosity(2)"
   ]
  },
  {
   "cell_type": "code",
   "execution_count": 3,
   "metadata": {},
   "outputs": [],
   "source": [
    "with open('config.yaml', 'r') as c:\n",
    "    config = yaml.safe_load(c)"
   ]
  },
  {
   "cell_type": "code",
   "execution_count": 4,
   "metadata": {},
   "outputs": [],
   "source": [
    "for key, val in config.items():\n",
    "    if type(val) is str:\n",
    "        try:\n",
    "            config[key] = ast.literal_eval(val)\n",
    "        except (ValueError, SyntaxError):\n",
    "            pass"
   ]
  },
  {
   "cell_type": "code",
   "execution_count": 5,
   "metadata": {},
   "outputs": [],
   "source": [
    "model_name = config['model_name']\n",
    "\n",
    "num_basis_fct = config['num_basis_fct']\n",
    "emb_size = config['emb_size']\n",
    "num_interaction_blocks = config['num_interaction_blocks']\n",
    "ao_vals = config['ao_vals']\n",
    "\n",
    "num_train = config['num_train']\n",
    "num_valid = config['num_valid']\n",
    "data_seed = config['data_seed']\n",
    "dataset = config['dataset']\n",
    "logdir = config['logdir']\n",
    "\n",
    "num_steps = config['num_steps']\n",
    "ema_decay = config['ema_decay']\n",
    "\n",
    "learning_rate = config['learning_rate']\n",
    "warmup_steps = config['warmup_steps']\n",
    "decay_rate = config['decay_rate']\n",
    "decay_steps = config['decay_steps']\n",
    "\n",
    "batch_size = config['batch_size']\n",
    "evaluation_interval = config['evaluation_interval']\n",
    "save_interval = config['save_interval']\n",
    "restart = config['restart']\n",
    "comment = config['comment']\n",
    "targets = config['targets']"
   ]
  },
  {
   "attachments": {},
   "cell_type": "markdown",
   "metadata": {},
   "source": [
    "***Create directories***"
   ]
  },
  {
   "cell_type": "code",
   "execution_count": 6,
   "metadata": {},
   "outputs": [
    {
     "name": "stdout",
     "output_type": "stream",
     "text": [
      "Directory: ./logging/20230802_164540_keMDUDRz_md_h2_1_61.npz_densities_final\n"
     ]
    }
   ],
   "source": [
    "# Used for creating a random \"unique\" id for this run\n",
    "def id_generator(size=8, chars=string.ascii_uppercase + string.ascii_lowercase + string.digits):\n",
    "    return ''.join(random.SystemRandom().choice(chars) for _ in range(size))\n",
    "\n",
    "# Create directories\n",
    "# A unique directory name is created for this run based on the input\n",
    "if restart is None:\n",
    "    directory = (logdir + \"/\" + datetime.now().strftime(\"%Y%m%d_%H%M%S\") + \"_\" + id_generator()\n",
    "                 + \"_\" + os.path.basename(dataset)\n",
    "                 + \"_\" + '-'.join(targets)\n",
    "                 + \"_\" + comment)\n",
    "else:\n",
    "    directory = restart\n",
    "logging.info(f\"Directory: {directory}\")\n",
    "\n",
    "if not os.path.exists(directory):\n",
    "    os.makedirs(directory)\n",
    "best_dir = os.path.join(directory, 'best')\n",
    "if not os.path.exists(best_dir):\n",
    "    os.makedirs(best_dir)\n",
    "log_dir = os.path.join(directory, 'logs')\n",
    "if not os.path.exists(log_dir):\n",
    "    os.makedirs(log_dir)\n",
    "best_loss_file = os.path.join(best_dir, 'best_loss.npz')\n",
    "best_ckpt_file = os.path.join(best_dir, 'ckpt')\n",
    "step_ckpt_folder = log_dir"
   ]
  },
  {
   "attachments": {},
   "cell_type": "markdown",
   "metadata": {},
   "source": [
    "***Create summary writer and metrics***"
   ]
  },
  {
   "cell_type": "code",
   "execution_count": 7,
   "metadata": {},
   "outputs": [],
   "source": [
    "summary_writer = tf.summary.create_file_writer(log_dir)\n",
    "train = {}\n",
    "validation = {}\n",
    "train['metrics'] = Metrics('train', targets)\n",
    "validation['metrics'] = Metrics('val', targets)"
   ]
  },
  {
   "attachments": {},
   "cell_type": "markdown",
   "metadata": {},
   "source": [
    "*Load Dataset*"
   ]
  },
  {
   "cell_type": "code",
   "execution_count": 8,
   "metadata": {},
   "outputs": [],
   "source": [
    "data_container = DataContainer(dataset, 0.2)\n",
    "\n",
    "data_provider = DataProvider(data_container, num_train, num_valid, batch_size, seed=data_seed, randomized=True)\n",
    "\n",
    "train['dataset'] = data_provider.get_dataset('train').prefetch(tf.data.experimental.AUTOTUNE)\n",
    "train['dataset_iter'] = iter(train['dataset'])\n",
    "validation['dataset'] = data_provider.get_dataset('val').prefetch(tf.data.experimental.AUTOTUNE)\n",
    "validation['dataset_iter'] = iter(validation['dataset'])"
   ]
  },
  {
   "attachments": {},
   "cell_type": "markdown",
   "metadata": {},
   "source": [
    "*Initialize model*"
   ]
  },
  {
   "cell_type": "code",
   "execution_count": 9,
   "metadata": {},
   "outputs": [],
   "source": [
    "model = DensNet(ao_vals=ao_vals, num_interaction_blocks=num_interaction_blocks, activation=swish)"
   ]
  },
  {
   "attachments": {},
   "cell_type": "markdown",
   "metadata": {},
   "source": [
    "*Save/load best recorded loss*"
   ]
  },
  {
   "cell_type": "code",
   "execution_count": 10,
   "metadata": {},
   "outputs": [
    {
     "name": "stderr",
     "output_type": "stream",
     "text": [
      "/Users/benni/Documents/MA/models/densnet/densnet/training/metrics.py:68: RuntimeWarning: divide by zero encountered in log\n",
      "  return np.mean(np.log(self.maes)).item()\n"
     ]
    }
   ],
   "source": [
    "if os.path.isfile(best_loss_file):\n",
    "    loss_file = np.load(best_loss_file)\n",
    "    metrics_best = {k: v.item() for k, v in loss_file.items()}\n",
    "else:\n",
    "    metrics_best = validation['metrics'].result()\n",
    "    for key in metrics_best.keys():\n",
    "        metrics_best[key] = np.inf\n",
    "    metrics_best['step'] = 0\n",
    "    np.savez(best_loss_file, **metrics_best)"
   ]
  },
  {
   "attachments": {},
   "cell_type": "markdown",
   "metadata": {},
   "source": [
    "*Initialize trainer*"
   ]
  },
  {
   "cell_type": "code",
   "execution_count": 11,
   "metadata": {},
   "outputs": [],
   "source": [
    "trainer = Trainer(model, learning_rate, warmup_steps, decay_steps, decay_rate, ema_decay, max_grad_norm=1000)"
   ]
  },
  {
   "attachments": {},
   "cell_type": "markdown",
   "metadata": {},
   "source": [
    "*Set up checkpointing and load latest checkpoint*"
   ]
  },
  {
   "cell_type": "code",
   "execution_count": 12,
   "metadata": {},
   "outputs": [],
   "source": [
    "# Set up checkpointing\n",
    "ckpt = tf.train.Checkpoint(step=tf.Variable(1), optimizer=trainer.optimizer, model=model)\n",
    "manager = tf.train.CheckpointManager(ckpt, step_ckpt_folder, max_to_keep=3)\n",
    "\n",
    "# Restore latest checkpoint\n",
    "ckpt_restored = tf.train.latest_checkpoint(log_dir)\n",
    "if ckpt_restored is not None:\n",
    "    ckpt.restore(ckpt_restored)"
   ]
  },
  {
   "attachments": {},
   "cell_type": "markdown",
   "metadata": {},
   "source": [
    "*Training loop*"
   ]
  },
  {
   "cell_type": "code",
   "execution_count": 13,
   "metadata": {},
   "outputs": [
    {
     "name": "stdout",
     "output_type": "stream",
     "text": [
      "Tensor(\"densnet/hartree_fock_layer/PyFunc:0\", dtype=float32, device=/job:localhost/replica:0/task:0)\n"
     ]
    },
    {
     "ename": "ValueError",
     "evalue": "in user code:\n\n    File \"/Users/benni/Documents/MA/models/densnet/densnet/training/trainer.py\", line 60, in train_on_batch  *\n        preds = self.model(inputs, training=True)\n    File \"/Users/benni/opt/anaconda3/envs/ml_env/lib/python3.9/site-packages/keras/utils/traceback_utils.py\", line 70, in error_handler  **\n        raise e.with_traceback(filtered_tb) from None\n    File \"/var/folders/57/fsvvkkm13t382vl7pb83rp800000gn/T/__autograph_generated_filehohzqhng.py\", line 29, in tf__call\n        ag__.for_stmt(ag__.ld(self).int_layers, None, loop_body, get_state, set_state, ('out',), {'iterate_names': 'layer'})\n    File \"/var/folders/57/fsvvkkm13t382vl7pb83rp800000gn/T/__autograph_generated_filehohzqhng.py\", line 27, in loop_body\n        out = ag__.converted_call(ag__.ld(layer), (ag__.ld(out),), None, fscope)\n    File \"/var/folders/57/fsvvkkm13t382vl7pb83rp800000gn/T/__autograph_generated_fileacf403v8.py\", line 12, in tf__call\n        (n_batch, n_grid, n_ao) = ag__.ld(out_transformed).shape\n\n    ValueError: Exception encountered when calling layer \"densnet\" \"                 f\"(type DensNet).\n    \n    in user code:\n    \n        File \"/Users/benni/Documents/MA/models/densnet/densnet/model/densnet.py\", line 28, in call  *\n            out = layer(out)\n        File \"/Users/benni/opt/anaconda3/envs/ml_env/lib/python3.9/site-packages/keras/utils/traceback_utils.py\", line 70, in error_handler  **\n            raise e.with_traceback(filtered_tb) from None\n        File \"/var/folders/57/fsvvkkm13t382vl7pb83rp800000gn/T/__autograph_generated_fileacf403v8.py\", line 12, in tf__call\n            (n_batch, n_grid, n_ao) = ag__.ld(out_transformed).shape\n    \n        ValueError: Exception encountered when calling layer \"interaction\" \"                 f\"(type InteractionBlock).\n        \n        in user code:\n        \n            File \"/Users/benni/Documents/MA/models/densnet/densnet/model/layers/interaction_block.py\", line 21, in call  *\n                n_batch, n_grid, n_ao = out_transformed.shape\n        \n            ValueError: Cannot iterate over a shape with unknown rank.\n        \n        \n        Call arguments received by layer \"interaction\" \"                 f\"(type InteractionBlock):\n          • inputs=('tf.Tensor(shape=<unknown>, dtype=float32)', 'tf.Tensor(shape=(None, 900, 900), dtype=int32)')\n    \n    \n    Call arguments received by layer \"densnet\" \"                 f\"(type DensNet):\n      • inputs={'R': 'tf.Tensor(shape=(None, 2, 3), dtype=float32)', 'densities': 'tf.Tensor(shape=(None, 900), dtype=float32)', 'neighbour_coords_idx': 'tf.Tensor(shape=(None, 900, 900), dtype=int32)', 'coords': 'tf.Tensor(shape=(None, 900, 3), dtype=int32)'}\n",
     "output_type": "error",
     "traceback": [
      "\u001b[0;31m---------------------------------------------------------------------------\u001b[0m",
      "\u001b[0;31mValueError\u001b[0m                                Traceback (most recent call last)",
      "Cell \u001b[0;32mIn[13], line 14\u001b[0m\n\u001b[1;32m     11\u001b[0m tf\u001b[39m.\u001b[39msummary\u001b[39m.\u001b[39mexperimental\u001b[39m.\u001b[39mset_step(step)\n\u001b[1;32m     13\u001b[0m \u001b[39m# Perform training step\u001b[39;00m\n\u001b[0;32m---> 14\u001b[0m trainer\u001b[39m.\u001b[39;49mtrain_on_batch(train[\u001b[39m'\u001b[39;49m\u001b[39mdataset_iter\u001b[39;49m\u001b[39m'\u001b[39;49m], train[\u001b[39m'\u001b[39;49m\u001b[39mmetrics\u001b[39;49m\u001b[39m'\u001b[39;49m])\n\u001b[1;32m     16\u001b[0m \u001b[39m# Save progress\u001b[39;00m\n\u001b[1;32m     17\u001b[0m \u001b[39mif\u001b[39;00m (step \u001b[39m%\u001b[39m save_interval \u001b[39m==\u001b[39m \u001b[39m0\u001b[39m):\n",
      "File \u001b[0;32m~/opt/anaconda3/envs/ml_env/lib/python3.9/site-packages/tensorflow/python/util/traceback_utils.py:153\u001b[0m, in \u001b[0;36mfilter_traceback.<locals>.error_handler\u001b[0;34m(*args, **kwargs)\u001b[0m\n\u001b[1;32m    151\u001b[0m \u001b[39mexcept\u001b[39;00m \u001b[39mException\u001b[39;00m \u001b[39mas\u001b[39;00m e:\n\u001b[1;32m    152\u001b[0m   filtered_tb \u001b[39m=\u001b[39m _process_traceback_frames(e\u001b[39m.\u001b[39m__traceback__)\n\u001b[0;32m--> 153\u001b[0m   \u001b[39mraise\u001b[39;00m e\u001b[39m.\u001b[39mwith_traceback(filtered_tb) \u001b[39mfrom\u001b[39;00m \u001b[39mNone\u001b[39m\n\u001b[1;32m    154\u001b[0m \u001b[39mfinally\u001b[39;00m:\n\u001b[1;32m    155\u001b[0m   \u001b[39mdel\u001b[39;00m filtered_tb\n",
      "File \u001b[0;32m/var/folders/57/fsvvkkm13t382vl7pb83rp800000gn/T/__autograph_generated_file7whzuc7k.py:12\u001b[0m, in \u001b[0;36mouter_factory.<locals>.inner_factory.<locals>.tf__train_on_batch\u001b[0;34m(self, dataset_iter, metrics)\u001b[0m\n\u001b[1;32m     10\u001b[0m (inputs, targets) \u001b[39m=\u001b[39m ag__\u001b[39m.\u001b[39mconverted_call(ag__\u001b[39m.\u001b[39mld(\u001b[39mnext\u001b[39m), (ag__\u001b[39m.\u001b[39mld(dataset_iter),), \u001b[39mNone\u001b[39;00m, fscope)\n\u001b[1;32m     11\u001b[0m \u001b[39mwith\u001b[39;00m ag__\u001b[39m.\u001b[39mld(tf)\u001b[39m.\u001b[39mGradientTape() \u001b[39mas\u001b[39;00m tape:\n\u001b[0;32m---> 12\u001b[0m     preds \u001b[39m=\u001b[39m ag__\u001b[39m.\u001b[39mconverted_call(ag__\u001b[39m.\u001b[39mld(\u001b[39mself\u001b[39m)\u001b[39m.\u001b[39mmodel, (ag__\u001b[39m.\u001b[39mld(inputs),), \u001b[39mdict\u001b[39m(training\u001b[39m=\u001b[39m\u001b[39mTrue\u001b[39;00m), fscope)\n\u001b[1;32m     13\u001b[0m     ag__\u001b[39m.\u001b[39mld(\u001b[39mprint\u001b[39m)(ag__\u001b[39m.\u001b[39mld(preds))\n\u001b[1;32m     14\u001b[0m     mae \u001b[39m=\u001b[39m ag__\u001b[39m.\u001b[39mconverted_call(ag__\u001b[39m.\u001b[39mld(tf)\u001b[39m.\u001b[39mreduce_mean, (ag__\u001b[39m.\u001b[39mconverted_call(ag__\u001b[39m.\u001b[39mld(tf)\u001b[39m.\u001b[39mabs, (ag__\u001b[39m.\u001b[39mld(targets) \u001b[39m-\u001b[39m ag__\u001b[39m.\u001b[39mld(preds),), \u001b[39mNone\u001b[39;00m, fscope),), \u001b[39mdict\u001b[39m(axis\u001b[39m=\u001b[39m\u001b[39mNone\u001b[39;00m), fscope)\n",
      "File \u001b[0;32m~/opt/anaconda3/envs/ml_env/lib/python3.9/site-packages/keras/utils/traceback_utils.py:70\u001b[0m, in \u001b[0;36mfilter_traceback.<locals>.error_handler\u001b[0;34m(*args, **kwargs)\u001b[0m\n\u001b[1;32m     67\u001b[0m     filtered_tb \u001b[39m=\u001b[39m _process_traceback_frames(e\u001b[39m.\u001b[39m__traceback__)\n\u001b[1;32m     68\u001b[0m     \u001b[39m# To get the full stack trace, call:\u001b[39;00m\n\u001b[1;32m     69\u001b[0m     \u001b[39m# `tf.debugging.disable_traceback_filtering()`\u001b[39;00m\n\u001b[0;32m---> 70\u001b[0m     \u001b[39mraise\u001b[39;00m e\u001b[39m.\u001b[39mwith_traceback(filtered_tb) \u001b[39mfrom\u001b[39;00m \u001b[39mNone\u001b[39m\n\u001b[1;32m     71\u001b[0m \u001b[39mfinally\u001b[39;00m:\n\u001b[1;32m     72\u001b[0m     \u001b[39mdel\u001b[39;00m filtered_tb\n",
      "File \u001b[0;32m/var/folders/57/fsvvkkm13t382vl7pb83rp800000gn/T/__autograph_generated_filehohzqhng.py:29\u001b[0m, in \u001b[0;36mouter_factory.<locals>.inner_factory.<locals>.tf__call\u001b[0;34m(self, inputs)\u001b[0m\n\u001b[1;32m     27\u001b[0m     out \u001b[39m=\u001b[39m ag__\u001b[39m.\u001b[39mconverted_call(ag__\u001b[39m.\u001b[39mld(layer), (ag__\u001b[39m.\u001b[39mld(out),), \u001b[39mNone\u001b[39;00m, fscope)\n\u001b[1;32m     28\u001b[0m layer \u001b[39m=\u001b[39m ag__\u001b[39m.\u001b[39mUndefined(\u001b[39m'\u001b[39m\u001b[39mlayer\u001b[39m\u001b[39m'\u001b[39m)\n\u001b[0;32m---> 29\u001b[0m ag__\u001b[39m.\u001b[39mfor_stmt(ag__\u001b[39m.\u001b[39mld(\u001b[39mself\u001b[39m)\u001b[39m.\u001b[39mint_layers, \u001b[39mNone\u001b[39;00m, loop_body, get_state, set_state, (\u001b[39m'\u001b[39m\u001b[39mout\u001b[39m\u001b[39m'\u001b[39m,), {\u001b[39m'\u001b[39m\u001b[39miterate_names\u001b[39m\u001b[39m'\u001b[39m: \u001b[39m'\u001b[39m\u001b[39mlayer\u001b[39m\u001b[39m'\u001b[39m})\n\u001b[1;32m     30\u001b[0m out \u001b[39m=\u001b[39m ag__\u001b[39m.\u001b[39mconverted_call(ag__\u001b[39m.\u001b[39mld(\u001b[39mself\u001b[39m)\u001b[39m.\u001b[39moutput_layer, (ag__\u001b[39m.\u001b[39mld(out),), \u001b[39mNone\u001b[39;00m, fscope)\n\u001b[1;32m     31\u001b[0m \u001b[39mtry\u001b[39;00m:\n",
      "File \u001b[0;32m/var/folders/57/fsvvkkm13t382vl7pb83rp800000gn/T/__autograph_generated_filehohzqhng.py:27\u001b[0m, in \u001b[0;36mouter_factory.<locals>.inner_factory.<locals>.tf__call.<locals>.loop_body\u001b[0;34m(itr)\u001b[0m\n\u001b[1;32m     25\u001b[0m \u001b[39mnonlocal\u001b[39;00m out\n\u001b[1;32m     26\u001b[0m layer \u001b[39m=\u001b[39m itr\n\u001b[0;32m---> 27\u001b[0m out \u001b[39m=\u001b[39m ag__\u001b[39m.\u001b[39;49mconverted_call(ag__\u001b[39m.\u001b[39;49mld(layer), (ag__\u001b[39m.\u001b[39;49mld(out),), \u001b[39mNone\u001b[39;49;00m, fscope)\n",
      "File \u001b[0;32m/var/folders/57/fsvvkkm13t382vl7pb83rp800000gn/T/__autograph_generated_fileacf403v8.py:12\u001b[0m, in \u001b[0;36mouter_factory.<locals>.inner_factory.<locals>.tf__call\u001b[0;34m(self, inputs)\u001b[0m\n\u001b[1;32m     10\u001b[0m (out, coords_neighbors_idx) \u001b[39m=\u001b[39m ag__\u001b[39m.\u001b[39mld(inputs)\n\u001b[1;32m     11\u001b[0m out_transformed \u001b[39m=\u001b[39m ag__\u001b[39m.\u001b[39mld(out)\n\u001b[0;32m---> 12\u001b[0m (n_batch, n_grid, n_ao) \u001b[39m=\u001b[39m ag__\u001b[39m.\u001b[39mld(out_transformed)\u001b[39m.\u001b[39mshape\n\u001b[1;32m     13\u001b[0m out_dummy \u001b[39m=\u001b[39m ag__\u001b[39m.\u001b[39mconverted_call(ag__\u001b[39m.\u001b[39mld(np)\u001b[39m.\u001b[39mzeros, (), \u001b[39mdict\u001b[39m(shape\u001b[39m=\u001b[39m(ag__\u001b[39m.\u001b[39mld(n_batch), ag__\u001b[39m.\u001b[39mld(n_grid) \u001b[39m+\u001b[39m \u001b[39m1\u001b[39m, ag__\u001b[39m.\u001b[39mld(n_ao))), fscope)\n\u001b[1;32m     14\u001b[0m ag__\u001b[39m.\u001b[39mld(out_dummy)[:, :ag__\u001b[39m.\u001b[39mld(n_grid), :] \u001b[39m=\u001b[39m ag__\u001b[39m.\u001b[39mld(out_transformed)\n",
      "\u001b[0;31mValueError\u001b[0m: in user code:\n\n    File \"/Users/benni/Documents/MA/models/densnet/densnet/training/trainer.py\", line 60, in train_on_batch  *\n        preds = self.model(inputs, training=True)\n    File \"/Users/benni/opt/anaconda3/envs/ml_env/lib/python3.9/site-packages/keras/utils/traceback_utils.py\", line 70, in error_handler  **\n        raise e.with_traceback(filtered_tb) from None\n    File \"/var/folders/57/fsvvkkm13t382vl7pb83rp800000gn/T/__autograph_generated_filehohzqhng.py\", line 29, in tf__call\n        ag__.for_stmt(ag__.ld(self).int_layers, None, loop_body, get_state, set_state, ('out',), {'iterate_names': 'layer'})\n    File \"/var/folders/57/fsvvkkm13t382vl7pb83rp800000gn/T/__autograph_generated_filehohzqhng.py\", line 27, in loop_body\n        out = ag__.converted_call(ag__.ld(layer), (ag__.ld(out),), None, fscope)\n    File \"/var/folders/57/fsvvkkm13t382vl7pb83rp800000gn/T/__autograph_generated_fileacf403v8.py\", line 12, in tf__call\n        (n_batch, n_grid, n_ao) = ag__.ld(out_transformed).shape\n\n    ValueError: Exception encountered when calling layer \"densnet\" \"                 f\"(type DensNet).\n    \n    in user code:\n    \n        File \"/Users/benni/Documents/MA/models/densnet/densnet/model/densnet.py\", line 28, in call  *\n            out = layer(out)\n        File \"/Users/benni/opt/anaconda3/envs/ml_env/lib/python3.9/site-packages/keras/utils/traceback_utils.py\", line 70, in error_handler  **\n            raise e.with_traceback(filtered_tb) from None\n        File \"/var/folders/57/fsvvkkm13t382vl7pb83rp800000gn/T/__autograph_generated_fileacf403v8.py\", line 12, in tf__call\n            (n_batch, n_grid, n_ao) = ag__.ld(out_transformed).shape\n    \n        ValueError: Exception encountered when calling layer \"interaction\" \"                 f\"(type InteractionBlock).\n        \n        in user code:\n        \n            File \"/Users/benni/Documents/MA/models/densnet/densnet/model/layers/interaction_block.py\", line 21, in call  *\n                n_batch, n_grid, n_ao = out_transformed.shape\n        \n            ValueError: Cannot iterate over a shape with unknown rank.\n        \n        \n        Call arguments received by layer \"interaction\" \"                 f\"(type InteractionBlock):\n          • inputs=('tf.Tensor(shape=<unknown>, dtype=float32)', 'tf.Tensor(shape=(None, 900, 900), dtype=int32)')\n    \n    \n    Call arguments received by layer \"densnet\" \"                 f\"(type DensNet):\n      • inputs={'R': 'tf.Tensor(shape=(None, 2, 3), dtype=float32)', 'densities': 'tf.Tensor(shape=(None, 900), dtype=float32)', 'neighbour_coords_idx': 'tf.Tensor(shape=(None, 900, 900), dtype=int32)', 'coords': 'tf.Tensor(shape=(None, 900, 3), dtype=int32)'}\n"
     ]
    }
   ],
   "source": [
    "with summary_writer.as_default():\n",
    "    steps_per_epoch = int(np.ceil(num_train / batch_size))\n",
    "\n",
    "    if ckpt_restored is not None:\n",
    "        step_init = ckpt.step.numpy()\n",
    "    else:\n",
    "        step_init = 1\n",
    "    for step in range(step_init, num_steps + 1):\n",
    "        # Update step number\n",
    "        ckpt.step.assign(step)\n",
    "        tf.summary.experimental.set_step(step)\n",
    "\n",
    "        # Perform training step\n",
    "        trainer.train_on_batch(train['dataset_iter'], train['metrics'])\n",
    "\n",
    "        # Save progress\n",
    "        if (step % save_interval == 0):\n",
    "            manager.save()\n",
    "\n",
    "        # Evaluate model and log results\n",
    "        if (step % evaluation_interval == 0):\n",
    "\n",
    "            # Save backup variables and load averaged variables\n",
    "            trainer.save_variable_backups()\n",
    "            trainer.load_averaged_variables()\n",
    "\n",
    "            # Compute results on the validation set\n",
    "            for i in range(int(np.ceil(num_valid / batch_size))):\n",
    "                trainer.test_on_batch(validation['dataset_iter'], validation['metrics'])\n",
    "\n",
    "            # Update and save best result\n",
    "            if validation['metrics'].mean_mae < metrics_best['mean_mae_val']:\n",
    "                metrics_best['step'] = step\n",
    "                metrics_best.update(validation['metrics'].result())\n",
    "\n",
    "                np.savez(best_loss_file, **metrics_best)\n",
    "                model.save_weights(best_ckpt_file)\n",
    "\n",
    "            for key, val in metrics_best.items():\n",
    "                if key != 'step':\n",
    "                    tf.summary.scalar(key + '_best', val)\n",
    "                \n",
    "            epoch = step // steps_per_epoch\n",
    "            logging.info(\n",
    "                f\"{step}/{num_steps} (epoch {epoch + 1}):\"\n",
    "                f\"Loss: train={train['metrics'].loss:.6f}, val={validation['metrics'].loss:.6f};\"\n",
    "                f\"logMAE: train={train['metrics'].mean_log_mae:.6f}, \"\n",
    "                f\"val={validation['metrics'].mean_log_mae:.6f}\"\n",
    "            )\n",
    "\n",
    "            train['metrics'].write()\n",
    "            validation['metrics'].write()\n",
    "\n",
    "            train['metrics'].reset_states()\n",
    "            validation['metrics'].reset_states()\n",
    "\n",
    "            # Restore backup variables\n",
    "            trainer.restore_variable_backups()"
   ]
  }
 ],
 "metadata": {
  "kernelspec": {
   "display_name": "Python 3",
   "language": "python",
   "name": "python3"
  },
  "language_info": {
   "codemirror_mode": {
    "name": "ipython",
    "version": 3
   },
   "file_extension": ".py",
   "mimetype": "text/x-python",
   "name": "python",
   "nbconvert_exporter": "python",
   "pygments_lexer": "ipython3",
   "version": "3.9.16"
  },
  "orig_nbformat": 4
 },
 "nbformat": 4,
 "nbformat_minor": 2
}
