{
 "cells": [
  {
   "cell_type": "code",
   "execution_count": 13,
   "metadata": {},
   "outputs": [],
   "source": [
    "from pyscf import scf, gto, ci\n",
    "import numpy as np\n",
    "import os"
   ]
  },
  {
   "cell_type": "code",
   "execution_count": 18,
   "metadata": {},
   "outputs": [],
   "source": [
    "data = np.load(\"../../../../../data/md17_benzene2017.npz\", allow_pickle=True)"
   ]
  },
  {
   "cell_type": "code",
   "execution_count": 23,
   "metadata": {},
   "outputs": [
    {
     "data": {
      "text/plain": [
       "[['E', 'name', 'F', 'theory', 'R', 'z', 'type', 'md5']]"
      ]
     },
     "execution_count": 23,
     "metadata": {},
     "output_type": "execute_result"
    }
   ],
   "source": [
    "list(data.keys())"
   ]
  },
  {
   "cell_type": "code",
   "execution_count": 36,
   "metadata": {},
   "outputs": [],
   "source": [
    "data_dict = {}\n",
    "for key in [\"E\", \"R\", \"z\"]:\n",
    "    if key in data:\n",
    "        data_dict[key] = data[key]\n",
    "    else:\n",
    "        print(\"{} not in the dataset\".format(key))"
   ]
  },
  {
   "cell_type": "code",
   "execution_count": 80,
   "metadata": {},
   "outputs": [],
   "source": []
  },
  {
   "cell_type": "code",
   "execution_count": 204,
   "metadata": {},
   "outputs": [],
   "source": [
    "R = data_dict[\"R\"][63]\n",
    "R = R - R.mean(axis=0)"
   ]
  },
  {
   "cell_type": "code",
   "execution_count": 205,
   "metadata": {},
   "outputs": [],
   "source": [
    "mat = R.T @ R\n",
    "eigenvalues, eigenvectors = np.linalg.eig(mat)\n",
    "permut_matrix = np.eye(3)[np.argsort(eigenvalues)[::-1]]\n",
    "mat = permut_matrix @ eigenvectors.T @ mat @ eigenvectors @ permut_matrix.T"
   ]
  },
  {
   "cell_type": "code",
   "execution_count": 206,
   "metadata": {},
   "outputs": [
    {
     "data": {
      "text/plain": [
       "array([-3.70074342e-17,  3.70074342e-17,  9.25185854e-18])"
      ]
     },
     "execution_count": 206,
     "metadata": {},
     "output_type": "execute_result"
    }
   ],
   "source": [
    "(R @ permut_matrix @ eigenvectors.T).mean(axis=0)"
   ]
  },
  {
   "cell_type": "code",
   "execution_count": 210,
   "metadata": {},
   "outputs": [
    {
     "data": {
      "text/plain": [
       "array([[-1.41803006,  1.52589119,  0.35477129],\n",
       "       [ 0.7023914 ,  1.64006128,  1.1508463 ],\n",
       "       [ 2.2480165 , -1.85618421, -0.48748276],\n",
       "       [ 2.22587342,  1.44630287, -0.20721471],\n",
       "       [ 1.47987886, -1.25606431, -1.52471827],\n",
       "       [ 1.86485115,  2.04398036,  0.16190271],\n",
       "       [-2.97733261, -1.42277952,  2.5912445 ],\n",
       "       [ 0.27682812, -2.67593957, -0.91651411],\n",
       "       [-2.52983118, -2.31991633,  1.20693126],\n",
       "       [ 1.70774283,  1.36910186, -0.09174406]])"
      ]
     },
     "execution_count": 210,
     "metadata": {},
     "output_type": "execute_result"
    }
   ],
   "source": [
    "min_val = -3\n",
    "max_val = -min_val\n",
    "np.random.uniform(min_val, max_val, size=(10, 3))"
   ]
  },
  {
   "cell_type": "code",
   "execution_count": null,
   "metadata": {},
   "outputs": [],
   "source": []
  }
 ],
 "metadata": {
  "kernelspec": {
   "display_name": "Python 3",
   "language": "python",
   "name": "python3"
  },
  "language_info": {
   "codemirror_mode": {
    "name": "ipython",
    "version": 3
   },
   "file_extension": ".py",
   "mimetype": "text/x-python",
   "name": "python",
   "nbconvert_exporter": "python",
   "pygments_lexer": "ipython3",
   "version": "3.8.10"
  },
  "orig_nbformat": 4
 },
 "nbformat": 4,
 "nbformat_minor": 2
}
