{
 "cells": [
  {
   "cell_type": "code",
   "execution_count": null,
   "metadata": {},
   "outputs": [
    {
     "ename": "",
     "evalue": "",
     "output_type": "error",
     "traceback": [
      "\u001b[1;31mThe kernel failed to start as the Python Environment '~/opt/anaconda3/envs/quantchem' is no longer available. Consider selecting another kernel or refreshing the list of Python Environments."
     ]
    }
   ],
   "source": [
    "import tensorflow\n",
    "import numpy as np\n",
    "from pyscf import gto, scf, mp, lo\n",
    "from pyscf.tools import cubegen\n",
    "import matplotlib.pyplot as plt\n",
    "import datetime\n",
    "from scipy.spatial.distance import cdist"
   ]
  },
  {
   "cell_type": "code",
   "execution_count": null,
   "metadata": {},
   "outputs": [],
   "source": []
  },
  {
   "cell_type": "code",
   "execution_count": null,
   "metadata": {},
   "outputs": [],
   "source": []
  },
  {
   "cell_type": "code",
   "execution_count": null,
   "metadata": {},
   "outputs": [
    {
     "ename": "",
     "evalue": "",
     "output_type": "error",
     "traceback": [
      "\u001b[1;31mDas Ausführen von Zellen mit \"ml_env\" erfordert das Paket ipykernel.\n",
      "\u001b[1;31mRun the following command to install 'ipykernel' into the Python environment. \n",
      "\u001b[1;31mCommand: 'conda install -n ml_env ipykernel --update-deps --force-reinstall'"
     ]
    }
   ],
   "source": [
    "data = np.load(\"../../data/md17_benzene2017.npz\", allow_pickle=True)\n",
    "R = data[\"R\"][2].tolist()\n",
    "Z = data[\"z\"]"
   ]
  },
  {
   "cell_type": "code",
   "execution_count": null,
   "metadata": {},
   "outputs": [
    {
     "ename": "",
     "evalue": "",
     "output_type": "error",
     "traceback": [
      "\u001b[1;31mDas Ausführen von Zellen mit \"ml_env\" erfordert das Paket ipykernel.\n",
      "\u001b[1;31mRun the following command to install 'ipykernel' into the Python environment. \n",
      "\u001b[1;31mCommand: 'conda install -n ml_env ipykernel --update-deps --force-reinstall'"
     ]
    }
   ],
   "source": [
    "mol = gto.Mole()\n",
    "atom_data = list(zip(Z, R))\n",
    "mol.atom = atom_data\n",
    "mol.basis = \"ccpvdz\"\n",
    "mol.build()"
   ]
  },
  {
   "cell_type": "code",
   "execution_count": null,
   "metadata": {},
   "outputs": [
    {
     "ename": "",
     "evalue": "",
     "output_type": "error",
     "traceback": [
      "\u001b[1;31mDas Ausführen von Zellen mit \"ml_env\" erfordert das Paket ipykernel.\n",
      "\u001b[1;31mRun the following command to install 'ipykernel' into the Python environment. \n",
      "\u001b[1;31mCommand: 'conda install -n ml_env ipykernel --update-deps --force-reinstall'"
     ]
    }
   ],
   "source": [
    "hf_result = scf.HF(mol).run()\n",
    "hf_1dm = hf_result.make_rdm1()\n",
    "hf_2dm = hf_result.make_rdm2()\n",
    "time1 = datetime.datetime.now()\n",
    "\n",
    "hf_atomic_orbitals = mol.intor(\"int1e_ovlp\")\n",
    "mo_coeff = hf_result.mo_coeff\n",
    "hf_energy = hf_result.e_tot\n",
    "hf_atomic_orbitals.shape"
   ]
  },
  {
   "cell_type": "code",
   "execution_count": null,
   "metadata": {},
   "outputs": [
    {
     "ename": "",
     "evalue": "",
     "output_type": "error",
     "traceback": [
      "\u001b[1;31mDas Ausführen von Zellen mit \"ml_env\" erfordert das Paket ipykernel.\n",
      "\u001b[1;31mRun the following command to install 'ipykernel' into the Python environment. \n",
      "\u001b[1;31mCommand: 'conda install -n ml_env ipykernel --update-deps --force-reinstall'"
     ]
    }
   ],
   "source": [
    "fig_ao = plt.figure(figsize=(6,6))\n",
    "ax_ao = fig_ao.add_subplot(111)\n",
    "ax_ao.set_title(\"Atomic orbital overlap\")\n",
    "image_ao = ax_ao.imshow(hf_atomic_orbitals)\n",
    "plt.colorbar(image_ao)\n",
    "plt.show()"
   ]
  },
  {
   "cell_type": "code",
   "execution_count": null,
   "metadata": {},
   "outputs": [
    {
     "ename": "",
     "evalue": "",
     "output_type": "error",
     "traceback": [
      "\u001b[1;31mDas Ausführen von Zellen mit \"ml_env\" erfordert das Paket ipykernel.\n",
      "\u001b[1;31mRun the following command to install 'ipykernel' into the Python environment. \n",
      "\u001b[1;31mCommand: 'conda install -n ml_env ipykernel --update-deps --force-reinstall'"
     ]
    }
   ],
   "source": [
    "fig = plt.figure(figsize=(6, 6))\n",
    "ax = fig.add_subplot(111)\n",
    "ax.set_title('DM_HF')\n",
    "image = ax.imshow(hf_1dm)\n",
    "plt.colorbar(image)\n",
    "plt.show()"
   ]
  },
  {
   "attachments": {},
   "cell_type": "markdown",
   "metadata": {},
   "source": [
    "**Fourier transform of HF_DM**"
   ]
  },
  {
   "cell_type": "code",
   "execution_count": null,
   "metadata": {},
   "outputs": [
    {
     "ename": "",
     "evalue": "",
     "output_type": "error",
     "traceback": [
      "\u001b[1;31mDas Ausführen von Zellen mit \"ml_env\" erfordert das Paket ipykernel.\n",
      "\u001b[1;31mRun the following command to install 'ipykernel' into the Python environment. \n",
      "\u001b[1;31mCommand: 'conda install -n ml_env ipykernel --update-deps --force-reinstall'"
     ]
    }
   ],
   "source": [
    "hf_dm_fft = np.abs(np.fft.fft2(hf_1dm))"
   ]
  },
  {
   "cell_type": "code",
   "execution_count": null,
   "metadata": {},
   "outputs": [
    {
     "ename": "",
     "evalue": "",
     "output_type": "error",
     "traceback": [
      "\u001b[1;31mDas Ausführen von Zellen mit \"ml_env\" erfordert das Paket ipykernel.\n",
      "\u001b[1;31mRun the following command to install 'ipykernel' into the Python environment. \n",
      "\u001b[1;31mCommand: 'conda install -n ml_env ipykernel --update-deps --force-reinstall'"
     ]
    }
   ],
   "source": [
    "fig_fft = plt.figure(figsize=(6, 6))\n",
    "ax_fft = fig_fft.add_subplot(111)\n",
    "ax_fft.set_title('DM_HF_FFT')\n",
    "image_fft = ax_fft.imshow(hf_dm_fft)\n",
    "plt.colorbar(image_fft)\n",
    "plt.show()"
   ]
  },
  {
   "cell_type": "code",
   "execution_count": null,
   "metadata": {},
   "outputs": [
    {
     "ename": "",
     "evalue": "",
     "output_type": "error",
     "traceback": [
      "\u001b[1;31mDas Ausführen von Zellen mit \"ml_env\" erfordert das Paket ipykernel.\n",
      "\u001b[1;31mRun the following command to install 'ipykernel' into the Python environment. \n",
      "\u001b[1;31mCommand: 'conda install -n ml_env ipykernel --update-deps --force-reinstall'"
     ]
    }
   ],
   "source": [
    "hf_h_ij = mol.intor(\"int1e_nuc\") + mol.intor(\"int1e_kin\")\n",
    "hf_h_ijkl = mol.intor(\"int2e\")\n",
    "hf_energy_core = np.einsum(\"pq,qp\", hf_h_ij, hf_1dm)\n",
    "hf_energy_elec = hf_energy_core + 0.5 * np.einsum(\"pqrs,pqrs\", hf_h_ijkl, hf_2dm)\n",
    "hf_guessed_energy = hf_energy_elec + mol.energy_nuc()"
   ]
  },
  {
   "cell_type": "code",
   "execution_count": null,
   "metadata": {},
   "outputs": [
    {
     "ename": "",
     "evalue": "",
     "output_type": "error",
     "traceback": [
      "\u001b[1;31mDas Ausführen von Zellen mit \"ml_env\" erfordert das Paket ipykernel.\n",
      "\u001b[1;31mRun the following command to install 'ipykernel' into the Python environment. \n",
      "\u001b[1;31mCommand: 'conda install -n ml_env ipykernel --update-deps --force-reinstall'"
     ]
    }
   ],
   "source": [
    "print(f\"Correct HF energy: {hf_energy}\")\n",
    "print(f\"Guessed HF energy: {hf_guessed_energy}\")\n",
    "print(f\"Guessed HF core energy: {hf_energy_core}\")"
   ]
  },
  {
   "attachments": {},
   "cell_type": "markdown",
   "metadata": {},
   "source": [
    "**Moller Plesset Perturbation theory**"
   ]
  },
  {
   "cell_type": "code",
   "execution_count": null,
   "metadata": {},
   "outputs": [
    {
     "ename": "",
     "evalue": "",
     "output_type": "error",
     "traceback": [
      "\u001b[1;31mDas Ausführen von Zellen mit \"ml_env\" erfordert das Paket ipykernel.\n",
      "\u001b[1;31mRun the following command to install 'ipykernel' into the Python environment. \n",
      "\u001b[1;31mCommand: 'conda install -n ml_env ipykernel --update-deps --force-reinstall'"
     ]
    }
   ],
   "source": [
    "mp2_result = mp.MP2(hf_result).run()\n",
    "mp2_1dm = mp2_result.make_rdm1(ao_repr=True)\n",
    "#mp2_2dm = mp2_result.make_rdm2(ao_repr=True)\n",
    "mp2_energy = mp2_result.e_tot"
   ]
  },
  {
   "cell_type": "code",
   "execution_count": null,
   "metadata": {},
   "outputs": [
    {
     "ename": "",
     "evalue": "",
     "output_type": "error",
     "traceback": [
      "\u001b[1;31mDas Ausführen von Zellen mit \"ml_env\" erfordert das Paket ipykernel.\n",
      "\u001b[1;31mRun the following command to install 'ipykernel' into the Python environment. \n",
      "\u001b[1;31mCommand: 'conda install -n ml_env ipykernel --update-deps --force-reinstall'"
     ]
    }
   ],
   "source": [
    "fig_mp2 = plt.figure(figsize=(6, 6))\n",
    "ax_mp2 = fig_mp2.add_subplot(111)\n",
    "ax_mp2.set_title('P_ij PHF')\n",
    "image_mp2 = ax_mp2.imshow(mp2_1dm)\n",
    "plt.colorbar(image_mp2)\n",
    "plt.imshow(mp2_1dm)"
   ]
  },
  {
   "cell_type": "code",
   "execution_count": null,
   "metadata": {},
   "outputs": [
    {
     "ename": "",
     "evalue": "",
     "output_type": "error",
     "traceback": [
      "\u001b[1;31mDas Ausführen von Zellen mit \"ml_env\" erfordert das Paket ipykernel.\n",
      "\u001b[1;31mRun the following command to install 'ipykernel' into the Python environment. \n",
      "\u001b[1;31mCommand: 'conda install -n ml_env ipykernel --update-deps --force-reinstall'"
     ]
    }
   ],
   "source": [
    "fig_diff = plt.figure(figsize=(6, 6))\n",
    "ax_diff = fig_diff.add_subplot(111)\n",
    "ax_diff.set_title('DM_HF - DM_MP2')\n",
    "image_diff = ax_diff.imshow(hf_1dm - mp2_1dm)\n",
    "plt.colorbar(image_diff)\n",
    "plt.show()"
   ]
  },
  {
   "cell_type": "code",
   "execution_count": null,
   "metadata": {},
   "outputs": [
    {
     "ename": "",
     "evalue": "",
     "output_type": "error",
     "traceback": [
      "\u001b[1;31mDas Ausführen von Zellen mit \"ml_env\" erfordert das Paket ipykernel.\n",
      "\u001b[1;31mRun the following command to install 'ipykernel' into the Python environment. \n",
      "\u001b[1;31mCommand: 'conda install -n ml_env ipykernel --update-deps --force-reinstall'"
     ]
    }
   ],
   "source": [
    "mp2_h_ij = mol.intor(\"int1e_nuc\") + mol.intor(\"int1e_kin\")\n",
    "mp2_h_ijkl = mol.intor(\"int2e\")\n",
    "mp2_energy_core = np.einsum(\"pq,qp\", mp2_h_ij, mp2_1dm)\n",
    "#mp2_energy_elec = mp2_energy_core + 0.5 * np.einsum(\"pqrs,pqrs\", mp2_h_ijkl, mp2_2dm)\n",
    "#mp2_guessed_energy = mp2_energy_elec + mol.energy_nuc()"
   ]
  },
  {
   "cell_type": "code",
   "execution_count": null,
   "metadata": {},
   "outputs": [
    {
     "ename": "",
     "evalue": "",
     "output_type": "error",
     "traceback": [
      "\u001b[1;31mDas Ausführen von Zellen mit \"ml_env\" erfordert das Paket ipykernel.\n",
      "\u001b[1;31mRun the following command to install 'ipykernel' into the Python environment. \n",
      "\u001b[1;31mCommand: 'conda install -n ml_env ipykernel --update-deps --force-reinstall'"
     ]
    }
   ],
   "source": [
    "print(f\"Correct MP2 energy: {mp2_energy}\")\n",
    "#print(f\"Guessed MP2 energy: {mp2_guessed_energy}\")\n",
    "print(f\"Guessed MP2 core energy: {mp2_energy_core}\")"
   ]
  },
  {
   "attachments": {},
   "cell_type": "markdown",
   "metadata": {},
   "source": [
    "**Creating H2O test data**"
   ]
  },
  {
   "cell_type": "code",
   "execution_count": null,
   "metadata": {},
   "outputs": [
    {
     "ename": "",
     "evalue": "",
     "output_type": "error",
     "traceback": [
      "\u001b[1;31mDas Ausführen von Zellen mit \"ml_env\" erfordert das Paket ipykernel.\n",
      "\u001b[1;31mRun the following command to install 'ipykernel' into the Python environment. \n",
      "\u001b[1;31mCommand: 'conda install -n ml_env ipykernel --update-deps --force-reinstall'"
     ]
    }
   ],
   "source": [
    "h2 = gto.Mole()\n",
    "h2.atom = [['H', (0, 2, 0)], ['H', (2, 0, 0)]]\n",
    "h2.basis = 'ccpvdz'\n",
    "h2.unit = 'B'\n",
    "h2.build()\n",
    "hf_h2 = scf.RHF(h2).run()\n",
    "mo_coeff = hf_h2.mo_coeff"
   ]
  },
  {
   "cell_type": "code",
   "execution_count": null,
   "metadata": {},
   "outputs": [
    {
     "ename": "",
     "evalue": "",
     "output_type": "error",
     "traceback": [
      "\u001b[1;31mDas Ausführen von Zellen mit \"ml_env\" erfordert das Paket ipykernel.\n",
      "\u001b[1;31mRun the following command to install 'ipykernel' into the Python environment. \n",
      "\u001b[1;31mCommand: 'conda install -n ml_env ipykernel --update-deps --force-reinstall'"
     ]
    }
   ],
   "source": [
    "hf_h2_1dm = hf_h2.make_rdm1()\n",
    "S = h2.intor(\"int1e_ovlp\")\n",
    "S_transformed = mo_coeff.T @ S @ mo_coeff\n",
    "fig_h2 = plt.figure(figsize=(6, 6))\n",
    "ax_h2 = fig_h2.add_subplot(111)\n",
    "ax_h2.set_title('DM_MP2')\n",
    "image_h2 = ax_h2.imshow(S_transformed)\n",
    "plt.colorbar(image_h2)"
   ]
  },
  {
   "cell_type": "code",
   "execution_count": null,
   "metadata": {},
   "outputs": [
    {
     "ename": "",
     "evalue": "",
     "output_type": "error",
     "traceback": [
      "\u001b[1;31mDas Ausführen von Zellen mit \"ml_env\" erfordert das Paket ipykernel.\n",
      "\u001b[1;31mRun the following command to install 'ipykernel' into the Python environment. \n",
      "\u001b[1;31mCommand: 'conda install -n ml_env ipykernel --update-deps --force-reinstall'"
     ]
    }
   ],
   "source": [
    "h2_mp2 = mp.MP2(hf_h2).run()\n",
    "h2_mp2_1dm = h2_mp2.make_rdm1(ao_repr=False)\n",
    "h2_mp2_1dm = mo_coeff @ h2_mp2_1dm @ mo_coeff.T\n",
    "fig_h2 = plt.figure(figsize=(6, 6))\n",
    "ax_h2 = fig_h2.add_subplot(111)\n",
    "ax_h2.set_title('P_ij HF - P_ij PHF')\n",
    "image_h2 = ax_h2.imshow(hf_h2_1dm - h2_mp2_1dm)\n",
    "plt.colorbar(image_h2)"
   ]
  },
  {
   "attachments": {},
   "cell_type": "markdown",
   "metadata": {},
   "source": [
    "**Plotting electron density for H2O**"
   ]
  },
  {
   "cell_type": "code",
   "execution_count": null,
   "metadata": {},
   "outputs": [
    {
     "ename": "",
     "evalue": "",
     "output_type": "error",
     "traceback": [
      "\u001b[1;31mDas Ausführen von Zellen mit \"ml_env\" erfordert das Paket ipykernel.\n",
      "\u001b[1;31mRun the following command to install 'ipykernel' into the Python environment. \n",
      "\u001b[1;31mCommand: 'conda install -n ml_env ipykernel --update-deps --force-reinstall'"
     ]
    }
   ],
   "source": [
    "ticks = 30\n",
    "lane = np.linspace(-3, 3, ticks)\n",
    "x_center = 1\n",
    "y_center = 1\n",
    "xyz_points = np.array([[x + x_center, y + y_center, 0] for x in lane for y in lane])\n",
    "\n",
    "\n",
    "def density_matrix_pointwise(coords, mol, dm, return_type=\"dm\"):\n",
    "    ao_vals = np.array(mol.eval_ao(\"GTOval_sph\", coords))\n",
    "    n_coords = len(coords)\n",
    "    n_orbitals = ao_vals.shape[-1]\n",
    "    ao_vals = ao_vals.reshape(n_coords, 1, n_orbitals)\n",
    "    #ao_vals_pointwise = np.matmul(ao_vals_dagger, ao_vals)\n",
    "    #ao_vals_pointwise = [[coords[i].tolist(), ao_vals_pointwise[i].tolist()] for i in range(n_coords)]\n",
    "    if return_type == \"ao_vals\":\n",
    "        return ao_vals\n",
    "    elif return_type == \"density\":\n",
    "        res = []\n",
    "        for i in range(len(coords)):\n",
    "            [x, y, _] = coords[i]\n",
    "            ao_vals_for_point = ao_vals[i].flatten()\n",
    "            z = np.einsum(\"ij,i,j\", dm, ao_vals_for_point, ao_vals_for_point)\n",
    "            res.append([x, y, z])\n",
    "        res = np.array(res)\n",
    "        return res\n",
    "    return ao_vals\n",
    "\n",
    "dm = hf_h2_1dm\n",
    "density_pointwise = density_matrix_pointwise(xyz_points, h2, dm, \"density\")\n",
    "X = density_pointwise[:, 0]\n",
    "Y = density_pointwise[:, 1]\n",
    "Z = density_pointwise[:, 2]\n",
    "X = X.reshape(ticks, ticks)\n",
    "Y = Y.reshape(ticks, ticks)\n",
    "Z = Z.reshape(ticks, ticks)"
   ]
  },
  {
   "cell_type": "code",
   "execution_count": null,
   "metadata": {},
   "outputs": [
    {
     "ename": "",
     "evalue": "",
     "output_type": "error",
     "traceback": [
      "\u001b[1;31mDas Ausführen von Zellen mit \"ml_env\" erfordert das Paket ipykernel.\n",
      "\u001b[1;31mRun the following command to install 'ipykernel' into the Python environment. \n",
      "\u001b[1;31mCommand: 'conda install -n ml_env ipykernel --update-deps --force-reinstall'"
     ]
    }
   ],
   "source": [
    "fig = plt.figure()\n",
    "ax = fig.add_subplot(111, projection='3d')\n",
    "ax.plot_surface(X, Y, Z, cmap=\"viridis\")\n",
    "ax.set_xlabel('X')\n",
    "ax.set_ylabel('Y')\n",
    "ax.set_zlabel('ρ')\n",
    "ax.set_title('H2 electron density')\n",
    "ax.view_init(35, 30)\n",
    "plt.show()"
   ]
  },
  {
   "cell_type": "code",
   "execution_count": null,
   "metadata": {},
   "outputs": [
    {
     "ename": "",
     "evalue": "",
     "output_type": "error",
     "traceback": [
      "\u001b[1;31mDas Ausführen von Zellen mit \"ml_env\" erfordert das Paket ipykernel.\n",
      "\u001b[1;31mRun the following command to install 'ipykernel' into the Python environment. \n",
      "\u001b[1;31mCommand: 'conda install -n ml_env ipykernel --update-deps --force-reinstall'"
     ]
    }
   ],
   "source": []
  },
  {
   "cell_type": "code",
   "execution_count": null,
   "metadata": {},
   "outputs": [
    {
     "ename": "",
     "evalue": "",
     "output_type": "error",
     "traceback": [
      "\u001b[1;31mDas Ausführen von Zellen mit \"ml_env\" erfordert das Paket ipykernel.\n",
      "\u001b[1;31mRun the following command to install 'ipykernel' into the Python environment. \n",
      "\u001b[1;31mCommand: 'conda install -n ml_env ipykernel --update-deps --force-reinstall'"
     ]
    }
   ],
   "source": [
    "ticks = 30\n",
    "coords = [[x, y, 0] for x in range(ticks) for y in range(ticks)]"
   ]
  },
  {
   "cell_type": "code",
   "execution_count": null,
   "metadata": {},
   "outputs": [
    {
     "ename": "",
     "evalue": "",
     "output_type": "error",
     "traceback": [
      "\u001b[1;31mDas Ausführen von Zellen mit \"ml_env\" erfordert das Paket ipykernel.\n",
      "\u001b[1;31mRun the following command to install 'ipykernel' into the Python environment. \n",
      "\u001b[1;31mCommand: 'conda install -n ml_env ipykernel --update-deps --force-reinstall'"
     ]
    }
   ],
   "source": [
    "cutoff = 5\n",
    "dist_matrix = cdist(coords, coords)\n",
    "idx = np.arange(len(coords))\n",
    "neighbour_coords = (dist_matrix < cutoff) * idx[np.newaxis, :]\n",
    "neighbour_coords[neighbour_coords == 0.0] = 1500"
   ]
  },
  {
   "cell_type": "code",
   "execution_count": null,
   "metadata": {},
   "outputs": [
    {
     "ename": "",
     "evalue": "",
     "output_type": "error",
     "traceback": [
      "\u001b[1;31mDas Ausführen von Zellen mit \"ml_env\" erfordert das Paket ipykernel.\n",
      "\u001b[1;31mRun the following command to install 'ipykernel' into the Python environment. \n",
      "\u001b[1;31mCommand: 'conda install -n ml_env ipykernel --update-deps --force-reinstall'"
     ]
    }
   ],
   "source": [
    "plt.imshow(neighbour_coords, cmap='viridis', interpolation='nearest')\n",
    "\n",
    "# Add colorbar for reference (optional)\n",
    "plt.colorbar()\n",
    "\n",
    "# Show the plot\n",
    "plt.show()"
   ]
  },
  {
   "attachments": {},
   "cell_type": "markdown",
   "metadata": {},
   "source": [
    "**TensorFlow tests**"
   ]
  },
  {
   "cell_type": "code",
   "execution_count": null,
   "metadata": {},
   "outputs": [
    {
     "ename": "",
     "evalue": "",
     "output_type": "error",
     "traceback": [
      "\u001b[1;31mDas Ausführen von Zellen mit \"ml_env\" erfordert das Paket ipykernel.\n",
      "\u001b[1;31mRun the following command to install 'ipykernel' into the Python environment. \n",
      "\u001b[1;31mCommand: 'conda install -n ml_env ipykernel --update-deps --force-reinstall'"
     ]
    }
   ],
   "source": [
    "import tensorflow as tf\n",
    "basis = \"ccpvdz\""
   ]
  },
  {
   "cell_type": "code",
   "execution_count": null,
   "metadata": {},
   "outputs": [
    {
     "ename": "",
     "evalue": "",
     "output_type": "error",
     "traceback": [
      "\u001b[1;31mDas Ausführen von Zellen mit \"ml_env\" erfordert das Paket ipykernel.\n",
      "\u001b[1;31mRun the following command to install 'ipykernel' into the Python environment. \n",
      "\u001b[1;31mCommand: 'conda install -n ml_env ipykernel --update-deps --force-reinstall'"
     ]
    }
   ],
   "source": [
    "def hartree_fock_call(R, coords):\n",
    "    mol = gto.M()\n",
    "    mol.atom = list(zip([1, 1], R))\n",
    "    mol.basis = basis\n",
    "    mol.build()\n",
    "    ao_vals = np.array(mol.eval_ao(\"GTOval_sph\", coords))\n",
    "    # shape of ao_vals: (n_coords, n_aovals)\n",
    "    return ao_vals\n",
    "\n",
    "def hartree_fock_tensor_call(R_tensor, coords):\n",
    "    n = len(R_tensor)\n",
    "    return np.array([hartree_fock_call(R_tensor[i], coords) for i in range(n)])\n",
    "\n",
    "\n",
    "def call(inputs):\n",
    "    out = tf.numpy_function(hartree_fock_tensor_call, inp=inputs, Tout=tf.float32)\n",
    "    return out"
   ]
  },
  {
   "cell_type": "code",
   "execution_count": null,
   "metadata": {},
   "outputs": [
    {
     "ename": "",
     "evalue": "",
     "output_type": "error",
     "traceback": [
      "\u001b[1;31mDas Ausführen von Zellen mit \"ml_env\" erfordert das Paket ipykernel.\n",
      "\u001b[1;31mRun the following command to install 'ipykernel' into the Python environment. \n",
      "\u001b[1;31mCommand: 'conda install -n ml_env ipykernel --update-deps --force-reinstall'"
     ]
    }
   ],
   "source": [
    "R_tensor = [[0, 0, 0], [0.5, 0, 0]]\n",
    "R_tensor = np.array(R_tensor)\n",
    "R_tensor = R_tensor.reshape((1, 2, 3))\n",
    "R_tensor.shape\n",
    "coords = np.array(R_tensor)\n",
    "inputs = (R_tensor, coords)\n",
    "out = call(inputs)\n",
    "coords_neighbors_idx = np.zeros(2, dtype=np.int32)\n",
    "out = out, coords_neighbors_idx"
   ]
  },
  {
   "cell_type": "code",
   "execution_count": null,
   "metadata": {},
   "outputs": [
    {
     "ename": "",
     "evalue": "",
     "output_type": "error",
     "traceback": [
      "\u001b[1;31mDas Ausführen von Zellen mit \"ml_env\" erfordert das Paket ipykernel.\n",
      "\u001b[1;31mRun the following command to install 'ipykernel' into the Python environment. \n",
      "\u001b[1;31mCommand: 'conda install -n ml_env ipykernel --update-deps --force-reinstall'"
     ]
    }
   ],
   "source": [
    "def next_call(inputs):\n",
    "    out, coords_neighbors_idx = inputs\n",
    "    out_transformed = out\n",
    "    print(out_transformed.shape)\n",
    "    n_batch, n_grid, n_ao = out_transformed.shape\n",
    "    out_dummy = np.zeros(shape=(n_batch, n_grid + 1, n_ao))\n",
    "    out_dummy[:, :n_grid, :] = out_transformed\n",
    "    messages = tf.gather(out_dummy, coords_neighbors_idx)\n",
    "    messages = tf.reduce_sum(messages, axis=-2)\n",
    "    out = out_transformed + messages\n",
    "    return out"
   ]
  },
  {
   "cell_type": "code",
   "execution_count": null,
   "metadata": {},
   "outputs": [
    {
     "ename": "",
     "evalue": "",
     "output_type": "error",
     "traceback": [
      "\u001b[1;31mDas Ausführen von Zellen mit \"ml_env\" erfordert das Paket ipykernel.\n",
      "\u001b[1;31mRun the following command to install 'ipykernel' into the Python environment. \n",
      "\u001b[1;31mCommand: 'conda install -n ml_env ipykernel --update-deps --force-reinstall'"
     ]
    }
   ],
   "source": [
    "next_call(out)"
   ]
  }
 ],
 "metadata": {
  "kernelspec": {
   "display_name": "Python 3",
   "language": "python",
   "name": "python3"
  },
  "language_info": {
   "codemirror_mode": {
    "name": "ipython",
    "version": 3
   },
   "file_extension": ".py",
   "mimetype": "text/x-python",
   "name": "python",
   "nbconvert_exporter": "python",
   "pygments_lexer": "ipython3",
   "version": "3.9.7"
  },
  "orig_nbformat": 4
 },
 "nbformat": 4,
 "nbformat_minor": 2
}
