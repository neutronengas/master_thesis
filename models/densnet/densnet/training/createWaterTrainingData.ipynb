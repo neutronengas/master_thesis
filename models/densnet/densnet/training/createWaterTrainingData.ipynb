{
 "cells": [
  {
   "cell_type": "code",
   "execution_count": 3,
   "metadata": {},
   "outputs": [
    {
     "name": "stderr",
     "output_type": "stream",
     "text": [
      "/Users/benni/opt/anaconda3/envs/ml_env/lib/python3.9/site-packages/pyscf/dft/libxc.py:772: UserWarning: Since PySCF-2.3, B3LYP (and B3P86) are changed to the VWN-RPA variant, the same to the B3LYP functional in Gaussian and ORCA (issue 1480). To restore the VWN5 definition, you can put the setting \"B3LYP_WITH_VWN5 = True\" in pyscf_conf.py\n",
      "  warnings.warn('Since PySCF-2.3, B3LYP (and B3P86) are changed to the VWN-RPA variant, '\n"
     ]
    }
   ],
   "source": [
    "from pyscf import gto, scf, md\n",
    "import re\n",
    "import pickle\n",
    "import numpy as np\n",
    "import os "
   ]
  },
  {
   "cell_type": "code",
   "execution_count": 4,
   "metadata": {},
   "outputs": [],
   "source": [
    "def run_md_simulation():\n",
    "    h2 = gto.Mole()\n",
    "    h2.atom = [['H', (0.7, 0, 0)], ['H', (-0.7, 0, 0)]]\n",
    "    h2.basis = 'ccpvdz'\n",
    "    h2.unit = 'B'\n",
    "    h2.build() \n",
    "    h2._atom\n",
    "    mf = scf.RHF(h2)\n",
    "    mf.kernel()\n",
    "    mycas = mf.CASSCF(2, 2)\n",
    "    myscanner = mycas.nuc_grad_method().as_scanner()\n",
    "\n",
    "    # Generate the integrator\n",
    "    # sets the time step to 5 a.u. and will run for 100 steps\n",
    "    # or for 50 a.u.\n",
    "    myintegrator = md.NVE(myscanner,\n",
    "                                dt=1,\n",
    "                                steps=1200,\n",
    "                                energy_output=\"BOMD.md.energies\",\n",
    "                                trajectory_output=\"BOMD.md.xyz\",\n",
    "                                verbose=0).run()\n",
    "\n",
    "    # Note that we can also just pass the CASSCF object directly to\n",
    "    # generate the integrator and it will automatically convert it to a scanner\n",
    "    # myintegrator = pyscf.md.NVE(mycas, dt=5, steps=100)\n",
    "\n",
    "    # Close the file streams for the energy and trajectory.\n",
    "    myintegrator.energy_output.close()\n",
    "    myintegrator.trajectory_output.close()\n"
   ]
  },
  {
   "cell_type": "code",
   "execution_count": 5,
   "metadata": {},
   "outputs": [],
   "source": [
    "def create_grid_coordinates(ticks=30):\n",
    "    raw_data = open(\"../../data/BOMD.md.xyz\", \"r\").read() + \"2\\n\"\n",
    "    raw_data = raw_data.split(\"MD Time\")[1:]\n",
    "    R = []\n",
    "    for n in range(len(raw_data)):\n",
    "        data_point = raw_data[n]\n",
    "        data_point = data_point.split(\"\\n\")[1:-2]\n",
    "        data_point = [re.sub(r'\\s+', ',', coords).split(\",\") for coords in data_point]\n",
    "        data_point = [[x, y, z] for [atom, x, y, z] in data_point]\n",
    "        R.append(data_point)\n",
    "    R = np.array(R, dtype=np.float32)\n",
    "    R_reshaped = R.reshape((len(raw_data) * 2, 3))\n",
    "    max_abs_value = np.sqrt((R_reshaped * R_reshaped).sum(axis=-1)).max()\n",
    "    # since the hydrogen molecule is always centered around the origin, grid axis can be chosen to be symmetrical wrt origin\n",
    "    array = np.linspace(-max_abs_value / 2, max_abs_value, ticks)\n",
    "    coords = np.array([[x, y, 0] for x in array for y in array])\n",
    "    data_dict = {\"R\": R, \"coords\": coords}\n",
    "    pickle.dump(data_dict, open(f\"../../data/md_h2_R_coords.npz\", \"wb\"))"
   ]
  },
  {
   "cell_type": "code",
   "execution_count": 52,
   "metadata": {},
   "outputs": [],
   "source": [
    "def create_densities_and_corrs(length, overwrite=False, with_corrs=False):\n",
    "    if overwrite:\n",
    "        data_dict = {key: None for key in [\"R\", \"densities\", \"corrs\", \"coords\"]}\n",
    "        with open(\"../../data/md_h2.npz\", \"wb\") as f:\n",
    "            pickle.dump(data_dict, f)\n",
    "    R_and_coords = np.load(\"../../data/md_h2_R_coords.npz\", allow_pickle=True)\n",
    "    R = R_and_coords[\"R\"]\n",
    "    coords = R_and_coords[\"coords\"]\n",
    "    for [R1, R2] in R[:length]:\n",
    "        atom_data = [[1, R1.tolist()], [1, R2.tolist()]]\n",
    "        mol = gto.M()\n",
    "        mol.atom = atom_data\n",
    "        mol.basis = \"ccpvdz\"\n",
    "        mol.build()\n",
    "        hf = scf.RHF(mol).run(verbose=0)\n",
    "        rdm1 = hf.make_rdm1()\n",
    "        rdm2 = hf.make_rdm2()\n",
    "        ao_vals = np.array(mol.eval_ao(\"GTOval_sph\", coords))\n",
    "        densities_for_molecule = np.einsum(\"ij,ni,nj->n\", rdm1, ao_vals, ao_vals)\n",
    "        atom_data = [[x, y, z] for [i, [x, y, z]] in atom_data]\n",
    "\n",
    "        temp_dict = {\n",
    "            \"R\": np.array(atom_data, dtype=np.float32)[np.newaxis, :, :], \n",
    "            \"densities\": densities_for_molecule[np.newaxis, :]\n",
    "        }\n",
    "        \n",
    "        if with_corrs:\n",
    "            corrs_for_molecule = 0.5 * np.einsum(\"ijkl,ni,nj,mk,ml->\", rdm2, ao_vals, ao_vals, ao_vals, ao_vals)\n",
    "            temp_dict[\"corrs\"] = corrs_for_molecule\n",
    "\n",
    "        file_name = \"../../data/md_h2.npz\"\n",
    "        current_data = np.load(file_name, allow_pickle=True)\n",
    "        for key in [\"R\", \"densities\", \"corrs\"]:\n",
    "            if not with_corrs and key == \"corrs\":\n",
    "                continue\n",
    "            if current_data[key] is None:\n",
    "                current_data[key] = temp_dict[key]\n",
    "            else:\n",
    "                current_data[key] = np.concatenate((current_data[key], temp_dict[key]))\n",
    "        if current_data[\"coords\"] is None:\n",
    "            current_data[\"coords\"] = coords\n",
    "        with open(\"../../data/md_h2.npz\", \"wb\") as f:\n",
    "            pickle.dump(current_data, f)\n",
    "        "
   ]
  },
  {
   "cell_type": "code",
   "execution_count": 53,
   "metadata": {},
   "outputs": [],
   "source": [
    "create_densities_and_corrs()"
   ]
  }
 ],
 "metadata": {
  "kernelspec": {
   "display_name": "ml_env",
   "language": "python",
   "name": "python3"
  },
  "language_info": {
   "codemirror_mode": {
    "name": "ipython",
    "version": 3
   },
   "file_extension": ".py",
   "mimetype": "text/x-python",
   "name": "python",
   "nbconvert_exporter": "python",
   "pygments_lexer": "ipython3",
   "version": "3.9.16"
  },
  "orig_nbformat": 4
 },
 "nbformat": 4,
 "nbformat_minor": 2
}
