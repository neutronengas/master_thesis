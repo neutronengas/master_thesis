{
 "cells": [
  {
   "cell_type": "code",
   "execution_count": 3,
   "metadata": {},
   "outputs": [],
   "source": [
    "from pyscf import gto, scf, md\n",
    "import re\n",
    "import pickle\n",
    "import numpy as np\n",
    "import os \n",
    "from scipy.spatial.distance import cdist\n",
    "import matplotlib.pyplot as plt \n",
    "from datetime import datetime"
   ]
  },
  {
   "cell_type": "code",
   "execution_count": 4,
   "metadata": {},
   "outputs": [],
   "source": [
    "def run_md_simulation():\n",
    "    h2 = gto.Mole()\n",
    "    h2.atom = [['H', (0.7, 0, 0)], ['H', (-0.7, 0, 0)]]\n",
    "    h2.basis = 'ccpvdz'\n",
    "    h2.unit = 'B'\n",
    "    h2.build() \n",
    "    h2._atom\n",
    "    mf = scf.RHF(h2)\n",
    "    mf.kernel()\n",
    "    mycas = mf.CASSCF(2, 2)\n",
    "    myscanner = mycas.nuc_grad_method().as_scanner()\n",
    "\n",
    "    # Generate the integrator\n",
    "    # sets the time step to 5 a.u. and will run for 100 steps\n",
    "    # or for 50 a.u.\n",
    "    myintegrator = md.NVE(myscanner,\n",
    "                                dt=1,\n",
    "                                steps=1200,\n",
    "                                energy_output=\"BOMD.md.energies\",\n",
    "                                trajectory_output=\"BOMD.md.xyz\",\n",
    "                                verbose=0).run()\n",
    "\n",
    "    # Note that we can also just pass the CASSCF object directly to\n",
    "    # generate the integrator and it will automatically convert it to a scanner\n",
    "    # myintegrator = pyscf.md.NVE(mycas, dt=5, steps=100)\n",
    "\n",
    "    # Close the file streams for the energy and trajectory.\n",
    "    myintegrator.energy_output.close()\n",
    "    myintegrator.trajectory_output.close()\n"
   ]
  },
  {
   "cell_type": "code",
   "execution_count": 5,
   "metadata": {},
   "outputs": [],
   "source": [
    "def create_grid_coordinates(ticks=30):\n",
    "    raw_data = open(\"../../data/BOMD.md.xyz\", \"r\").read() + \"2\\n\"\n",
    "    raw_data = raw_data.split(\"MD Time\")[1:]\n",
    "    R = []\n",
    "    for n in range(len(raw_data)):\n",
    "        data_point = raw_data[n]\n",
    "        data_point = data_point.split(\"\\n\")[1:-2]\n",
    "        data_point = [re.sub(r'\\s+', ',', coords).split(\",\") for coords in data_point]\n",
    "        data_point = [[x, y, z] for [atom, x, y, z] in data_point]\n",
    "        R.append(data_point)\n",
    "    R = np.array(R, dtype=np.float32)\n",
    "    R_reshaped = R.reshape((len(raw_data) * 2, 3))\n",
    "    max_abs_value = 2 * np.sqrt((R_reshaped * R_reshaped).sum(axis=-1)).max()\n",
    "    # since the hydrogen molecule is always centered around the origin, grid axis can be chosen to be symmetrical wrt origin\n",
    "    array = np.linspace(-max_abs_value / 2, max_abs_value, ticks)\n",
    "    coords = np.array([[x, y, 0] for x in array for y in array])\n",
    "    data_dict = {\"R\": R, \"coords\": coords}\n",
    "    pickle.dump(data_dict, open(f\"../../data/md_h2_R_coords.npz\", \"wb\"))"
   ]
  },
  {
   "cell_type": "code",
   "execution_count": 6,
   "metadata": {},
   "outputs": [],
   "source": [
    "def random_sphere_points(num_points):\n",
    "    np.random.seed(0)\n",
    "    x = np.random.normal(0, 1, num_points)\n",
    "    y = np.random.normal(0, 1, num_points)\n",
    "    z = np.random.normal(0, 1, num_points)\n",
    "\n",
    "    points = np.vstack((x, y, z))\n",
    "    norms = np.linalg.norm(points, axis=0)\n",
    "    points = points / norms\n",
    "    points = points.tolist()\n",
    "    [x, y, z] = points"
   ]
  },
  {
   "cell_type": "code",
   "execution_count": 7,
   "metadata": {},
   "outputs": [],
   "source": [
    "def regular_sphere_points(radius, center, azimut_angle):\n",
    "    points = []\n",
    "    n_azimut = np.pi / azimut_angle\n",
    "    d_azi = radius * np.pi / n_azimut\n",
    "    for theta_azi in np.arange(azimut_angle, np.floor(np.pi / azimut_angle) * azimut_angle, azimut_angle):\n",
    "        r_polar = np.sin(theta_azi) * radius\n",
    "        polar_angle_increment = d_azi / r_polar\n",
    "        for phi_pol in np.arange(0, np.floor(2 * np.pi / polar_angle_increment) * polar_angle_increment, polar_angle_increment):\n",
    "            x = radius * np.sin(theta_azi) * np.cos(phi_pol) + center[0]\n",
    "            y = radius * np.sin(theta_azi) * np.sin(phi_pol) + center[1]\n",
    "            z = radius * np.cos(theta_azi) + center[2]\n",
    "            points.append([x, y, z]) \n",
    "    points = np.array(points).T.tolist()\n",
    "    [x, y, z] = points\n",
    "    return points"
   ]
  },
  {
   "cell_type": "code",
   "execution_count": 8,
   "metadata": {},
   "outputs": [
    {
     "data": {
      "text/plain": [
       "array([0., 0., 0.], dtype=float32)"
      ]
     },
     "execution_count": 8,
     "metadata": {},
     "output_type": "execute_result"
    }
   ],
   "source": [
    "R_data = np.load(\"../../data/md_h2_R_coords.npz\", allow_pickle=True)\n",
    "R_total = R_data[\"R\"]\n",
    "R = R_total[0]\n",
    "(R[0] + R[1]) / 2"
   ]
  },
  {
   "cell_type": "code",
   "execution_count": 9,
   "metadata": {},
   "outputs": [],
   "source": [
    "R_data = np.load(\"../../data/md_h2_R_coords.npz\", allow_pickle=True)\n",
    "R_total = R_data[\"R\"]\n",
    "sphere_coords = []\n",
    "line_coords = []\n",
    "for R in R_total:\n",
    "    azimut_angle = np.pi / 8\n",
    "    center = (R[0] + R[1]) / 2\n",
    "    radius = 0.3\n",
    "    coords_per_R = []\n",
    "    for atom in R:\n",
    "        sphere_points = regular_sphere_points(radius, atom, azimut_angle)\n",
    "        coords_per_R.append(sphere_points)\n",
    "    sphere_coords.append(coords_per_R)\n",
    "    line_points = [(np.array(R[0]) + i / 11 * (np.array(R[1]) - np.array(R[0]))).tolist() for i in range(1, 11)]\n",
    "    line_coords.append(line_points)\n",
    "\n",
    "sphere_coords = np.array(sphere_coords)\n",
    "sphere_coords = np.transpose(sphere_coords, (0, 3, 1, 2))\n",
    "(a, b, c, _) = sphere_coords.shape\n",
    "sphere_coords = np.reshape(sphere_coords, newshape=(a, c * b, 3))\n",
    "\n",
    "line_coords = np.array(line_coords)\n",
    "coords = np.concatenate((line_coords, sphere_coords), axis=1)\n",
    "non_grid_data_dict = {\n",
    "    \"R\": R_total,\n",
    "    \"non_grid_coords\": coords\n",
    "}\n",
    "with open(\"../../data/md_h2_R_non_grid_coords.npz\", \"wb\") as f:\n",
    "    pickle.dump(non_grid_data_dict, f)"
   ]
  },
  {
   "cell_type": "code",
   "execution_count": 15,
   "metadata": {},
   "outputs": [],
   "source": [
    "def create_densities_and_corrs(length, overwrite=False, with_corrs=False, verbose=1, corr_cutoff=0.05):\n",
    "    if overwrite:\n",
    "        data_dict = {key: None for key in [\"R\", \"densities\", \"corrs\", \"coords\"]}\n",
    "        with open(\"../../data/md_h2.npz\", \"wb\") as f:\n",
    "            pickle.dump(data_dict, f)\n",
    "    R_and_coords = np.load(\"../../data/md_h2_R_non_grid_coords.npz\", allow_pickle=True)\n",
    "    R = R_and_coords[\"R\"]\n",
    "    all_coords = R_and_coords[\"non_grid_coords\"]\n",
    "    i = 0\n",
    "    if length == -1:\n",
    "        length = len(R)\n",
    "    for i in range(length):\n",
    "        [R1, R2] = R[i]\n",
    "        coords = all_coords[i]\n",
    "        if verbose == 1:\n",
    "            print(i / length)\n",
    "            i += 1\n",
    "        atom_data = [[1, R1.tolist()], [1, R2.tolist()]]\n",
    "        mol = gto.M()\n",
    "        mol.atom = atom_data\n",
    "        mol.basis = \"ccpvdz\"\n",
    "        mol.build()\n",
    "        hf = scf.RHF(mol).run(verbose=0)\n",
    "        rdm1 = hf.make_rdm1()\n",
    "        rdm2 = hf.make_rdm2()\n",
    "        ao_vals = np.array(mol.eval_ao(\"GTOval_sph\", coords))\n",
    "        densities_for_molecule = np.einsum(\"ij,ni,nj->n\", rdm1, ao_vals, ao_vals)\n",
    "        atom_data = [[x, y, z] for [i, [x, y, z]] in atom_data]\n",
    "        temp_dict = {\n",
    "            \"R\": np.array(atom_data, dtype=np.float32)[np.newaxis, :, :], \n",
    "            \"densities\": densities_for_molecule[np.newaxis, :],\n",
    "            \"corrs\": None,\n",
    "            \"coords\": coords[np.newaxis, :]\n",
    "        }\n",
    "        \n",
    "        if with_corrs:\n",
    "            corrs_for_molecule = 0.5 * np.einsum(\"ijkl,ni,nj,mk,ml->nm\", rdm2, ao_vals, ao_vals, ao_vals, ao_vals)\n",
    "            temp_dict[\"corrs\"] = corrs_for_molecule[np.newaxis, :]\n",
    "\n",
    "        file_name = \"../../data/md_h2.npz\"\n",
    "        current_data = np.load(file_name, allow_pickle=True)\n",
    "        for key in [\"R\", \"densities\", \"coords\", \"corrs\"]:\n",
    "            if current_data[key] is None:\n",
    "                current_data[key] = temp_dict[key]\n",
    "            else:\n",
    "                current_data[key] = np.concatenate((current_data[key], temp_dict[key]))\n",
    "        with open(\"../../data/md_h2.npz\", \"wb\") as f:\n",
    "            pickle.dump(current_data, f)\n",
    "        "
   ]
  },
  {
   "cell_type": "code",
   "execution_count": 17,
   "metadata": {},
   "outputs": [
    {
     "name": "stdout",
     "output_type": "stream",
     "text": [
      "0.0\n",
      "(166, 10)\n",
      "(166, 3)\n",
      "Duration: 0:00:01.592237\n",
      "0.1\n",
      "(166, 10)\n",
      "(166, 3)\n",
      "Duration: 0:00:01.521628\n",
      "0.2\n",
      "(166, 10)\n",
      "(166, 3)\n",
      "Duration: 0:00:01.497191\n",
      "0.3\n",
      "(166, 10)\n",
      "(166, 3)\n",
      "Duration: 0:00:01.511920\n",
      "0.4\n",
      "(166, 10)\n",
      "(166, 3)\n",
      "Duration: 0:00:01.525796\n",
      "0.5\n",
      "(166, 10)\n",
      "(166, 3)\n",
      "Duration: 0:00:01.516653\n",
      "0.6\n",
      "(166, 10)\n",
      "(166, 3)\n",
      "Duration: 0:00:01.507871\n",
      "0.7\n",
      "(166, 10)\n",
      "(166, 3)\n",
      "Duration: 0:00:01.511522\n",
      "0.8\n",
      "(166, 10)\n",
      "(166, 3)\n",
      "Duration: 0:00:01.536668\n",
      "0.9\n",
      "(166, 10)\n",
      "(166, 3)\n",
      "Duration: 0:00:01.576565\n"
     ]
    }
   ],
   "source": [
    "create_densities_and_corrs(-1, overwrite=True, with_corrs=True)"
   ]
  },
  {
   "cell_type": "code",
   "execution_count": 12,
   "metadata": {},
   "outputs": [
    {
     "data": {
      "image/png": "[encoded data removed]",
      "text/plain": [
       "<Figure size 432x288 with 1 Axes>"
      ]
     },
     "metadata": {
      "needs_background": "light"
     },
     "output_type": "display_data"
    }
   ],
   "source": [
    "file = np.load(\"../../data/md_h2.npz\", allow_pickle=True)\n",
    "plot_points = file[\"coords\"][0]\n",
    "x = plot_points.T[0]\n",
    "y = plot_points.T[1]\n",
    "z = plot_points.T[2]\n",
    "fig = plt.figure()\n",
    "\n",
    "# Add a 3D subplot\n",
    "ax = fig.add_subplot(111, projection='3d')\n",
    "\n",
    "# Scatter plot the points\n",
    "ax.scatter(x, y, z, c='r', marker='o', s=0.1)\n",
    "\n",
    "# Set labels for the axes\n",
    "ax.set_xlabel('X Label')\n",
    "ax.set_ylabel('Y Label')\n",
    "ax.set_zlabel('Z Label')\n",
    "ax.view_init(45, 90)\n",
    "ax.set_aspect('equal')\n",
    "plt.show()"
   ]
  },
  {
   "cell_type": "code",
   "execution_count": 14,
   "metadata": {},
   "outputs": [
    {
     "data": {
      "text/plain": [
       "(10, 1200, 166, 3)"
      ]
     },
     "execution_count": 14,
     "metadata": {},
     "output_type": "execute_result"
    }
   ],
   "source": [
    "file[\"coords\"].shape"
   ]
  },
  {
   "cell_type": "code",
   "execution_count": null,
   "metadata": {},
   "outputs": [],
   "source": []
  }
 ],
 "metadata": {
  "kernelspec": {
   "display_name": "ml_env",
   "language": "python",
   "name": "python3"
  },
  "language_info": {
   "codemirror_mode": {
    "name": "ipython",
    "version": 3
   },
   "file_extension": ".py",
   "mimetype": "text/x-python",
   "name": "python",
   "nbconvert_exporter": "python",
   "pygments_lexer": "ipython3",
   "version": "3.8.17"
  },
  "orig_nbformat": 4
 },
 "nbformat": 4,
 "nbformat_minor": 2
}
