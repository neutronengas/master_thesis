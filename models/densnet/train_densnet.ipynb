{
 "cells": [
  {
   "cell_type": "code",
   "execution_count": 1,
   "metadata": {},
   "outputs": [
    {
     "name": "stderr",
     "output_type": "stream",
     "text": [
      "/home/benni/.local/lib/python3.8/site-packages/tensorflow_addons/utils/tfa_eol_msg.py:23: UserWarning: \n",
      "\n",
      "TensorFlow Addons (TFA) has ended development and introduction of new features.\n",
      "TFA has entered a minimal maintenance and release mode until a planned end of life in May 2024.\n",
      "Please modify downstream libraries to take dependencies from other repositories in our TensorFlow community (e.g. Keras, Keras-CV, and Keras-NLP). \n",
      "\n",
      "For more information see: https://github.com/tensorflow/addons/issues/2807 \n",
      "\n",
      "  warnings.warn(\n"
     ]
    }
   ],
   "source": [
    "import tensorflow as tf\n",
    "import numpy as np\n",
    "import os\n",
    "import ast\n",
    "import logging\n",
    "import string\n",
    "import random\n",
    "import yaml\n",
    "\n",
    "from datetime import datetime\n",
    "\n",
    "from densnet.model.densnet import DensNet\n",
    "from densnet.model.dumbnet import DumbNet\n",
    "from densnet.model.activations import swish\n",
    "from densnet.training.metrics import Metrics\n",
    "from densnet.training.trainer import Trainer\n",
    "from densnet.training.data_container import DataContainer\n",
    "from densnet.training.data_provider import DataProvider"
   ]
  },
  {
   "cell_type": "code",
   "execution_count": 2,
   "metadata": {},
   "outputs": [],
   "source": [
    "# set up logger\n",
    "logger = logging.getLogger()\n",
    "\n",
    "logger.handlers = []\n",
    "ch = logging.StreamHandler()\n",
    "formatter = logging.Formatter(\n",
    "    fmt='%(asctime)s (%(levelname)s): %(message)s',\n",
    "    datefmt='%Y-%m-%d %H:%M:%S'\n",
    ")\n",
    "ch.setFormatter(formatter)\n",
    "logger.addHandler(ch)\n",
    "logger.setLevel('INFO')\n",
    "os.environ['TF_CPP_MIN_LOG_LEVEL'] = '1'\n",
    "tf.get_logger().setLevel('WARN')\n",
    "tf.autograph.set_verbosity(2)"
   ]
  },
  {
   "cell_type": "code",
   "execution_count": 3,
   "metadata": {},
   "outputs": [],
   "source": [
    "with open('config_densnet.yaml', 'r') as c:\n",
    "    config = yaml.safe_load(c)"
   ]
  },
  {
   "cell_type": "code",
   "execution_count": 4,
   "metadata": {},
   "outputs": [],
   "source": [
    "for key, val in config.items():\n",
    "    if type(val) is str:\n",
    "        try:\n",
    "            config[key] = ast.literal_eval(val)\n",
    "        except (ValueError, SyntaxError):\n",
    "            pass"
   ]
  },
  {
   "cell_type": "code",
   "execution_count": 5,
   "metadata": {},
   "outputs": [],
   "source": [
    "model_name = config['model_name']\n",
    "\n",
    "num_basis_fct = config['num_basis_fct']\n",
    "emb_size = config['emb_size']\n",
    "num_interaction_blocks = config['num_interaction_blocks']\n",
    "ao_vals = config['ao_vals']\n",
    "num_grid_points = config['num_grid_points']\n",
    "\n",
    "num_train = config['num_train']\n",
    "num_valid = config['num_valid']\n",
    "data_seed = config['data_seed']\n",
    "dataset = config['dataset']\n",
    "logdir = config['logdir']\n",
    "\n",
    "num_steps = config['num_steps']\n",
    "ema_decay = config['ema_decay']\n",
    "\n",
    "learning_rate = config['learning_rate']\n",
    "warmup_steps = config['warmup_steps']\n",
    "decay_rate = config['decay_rate']\n",
    "decay_steps = config['decay_steps']\n",
    "\n",
    "batch_size = config['batch_size']\n",
    "evaluation_interval = config['evaluation_interval']\n",
    "save_interval = config['save_interval']\n",
    "restart = config['restart']\n",
    "comment = config['comment']\n",
    "target = config['target']"
   ]
  },
  {
   "attachments": {},
   "cell_type": "markdown",
   "metadata": {},
   "source": [
    "***Create directories***"
   ]
  },
  {
   "cell_type": "code",
   "execution_count": 6,
   "metadata": {},
   "outputs": [
    {
     "name": "stdout",
     "output_type": "stream",
     "text": [
      "Directory: ./logging/20230811_113622_densnet_t9PGsHcc_md_h2.npz_densities_final\n"
     ]
    }
   ],
   "source": [
    "# Used for creating a random \"unique\" id for this run\n",
    "def id_generator(size=8, chars=string.ascii_uppercase + string.ascii_lowercase + string.digits):\n",
    "    return ''.join(random.SystemRandom().choice(chars) for _ in range(size))\n",
    "\n",
    "# Create directories\n",
    "# A unique directory name is created for this run based on the input\n",
    "if restart is None:\n",
    "    directory = (logdir + \"/\" + datetime.now().strftime(\"%Y%m%d_%H%M%S\") + \"_\" + model_name\n",
    "                 + \"_\" + id_generator()\n",
    "                 + \"_\" + os.path.basename(dataset)\n",
    "                 + \"_\" + '-'.join(target)\n",
    "                 + \"_\" + comment)\n",
    "else:\n",
    "    directory = restart\n",
    "logging.info(f\"Directory: {directory}\")\n",
    "\n",
    "if not os.path.exists(directory):\n",
    "    os.makedirs(directory)\n",
    "best_dir = os.path.join(directory, 'best')\n",
    "if not os.path.exists(best_dir):\n",
    "    os.makedirs(best_dir)\n",
    "log_dir = os.path.join(directory, 'logs')\n",
    "if not os.path.exists(log_dir):\n",
    "    os.makedirs(log_dir)\n",
    "best_loss_file = os.path.join(best_dir, 'best_loss.npz')\n",
    "best_ckpt_file = os.path.join(best_dir, 'ckpt')\n",
    "step_ckpt_folder = log_dir"
   ]
  },
  {
   "attachments": {},
   "cell_type": "markdown",
   "metadata": {},
   "source": [
    "***Create summary writer and metrics***"
   ]
  },
  {
   "cell_type": "code",
   "execution_count": 7,
   "metadata": {},
   "outputs": [],
   "source": [
    "summary_writer = tf.summary.create_file_writer(log_dir)\n",
    "train = {}\n",
    "validation = {}\n",
    "train['metrics'] = Metrics('train', target)\n",
    "validation['metrics'] = Metrics('val', target)"
   ]
  },
  {
   "attachments": {},
   "cell_type": "markdown",
   "metadata": {},
   "source": [
    "*Load Dataset*"
   ]
  },
  {
   "cell_type": "code",
   "execution_count": 8,
   "metadata": {},
   "outputs": [],
   "source": [
    "data_container = DataContainer(dataset, target, 0.2)\n",
    "\n",
    "data_provider = DataProvider(data_container, num_train, num_valid, batch_size, seed=data_seed, randomized=True)\n",
    "\n",
    "train['dataset'] = data_provider.get_dataset('train').prefetch(tf.data.experimental.AUTOTUNE)\n",
    "train['dataset_iter'] = iter(train['dataset'])\n",
    "validation['dataset'] = data_provider.get_dataset('val').prefetch(tf.data.experimental.AUTOTUNE)\n",
    "validation['dataset_iter'] = iter(validation['dataset'])"
   ]
  },
  {
   "attachments": {},
   "cell_type": "markdown",
   "metadata": {},
   "source": [
    "*Initialize model*"
   ]
  },
  {
   "cell_type": "code",
   "execution_count": 9,
   "metadata": {},
   "outputs": [],
   "source": [
    "if model_name == \"dumbnet\":\n",
    "    model = DumbNet(ao_vals=ao_vals, num_interaction_blocks=num_interaction_blocks, num_grid_points=num_grid_points, activation=swish)\n",
    "else:\n",
    "    model = DensNet(ao_vals=ao_vals, num_interaction_blocks=num_interaction_blocks, num_grid_points=num_grid_points, activation=swish)"
   ]
  },
  {
   "attachments": {},
   "cell_type": "markdown",
   "metadata": {},
   "source": [
    "*Save/load best recorded loss*"
   ]
  },
  {
   "cell_type": "code",
   "execution_count": 10,
   "metadata": {},
   "outputs": [
    {
     "name": "stderr",
     "output_type": "stream",
     "text": [
      "/home/benni/Dokumente/MA/master_thesis/models/densnet/densnet/training/metrics.py:68: RuntimeWarning: divide by zero encountered in log\n",
      "  return np.mean(np.log(self.maes)).item()\n"
     ]
    }
   ],
   "source": [
    "if os.path.isfile(best_loss_file):\n",
    "    loss_file = np.load(best_loss_file)\n",
    "    metrics_best = {k: v.item() for k, v in loss_file.items()}\n",
    "else:\n",
    "    metrics_best = validation['metrics'].result()\n",
    "    for key in metrics_best.keys():\n",
    "        metrics_best[key] = np.inf\n",
    "    metrics_best['step'] = 0\n",
    "    np.savez(best_loss_file, **metrics_best)"
   ]
  },
  {
   "attachments": {},
   "cell_type": "markdown",
   "metadata": {},
   "source": [
    "*Initialize trainer*"
   ]
  },
  {
   "cell_type": "code",
   "execution_count": 11,
   "metadata": {},
   "outputs": [],
   "source": [
    "trainer = Trainer(model, learning_rate, warmup_steps, decay_steps, decay_rate, ema_decay, max_grad_norm=1000)"
   ]
  },
  {
   "attachments": {},
   "cell_type": "markdown",
   "metadata": {},
   "source": [
    "*Set up checkpointing and load latest checkpoint*"
   ]
  },
  {
   "cell_type": "code",
   "execution_count": 12,
   "metadata": {},
   "outputs": [],
   "source": [
    "# Set up checkpointing\n",
    "ckpt = tf.train.Checkpoint(step=tf.Variable(1), optimizer=trainer.optimizer, model=model)\n",
    "manager = tf.train.CheckpointManager(ckpt, step_ckpt_folder, max_to_keep=3)\n",
    "\n",
    "# Restore latest checkpoint\n",
    "ckpt_restored = tf.train.latest_checkpoint(log_dir)\n",
    "if ckpt_restored is not None:\n",
    "    ckpt.restore(ckpt_restored)"
   ]
  },
  {
   "attachments": {},
   "cell_type": "markdown",
   "metadata": {},
   "source": [
    "*Training loop*"
   ]
  },
  {
   "cell_type": "code",
   "execution_count": 13,
   "metadata": {},
   "outputs": [
    {
     "name": "stdout",
     "output_type": "stream",
     "text": [
      "Tensor(\"densnet/interaction/matact/mul_9:0\", shape=(None, 900), dtype=float32)\n",
      "Tensor(\"densnet/interaction/matact/mul_9:0\", shape=(None, 900), dtype=float32)\n",
      "100/10000 (epoch 4):Loss: train=0.160267, val=0.161367;logMAE: train=-1.830915, val=-1.824075\n",
      "200/10000 (epoch 8):Loss: train=0.159112, val=0.161175;logMAE: train=-1.838147, val=-1.825267\n",
      "300/10000 (epoch 12):Loss: train=0.155265, val=0.160670;logMAE: train=-1.862623, val=-1.828406\n",
      "400/10000 (epoch 15):Loss: train=0.149729, val=0.159712;logMAE: train=-1.898927, val=-1.834381\n",
      "500/10000 (epoch 19):Loss: train=0.142842, val=0.158168;logMAE: train=-1.946016, val=-1.844097\n",
      "600/10000 (epoch 23):Loss: train=0.132224, val=0.155900;logMAE: train=-2.023258, val=-1.858541\n",
      "700/10000 (epoch 26):Loss: train=0.119846, val=0.152766;logMAE: train=-2.121545, val=-1.878845\n",
      "800/10000 (epoch 30):Loss: train=0.103359, val=0.148635;logMAE: train=-2.269549, val=-1.906262\n",
      "900/10000 (epoch 34):Loss: train=0.084181, val=0.143409;logMAE: train=-2.474783, val=-1.942054\n",
      "1000/10000 (epoch 38):Loss: train=0.062459, val=0.137067;logMAE: train=-2.773245, val=-1.987289\n",
      "1100/10000 (epoch 41):Loss: train=0.043847, val=0.129830;logMAE: train=-3.127041, val=-2.041532\n",
      "1200/10000 (epoch 45):Loss: train=0.035490, val=0.122161;logMAE: train=-3.338515, val=-2.102415\n",
      "1300/10000 (epoch 49):Loss: train=0.031971, val=0.114450;logMAE: train=-3.442938, val=-2.167616\n",
      "1400/10000 (epoch 52):Loss: train=0.031474, val=0.106947;logMAE: train=-3.458587, val=-2.235422\n",
      "1500/10000 (epoch 56):Loss: train=0.031332, val=0.099751;logMAE: train=-3.463125, val=-2.305074\n",
      "1600/10000 (epoch 60):Loss: train=0.031502, val=0.092894;logMAE: train=-3.457714, val=-2.376297\n",
      "1700/10000 (epoch 63):Loss: train=0.031295, val=0.086421;logMAE: train=-3.464306, val=-2.448522\n",
      "1800/10000 (epoch 67):Loss: train=0.031438, val=0.080336;logMAE: train=-3.459740, val=-2.521537\n",
      "1900/10000 (epoch 71):Loss: train=0.031341, val=0.074644;logMAE: train=-3.462835, val=-2.595028\n",
      "2000/10000 (epoch 75):Loss: train=0.031210, val=0.069345;logMAE: train=-3.467005, val=-2.668655\n",
      "2100/10000 (epoch 78):Loss: train=0.031491, val=0.064401;logMAE: train=-3.458064, val=-2.742625\n",
      "2200/10000 (epoch 82):Loss: train=0.031246, val=0.059836;logMAE: train=-3.465860, val=-2.816141\n",
      "2300/10000 (epoch 86):Loss: train=0.031129, val=0.055601;logMAE: train=-3.469618, val=-2.889551\n",
      "2400/10000 (epoch 89):Loss: train=0.031170, val=0.051735;logMAE: train=-3.468313, val=-2.961623\n",
      "2500/10000 (epoch 93):Loss: train=0.030472, val=0.048234;logMAE: train=-3.490935, val=-3.031682\n",
      "2600/10000 (epoch 97):Loss: train=0.029858, val=0.045155;logMAE: train=-3.511292, val=-3.097648\n",
      "2700/10000 (epoch 101):Loss: train=0.029015, val=0.042563;logMAE: train=-3.539954, val=-3.156769\n",
      "2800/10000 (epoch 104):Loss: train=0.027997, val=0.040421;logMAE: train=-3.575646, val=-3.208395\n",
      "2900/10000 (epoch 108):Loss: train=0.026658, val=0.038674;logMAE: train=-3.624681, val=-3.252575\n",
      "3000/10000 (epoch 112):Loss: train=0.025617, val=0.037263;logMAE: train=-3.664485, val=-3.289753\n",
      "3100/10000 (epoch 115):Loss: train=0.024214, val=0.036158;logMAE: train=-3.720843, val=-3.319849\n",
      "3200/10000 (epoch 119):Loss: train=0.023451, val=0.035298;logMAE: train=-3.752844, val=-3.343942\n",
      "3300/10000 (epoch 123):Loss: train=0.022503, val=0.034641;logMAE: train=-3.794097, val=-3.362705\n",
      "3400/10000 (epoch 126):Loss: train=0.021550, val=0.034147;logMAE: train=-3.837390, val=-3.377088\n",
      "3500/10000 (epoch 130):Loss: train=0.020350, val=0.033757;logMAE: train=-3.894666, val=-3.388573\n",
      "3600/10000 (epoch 134):Loss: train=0.019305, val=0.033432;logMAE: train=-3.947367, val=-3.398239\n",
      "3700/10000 (epoch 138):Loss: train=0.018065, val=0.033130;logMAE: train=-4.013791, val=-3.407310\n",
      "3800/10000 (epoch 141):Loss: train=0.016870, val=0.032825;logMAE: train=-4.082201, val=-3.416577\n",
      "3900/10000 (epoch 145):Loss: train=0.015559, val=0.032483;logMAE: train=-4.163109, val=-3.427030\n",
      "4000/10000 (epoch 149):Loss: train=0.014370, val=0.032096;logMAE: train=-4.242601, val=-3.439025\n",
      "4100/10000 (epoch 152):Loss: train=0.013234, val=0.031654;logMAE: train=-4.324945, val=-3.452905\n",
      "4200/10000 (epoch 156):Loss: train=0.012020, val=0.031155;logMAE: train=-4.421158, val=-3.468782\n",
      "4300/10000 (epoch 160):Loss: train=0.011105, val=0.030587;logMAE: train=-4.500366, val=-3.487181\n",
      "4400/10000 (epoch 163):Loss: train=0.010110, val=0.029948;logMAE: train=-4.594183, val=-3.508301\n",
      "4500/10000 (epoch 167):Loss: train=0.009443, val=0.029244;logMAE: train=-4.662491, val=-3.532080\n",
      "4600/10000 (epoch 171):Loss: train=0.008864, val=0.028482;logMAE: train=-4.725727, val=-3.558475\n",
      "4700/10000 (epoch 175):Loss: train=0.008337, val=0.027666;logMAE: train=-4.787036, val=-3.587555\n",
      "4800/10000 (epoch 178):Loss: train=0.007925, val=0.026804;logMAE: train=-4.837732, val=-3.619205\n",
      "4900/10000 (epoch 182):Loss: train=0.007622, val=0.025903;logMAE: train=-4.876682, val=-3.653384\n",
      "5000/10000 (epoch 186):Loss: train=0.007081, val=0.024975;logMAE: train=-4.950355, val=-3.689878\n",
      "5100/10000 (epoch 189):Loss: train=0.006785, val=0.024027;logMAE: train=-4.993034, val=-3.728576\n",
      "5200/10000 (epoch 193):Loss: train=0.006314, val=0.023071;logMAE: train=-5.065048, val=-3.769166\n",
      "5300/10000 (epoch 197):Loss: train=0.005905, val=0.022121;logMAE: train=-5.131989, val=-3.811249\n",
      "5400/10000 (epoch 201):Loss: train=0.005554, val=0.021182;logMAE: train=-5.193255, val=-3.854611\n",
      "5500/10000 (epoch 204):Loss: train=0.005251, val=0.020256;logMAE: train=-5.249353, val=-3.899284\n",
      "5600/10000 (epoch 208):Loss: train=0.004997, val=0.019351;logMAE: train=-5.298886, val=-3.945003\n",
      "5700/10000 (epoch 212):Loss: train=0.004842, val=0.018474;logMAE: train=-5.330450, val=-3.991409\n",
      "5800/10000 (epoch 215):Loss: train=0.004661, val=0.017624;logMAE: train=-5.368554, val=-4.038505\n",
      "5900/10000 (epoch 219):Loss: train=0.004522, val=0.016803;logMAE: train=-5.398862, val=-4.086187\n",
      "6000/10000 (epoch 223):Loss: train=0.004425, val=0.016013;logMAE: train=-5.420490, val=-4.134331\n",
      "6100/10000 (epoch 226):Loss: train=0.004244, val=0.015253;logMAE: train=-5.462346, val=-4.182957\n",
      "6200/10000 (epoch 230):Loss: train=0.004137, val=0.014522;logMAE: train=-5.487830, val=-4.232100\n",
      "6300/10000 (epoch 234):Loss: train=0.004049, val=0.013819;logMAE: train=-5.509213, val=-4.281678\n",
      "6400/10000 (epoch 238):Loss: train=0.003926, val=0.013144;logMAE: train=-5.540165, val=-4.331760\n",
      "6500/10000 (epoch 241):Loss: train=0.003799, val=0.012494;logMAE: train=-5.572964, val=-4.382483\n",
      "6600/10000 (epoch 245):Loss: train=0.003703, val=0.011874;logMAE: train=-5.598746, val=-4.433397\n",
      "6700/10000 (epoch 249):Loss: train=0.003673, val=0.011284;logMAE: train=-5.606825, val=-4.484412\n",
      "6800/10000 (epoch 252):Loss: train=0.003560, val=0.010721;logMAE: train=-5.637955, val=-4.535577\n",
      "6900/10000 (epoch 256):Loss: train=0.003468, val=0.010185;logMAE: train=-5.664129, val=-4.586883\n",
      "7000/10000 (epoch 260):Loss: train=0.003374, val=0.009674;logMAE: train=-5.691643, val=-4.638315\n",
      "7100/10000 (epoch 263):Loss: train=0.003291, val=0.009187;logMAE: train=-5.716589, val=-4.689926\n",
      "7200/10000 (epoch 267):Loss: train=0.003207, val=0.008728;logMAE: train=-5.742334, val=-4.741226\n",
      "7300/10000 (epoch 271):Loss: train=0.003169, val=0.008293;logMAE: train=-5.754325, val=-4.792324\n",
      "7400/10000 (epoch 275):Loss: train=0.003087, val=0.007883;logMAE: train=-5.780656, val=-4.843039\n",
      "7500/10000 (epoch 278):Loss: train=0.003060, val=0.007498;logMAE: train=-5.789279, val=-4.893114\n",
      "7600/10000 (epoch 282):Loss: train=0.003019, val=0.007135;logMAE: train=-5.802983, val=-4.942685\n",
      "7700/10000 (epoch 286):Loss: train=0.002959, val=0.006795;logMAE: train=-5.822967, val=-4.991595\n",
      "7800/10000 (epoch 289):Loss: train=0.002932, val=0.006474;logMAE: train=-5.832130, val=-5.039988\n",
      "7900/10000 (epoch 293):Loss: train=0.002842, val=0.006171;logMAE: train=-5.863121, val=-5.087861\n",
      "8000/10000 (epoch 297):Loss: train=0.002816, val=0.005890;logMAE: train=-5.872596, val=-5.134498\n",
      "8100/10000 (epoch 301):Loss: train=0.002769, val=0.005625;logMAE: train=-5.889230, val=-5.180610\n",
      "8200/10000 (epoch 304):Loss: train=0.002760, val=0.005378;logMAE: train=-5.892388, val=-5.225485\n",
      "8300/10000 (epoch 308):Loss: train=0.002734, val=0.005146;logMAE: train=-5.901845, val=-5.269479\n",
      "8400/10000 (epoch 312):Loss: train=0.002672, val=0.004931;logMAE: train=-5.924751, val=-5.312210\n",
      "8500/10000 (epoch 315):Loss: train=0.002636, val=0.004728;logMAE: train=-5.938371, val=-5.354185\n",
      "8600/10000 (epoch 319):Loss: train=0.002599, val=0.004541;logMAE: train=-5.952747, val=-5.394533\n",
      "8700/10000 (epoch 323):Loss: train=0.002571, val=0.004369;logMAE: train=-5.963420, val=-5.433311\n",
      "8800/10000 (epoch 326):Loss: train=0.002508, val=0.004208;logMAE: train=-5.988332, val=-5.470783\n",
      "8900/10000 (epoch 330):Loss: train=0.002487, val=0.004060;logMAE: train=-5.996522, val=-5.506554\n",
      "9000/10000 (epoch 334):Loss: train=0.002431, val=0.003923;logMAE: train=-6.019519, val=-5.540897\n",
      "9100/10000 (epoch 338):Loss: train=0.002401, val=0.003795;logMAE: train=-6.031880, val=-5.574015\n",
      "9200/10000 (epoch 341):Loss: train=0.002382, val=0.003676;logMAE: train=-6.039810, val=-5.605937\n",
      "9300/10000 (epoch 345):Loss: train=0.002352, val=0.003565;logMAE: train=-6.052483, val=-5.636710\n",
      "9400/10000 (epoch 349):Loss: train=0.002331, val=0.003461;logMAE: train=-6.061659, val=-5.666289\n",
      "9500/10000 (epoch 352):Loss: train=0.002314, val=0.003364;logMAE: train=-6.068885, val=-5.694718\n",
      "9600/10000 (epoch 356):Loss: train=0.002297, val=0.003273;logMAE: train=-6.076217, val=-5.721995\n",
      "9700/10000 (epoch 360):Loss: train=0.002309, val=0.003188;logMAE: train=-6.071077, val=-5.748360\n",
      "9800/10000 (epoch 363):Loss: train=0.002288, val=0.003107;logMAE: train=-6.080100, val=-5.773973\n",
      "9900/10000 (epoch 367):Loss: train=0.002289, val=0.003030;logMAE: train=-6.079616, val=-5.799038\n",
      "10000/10000 (epoch 371):Loss: train=0.002262, val=0.002958;logMAE: train=-6.091387, val=-5.823385\n"
     ]
    }
   ],
   "source": [
    "with summary_writer.as_default():\n",
    "    steps_per_epoch = int(np.ceil(num_train / batch_size))\n",
    "\n",
    "    if ckpt_restored is not None:\n",
    "        step_init = ckpt.step.numpy()\n",
    "    else:\n",
    "        step_init = 1\n",
    "    for step in range(step_init, num_steps + 1):\n",
    "        # Update step number\n",
    "        ckpt.step.assign(step)\n",
    "        tf.summary.experimental.set_step(step)\n",
    "\n",
    "        # Perform training step\n",
    "        trainer.train_on_batch(train['dataset_iter'], train['metrics'])\n",
    "\n",
    "        # Save progress\n",
    "        if (step % save_interval == 0):\n",
    "            manager.save()\n",
    "\n",
    "        # Evaluate model and log results\n",
    "        if (step % evaluation_interval == 0):\n",
    "\n",
    "            # Save backup variables and load averaged variables\n",
    "            trainer.save_variable_backups()\n",
    "            trainer.load_averaged_variables()\n",
    "\n",
    "            # Compute results on the validation set\n",
    "            for i in range(int(np.ceil(num_valid / batch_size))):\n",
    "                trainer.test_on_batch(validation['dataset_iter'], validation['metrics'])\n",
    "\n",
    "            # Update and save best result\n",
    "            if validation['metrics'].mean_mae < metrics_best['mean_mae_val']:\n",
    "                metrics_best['step'] = step\n",
    "                metrics_best.update(validation['metrics'].result())\n",
    "\n",
    "                np.savez(best_loss_file, **metrics_best)\n",
    "                model.save_weights(best_ckpt_file)\n",
    "\n",
    "            for key, val in metrics_best.items():\n",
    "                if key != 'step':\n",
    "                    tf.summary.scalar(key + '_best', val)\n",
    "                \n",
    "            epoch = step // steps_per_epoch\n",
    "            logging.info(\n",
    "                f\"{step}/{num_steps} (epoch {epoch + 1}):\"\n",
    "                f\"Loss: train={train['metrics'].loss:.6f}, val={validation['metrics'].loss:.6f};\"\n",
    "                f\"logMAE: train={train['metrics'].mean_log_mae:.6f}, \"\n",
    "                f\"val={validation['metrics'].mean_log_mae:.6f}\"\n",
    "            )\n",
    "\n",
    "            train['metrics'].write()\n",
    "            validation['metrics'].write()\n",
    "\n",
    "            train['metrics'].reset_states()\n",
    "            validation['metrics'].reset_states()\n",
    "\n",
    "            # Restore backup variables\n",
    "            trainer.restore_variable_backups()"
   ]
  }
 ],
 "metadata": {
  "kernelspec": {
   "display_name": "Python 3",
   "language": "python",
   "name": "python3"
  },
  "language_info": {
   "codemirror_mode": {
    "name": "ipython",
    "version": 3
   },
   "file_extension": ".py",
   "mimetype": "text/x-python",
   "name": "python",
   "nbconvert_exporter": "python",
   "pygments_lexer": "ipython3",
   "version": "3.8.17"
  },
  "orig_nbformat": 4
 },
 "nbformat": 4,
 "nbformat_minor": 2
}
