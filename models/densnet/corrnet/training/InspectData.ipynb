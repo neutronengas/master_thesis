{
 "cells": [
  {
   "cell_type": "code",
   "execution_count": 16,
   "metadata": {},
   "outputs": [],
   "source": [
    "from pyscf import gto, scf, md\n",
    "import re\n",
    "import pickle\n",
    "import numpy as np\n",
    "import os \n",
    "from scipy.spatial.distance import cdist\n",
    "from scipy.linalg import block_diag\n",
    "import matplotlib.pyplot as plt \n",
    "from datetime import datetime"
   ]
  },
  {
   "cell_type": "code",
   "execution_count": 3,
   "metadata": {},
   "outputs": [
    {
     "name": "stdout",
     "output_type": "stream",
     "text": [
      "R (1200, 2, 3)\n",
      "densities (1200, 166)\n",
      "corrs (1200, 166, 166)\n",
      "coords (1200, 166, 3)\n"
     ]
    }
   ],
   "source": [
    "data = np.load(\"../../data/md_h2.npz\", allow_pickle=True)\n",
    "for key in list(data.keys()):\n",
    "    print(key, data[key].shape)"
   ]
  },
  {
   "cell_type": "code",
   "execution_count": 47,
   "metadata": {},
   "outputs": [
    {
     "data": {
      "text/plain": [
       "(1200, 166, 166)"
      ]
     },
     "execution_count": 47,
     "metadata": {},
     "output_type": "execute_result"
    }
   ],
   "source": [
    "corrs = data[\"corrs\"]\n",
    "densities = data[\"densities\"]\n",
    "np.sum(corrs, axis=2)"
   ]
  },
  {
   "cell_type": "code",
   "execution_count": null,
   "metadata": {},
   "outputs": [],
   "source": []
  }
 ],
 "metadata": {
  "kernelspec": {
   "display_name": "ml_env",
   "language": "python",
   "name": "python3"
  },
  "language_info": {
   "codemirror_mode": {
    "name": "ipython",
    "version": 3
   },
   "file_extension": ".py",
   "mimetype": "text/x-python",
   "name": "python",
   "nbconvert_exporter": "python",
   "pygments_lexer": "ipython3",
   "version": "3.8.17"
  },
  "orig_nbformat": 4
 },
 "nbformat": 4,
 "nbformat_minor": 2
}
