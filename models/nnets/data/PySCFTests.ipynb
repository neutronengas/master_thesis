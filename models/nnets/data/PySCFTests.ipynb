{
 "cells": [
  {
   "cell_type": "code",
   "execution_count": 3,
   "metadata": {},
   "outputs": [],
   "source": [
    "import tensorflow\n",
    "import numpy as np\n",
    "from pyscf import gto, scf, mp, lo\n",
    "from pyscf.tools import cubegen\n",
    "import matplotlib.pyplot as plt\n",
    "from datetime import datetime\n",
    "from scipy.spatial.distance import cdist"
   ]
  },
  {
   "cell_type": "code",
   "execution_count": 2,
   "metadata": {},
   "outputs": [
    {
     "ename": "FileNotFoundError",
     "evalue": "[Errno 2] No such file or directory: '../../data/md17_benzene2017.npz'",
     "output_type": "error",
     "traceback": [
      "\u001b[0;31m---------------------------------------------------------------------------\u001b[0m",
      "\u001b[0;31mFileNotFoundError\u001b[0m                         Traceback (most recent call last)",
      "\u001b[0;32m<ipython-input-2-3dbb2f81d95b>\u001b[0m in \u001b[0;36m<module>\u001b[0;34m\u001b[0m\n\u001b[0;32m----> 1\u001b[0;31m \u001b[0mdata\u001b[0m \u001b[0;34m=\u001b[0m \u001b[0mnp\u001b[0m\u001b[0;34m.\u001b[0m\u001b[0mload\u001b[0m\u001b[0;34m(\u001b[0m\u001b[0;34m\"../../data/md17_benzene2017.npz\"\u001b[0m\u001b[0;34m,\u001b[0m \u001b[0mallow_pickle\u001b[0m\u001b[0;34m=\u001b[0m\u001b[0;32mTrue\u001b[0m\u001b[0;34m)\u001b[0m\u001b[0;34m\u001b[0m\u001b[0;34m\u001b[0m\u001b[0m\n\u001b[0m\u001b[1;32m      2\u001b[0m \u001b[0mR\u001b[0m \u001b[0;34m=\u001b[0m \u001b[0mdata\u001b[0m\u001b[0;34m[\u001b[0m\u001b[0;34m\"R\"\u001b[0m\u001b[0;34m]\u001b[0m\u001b[0;34m[\u001b[0m\u001b[0;36m2\u001b[0m\u001b[0;34m]\u001b[0m\u001b[0;34m.\u001b[0m\u001b[0mtolist\u001b[0m\u001b[0;34m(\u001b[0m\u001b[0;34m)\u001b[0m\u001b[0;34m\u001b[0m\u001b[0;34m\u001b[0m\u001b[0m\n\u001b[1;32m      3\u001b[0m \u001b[0mZ\u001b[0m \u001b[0;34m=\u001b[0m \u001b[0mdata\u001b[0m\u001b[0;34m[\u001b[0m\u001b[0;34m\"z\"\u001b[0m\u001b[0;34m]\u001b[0m\u001b[0;34m\u001b[0m\u001b[0;34m\u001b[0m\u001b[0m\n",
      "\u001b[0;32m~/.local/lib/python3.8/site-packages/numpy/lib/npyio.py\u001b[0m in \u001b[0;36mload\u001b[0;34m(file, mmap_mode, allow_pickle, fix_imports, encoding, max_header_size)\u001b[0m\n\u001b[1;32m    403\u001b[0m             \u001b[0mown_fid\u001b[0m \u001b[0;34m=\u001b[0m \u001b[0;32mFalse\u001b[0m\u001b[0;34m\u001b[0m\u001b[0;34m\u001b[0m\u001b[0m\n\u001b[1;32m    404\u001b[0m         \u001b[0;32melse\u001b[0m\u001b[0;34m:\u001b[0m\u001b[0;34m\u001b[0m\u001b[0;34m\u001b[0m\u001b[0m\n\u001b[0;32m--> 405\u001b[0;31m             \u001b[0mfid\u001b[0m \u001b[0;34m=\u001b[0m \u001b[0mstack\u001b[0m\u001b[0;34m.\u001b[0m\u001b[0menter_context\u001b[0m\u001b[0;34m(\u001b[0m\u001b[0mopen\u001b[0m\u001b[0;34m(\u001b[0m\u001b[0mos_fspath\u001b[0m\u001b[0;34m(\u001b[0m\u001b[0mfile\u001b[0m\u001b[0;34m)\u001b[0m\u001b[0;34m,\u001b[0m \u001b[0;34m\"rb\"\u001b[0m\u001b[0;34m)\u001b[0m\u001b[0;34m)\u001b[0m\u001b[0;34m\u001b[0m\u001b[0;34m\u001b[0m\u001b[0m\n\u001b[0m\u001b[1;32m    406\u001b[0m             \u001b[0mown_fid\u001b[0m \u001b[0;34m=\u001b[0m \u001b[0;32mTrue\u001b[0m\u001b[0;34m\u001b[0m\u001b[0;34m\u001b[0m\u001b[0m\n\u001b[1;32m    407\u001b[0m \u001b[0;34m\u001b[0m\u001b[0m\n",
      "\u001b[0;31mFileNotFoundError\u001b[0m: [Errno 2] No such file or directory: '../../data/md17_benzene2017.npz'"
     ]
    }
   ],
   "source": [
    "data = np.load(\"../../data/md17_benzene2017.npz\", allow_pickle=True)\n",
    "R = data[\"R\"][2].tolist()\n",
    "Z = data[\"z\"]"
   ]
  },
  {
   "cell_type": "code",
   "execution_count": null,
   "metadata": {},
   "outputs": [
    {
     "ename": "",
     "evalue": "",
     "output_type": "error",
     "traceback": [
      "\u001b[1;31mDas Ausführen von Zellen mit \"ml_env\" erfordert das Paket ipykernel.\n",
      "\u001b[1;31mRun the following command to install 'ipykernel' into the Python environment. \n",
      "\u001b[1;31mCommand: 'conda install -n ml_env ipykernel --update-deps --force-reinstall'"
     ]
    }
   ],
   "source": [
    "mol = gto.Mole()\n",
    "atom_data = list(zip(Z, R))\n",
    "mol.atom = atom_data\n",
    "mol.basis = \"ccpvdz\"\n",
    "mol.build()"
   ]
  },
  {
   "cell_type": "code",
   "execution_count": null,
   "metadata": {},
   "outputs": [
    {
     "ename": "",
     "evalue": "",
     "output_type": "error",
     "traceback": [
      "\u001b[1;31mDas Ausführen von Zellen mit \"ml_env\" erfordert das Paket ipykernel.\n",
      "\u001b[1;31mRun the following command to install 'ipykernel' into the Python environment. \n",
      "\u001b[1;31mCommand: 'conda install -n ml_env ipykernel --update-deps --force-reinstall'"
     ]
    }
   ],
   "source": [
    "hf_result = scf.HF(mol).run()\n",
    "hf_1dm = hf_result.make_rdm1()\n",
    "hf_2dm = hf_result.make_rdm2()\n",
    "time1 = datetime.datetime.now()\n",
    "\n",
    "hf_atomic_orbitals = mol.intor(\"int1e_ovlp\")\n",
    "mo_coeff = hf_result.mo_coeff\n",
    "hf_energy = hf_result.e_tot\n",
    "hf_atomic_orbitals.shape"
   ]
  },
  {
   "cell_type": "code",
   "execution_count": null,
   "metadata": {},
   "outputs": [
    {
     "ename": "",
     "evalue": "",
     "output_type": "error",
     "traceback": [
      "\u001b[1;31mDas Ausführen von Zellen mit \"ml_env\" erfordert das Paket ipykernel.\n",
      "\u001b[1;31mRun the following command to install 'ipykernel' into the Python environment. \n",
      "\u001b[1;31mCommand: 'conda install -n ml_env ipykernel --update-deps --force-reinstall'"
     ]
    }
   ],
   "source": [
    "fig_ao = plt.figure(figsize=(6,6))\n",
    "ax_ao = fig_ao.add_subplot(111)\n",
    "ax_ao.set_title(\"Atomic orbital overlap\")\n",
    "image_ao = ax_ao.imshow(hf_atomic_orbitals)\n",
    "plt.colorbar(image_ao)\n",
    "plt.show()"
   ]
  },
  {
   "cell_type": "code",
   "execution_count": null,
   "metadata": {},
   "outputs": [
    {
     "ename": "",
     "evalue": "",
     "output_type": "error",
     "traceback": [
      "\u001b[1;31mDas Ausführen von Zellen mit \"ml_env\" erfordert das Paket ipykernel.\n",
      "\u001b[1;31mRun the following command to install 'ipykernel' into the Python environment. \n",
      "\u001b[1;31mCommand: 'conda install -n ml_env ipykernel --update-deps --force-reinstall'"
     ]
    }
   ],
   "source": [
    "fig = plt.figure(figsize=(6, 6))\n",
    "ax = fig.add_subplot(111)\n",
    "ax.set_title('DM_HF')\n",
    "image = ax.imshow(hf_1dm)\n",
    "plt.colorbar(image)\n",
    "plt.show()"
   ]
  },
  {
   "attachments": {},
   "cell_type": "markdown",
   "metadata": {},
   "source": [
    "**Fourier transform of HF_DM**"
   ]
  },
  {
   "cell_type": "code",
   "execution_count": null,
   "metadata": {},
   "outputs": [
    {
     "ename": "",
     "evalue": "",
     "output_type": "error",
     "traceback": [
      "\u001b[1;31mDas Ausführen von Zellen mit \"ml_env\" erfordert das Paket ipykernel.\n",
      "\u001b[1;31mRun the following command to install 'ipykernel' into the Python environment. \n",
      "\u001b[1;31mCommand: 'conda install -n ml_env ipykernel --update-deps --force-reinstall'"
     ]
    }
   ],
   "source": [
    "hf_dm_fft = np.abs(np.fft.fft2(hf_1dm))"
   ]
  },
  {
   "cell_type": "code",
   "execution_count": null,
   "metadata": {},
   "outputs": [
    {
     "ename": "",
     "evalue": "",
     "output_type": "error",
     "traceback": [
      "\u001b[1;31mDas Ausführen von Zellen mit \"ml_env\" erfordert das Paket ipykernel.\n",
      "\u001b[1;31mRun the following command to install 'ipykernel' into the Python environment. \n",
      "\u001b[1;31mCommand: 'conda install -n ml_env ipykernel --update-deps --force-reinstall'"
     ]
    }
   ],
   "source": [
    "fig_fft = plt.figure(figsize=(6, 6))\n",
    "ax_fft = fig_fft.add_subplot(111)\n",
    "ax_fft.set_title('DM_HF_FFT')\n",
    "image_fft = ax_fft.imshow(hf_dm_fft)\n",
    "plt.colorbar(image_fft)\n",
    "plt.show()"
   ]
  },
  {
   "cell_type": "code",
   "execution_count": null,
   "metadata": {},
   "outputs": [
    {
     "ename": "",
     "evalue": "",
     "output_type": "error",
     "traceback": [
      "\u001b[1;31mDas Ausführen von Zellen mit \"ml_env\" erfordert das Paket ipykernel.\n",
      "\u001b[1;31mRun the following command to install 'ipykernel' into the Python environment. \n",
      "\u001b[1;31mCommand: 'conda install -n ml_env ipykernel --update-deps --force-reinstall'"
     ]
    }
   ],
   "source": [
    "hf_h_ij = mol.intor(\"int1e_nuc\") + mol.intor(\"int1e_kin\")\n",
    "hf_h_ijkl = mol.intor(\"int2e\")\n",
    "hf_energy_core = np.einsum(\"pq,qp\", hf_h_ij, hf_1dm)\n",
    "hf_energy_elec = hf_energy_core + 0.5 * np.einsum(\"pqrs,pqrs\", hf_h_ijkl, hf_2dm)\n",
    "hf_guessed_energy = hf_energy_elec + mol.energy_nuc()"
   ]
  },
  {
   "cell_type": "code",
   "execution_count": null,
   "metadata": {},
   "outputs": [
    {
     "ename": "",
     "evalue": "",
     "output_type": "error",
     "traceback": [
      "\u001b[1;31mDas Ausführen von Zellen mit \"ml_env\" erfordert das Paket ipykernel.\n",
      "\u001b[1;31mRun the following command to install 'ipykernel' into the Python environment. \n",
      "\u001b[1;31mCommand: 'conda install -n ml_env ipykernel --update-deps --force-reinstall'"
     ]
    }
   ],
   "source": [
    "print(f\"Correct HF energy: {hf_energy}\")\n",
    "print(f\"Guessed HF energy: {hf_guessed_energy}\")\n",
    "print(f\"Guessed HF core energy: {hf_energy_core}\")"
   ]
  },
  {
   "attachments": {},
   "cell_type": "markdown",
   "metadata": {},
   "source": [
    "**Moller Plesset Perturbation theory**"
   ]
  },
  {
   "cell_type": "code",
   "execution_count": null,
   "metadata": {},
   "outputs": [
    {
     "ename": "",
     "evalue": "",
     "output_type": "error",
     "traceback": [
      "\u001b[1;31mDas Ausführen von Zellen mit \"ml_env\" erfordert das Paket ipykernel.\n",
      "\u001b[1;31mRun the following command to install 'ipykernel' into the Python environment. \n",
      "\u001b[1;31mCommand: 'conda install -n ml_env ipykernel --update-deps --force-reinstall'"
     ]
    }
   ],
   "source": [
    "mp2_result = mp.MP2(hf_result).run()\n",
    "mp2_1dm = mp2_result.make_rdm1(ao_repr=True)\n",
    "#mp2_2dm = mp2_result.make_rdm2(ao_repr=True)\n",
    "mp2_energy = mp2_result.e_tot"
   ]
  },
  {
   "cell_type": "code",
   "execution_count": null,
   "metadata": {},
   "outputs": [
    {
     "ename": "",
     "evalue": "",
     "output_type": "error",
     "traceback": [
      "\u001b[1;31mDas Ausführen von Zellen mit \"ml_env\" erfordert das Paket ipykernel.\n",
      "\u001b[1;31mRun the following command to install 'ipykernel' into the Python environment. \n",
      "\u001b[1;31mCommand: 'conda install -n ml_env ipykernel --update-deps --force-reinstall'"
     ]
    }
   ],
   "source": [
    "fig_mp2 = plt.figure(figsize=(6, 6))\n",
    "ax_mp2 = fig_mp2.add_subplot(111)\n",
    "ax_mp2.set_title('P_ij PHF')\n",
    "image_mp2 = ax_mp2.imshow(mp2_1dm)\n",
    "plt.colorbar(image_mp2)\n",
    "plt.imshow(mp2_1dm)"
   ]
  },
  {
   "cell_type": "code",
   "execution_count": null,
   "metadata": {},
   "outputs": [
    {
     "ename": "",
     "evalue": "",
     "output_type": "error",
     "traceback": [
      "\u001b[1;31mDas Ausführen von Zellen mit \"ml_env\" erfordert das Paket ipykernel.\n",
      "\u001b[1;31mRun the following command to install 'ipykernel' into the Python environment. \n",
      "\u001b[1;31mCommand: 'conda install -n ml_env ipykernel --update-deps --force-reinstall'"
     ]
    }
   ],
   "source": [
    "fig_diff = plt.figure(figsize=(6, 6))\n",
    "ax_diff = fig_diff.add_subplot(111)\n",
    "ax_diff.set_title('DM_HF - DM_MP2')\n",
    "image_diff = ax_diff.imshow(hf_1dm - mp2_1dm)\n",
    "plt.colorbar(image_diff)\n",
    "plt.show()"
   ]
  },
  {
   "cell_type": "code",
   "execution_count": null,
   "metadata": {},
   "outputs": [
    {
     "ename": "",
     "evalue": "",
     "output_type": "error",
     "traceback": [
      "\u001b[1;31mDas Ausführen von Zellen mit \"ml_env\" erfordert das Paket ipykernel.\n",
      "\u001b[1;31mRun the following command to install 'ipykernel' into the Python environment. \n",
      "\u001b[1;31mCommand: 'conda install -n ml_env ipykernel --update-deps --force-reinstall'"
     ]
    }
   ],
   "source": [
    "mp2_h_ij = mol.intor(\"int1e_nuc\") + mol.intor(\"int1e_kin\")\n",
    "mp2_h_ijkl = mol.intor(\"int2e\")\n",
    "mp2_energy_core = np.einsum(\"pq,qp\", mp2_h_ij, mp2_1dm)\n",
    "#mp2_energy_elec = mp2_energy_core + 0.5 * np.einsum(\"pqrs,pqrs\", mp2_h_ijkl, mp2_2dm)\n",
    "#mp2_guessed_energy = mp2_energy_elec + mol.energy_nuc()"
   ]
  },
  {
   "cell_type": "code",
   "execution_count": null,
   "metadata": {},
   "outputs": [
    {
     "ename": "",
     "evalue": "",
     "output_type": "error",
     "traceback": [
      "\u001b[1;31mDas Ausführen von Zellen mit \"ml_env\" erfordert das Paket ipykernel.\n",
      "\u001b[1;31mRun the following command to install 'ipykernel' into the Python environment. \n",
      "\u001b[1;31mCommand: 'conda install -n ml_env ipykernel --update-deps --force-reinstall'"
     ]
    }
   ],
   "source": [
    "print(f\"Correct MP2 energy: {mp2_energy}\")\n",
    "#print(f\"Guessed MP2 energy: {mp2_guessed_energy}\")\n",
    "print(f\"Guessed MP2 core energy: {mp2_energy_core}\")"
   ]
  },
  {
   "attachments": {},
   "cell_type": "markdown",
   "metadata": {},
   "source": [
    "**Creating H2O test data**"
   ]
  },
  {
   "cell_type": "code",
   "execution_count": 4,
   "metadata": {},
   "outputs": [],
   "source": [
    "data = np.load(\"../../data/md_h2.npz\", allow_pickle=True)\n",
    "R = data[\"R\"]"
   ]
  },
  {
   "cell_type": "code",
   "execution_count": 34,
   "metadata": {},
   "outputs": [
    {
     "name": "stdout",
     "output_type": "stream",
     "text": [
      "[[ 0.42108 -0.       0.     ]\n",
      " [-0.42108  0.      -0.     ]]\n",
      "converged SCF energy = -0.989115685001922\n"
     ]
    }
   ],
   "source": [
    "show_idx = 100\n",
    "h2 = gto.Mole()\n",
    "h2_R = R[show_idx]\n",
    "print(h2_R)\n",
    "h2.atom = [[1, coords] for coords in h2_R]\n",
    "h2.basis = 'ccpvdz'\n",
    "h2.unit = 'B'\n",
    "h2.build()\n",
    "hf_h2 = scf.RHF(h2).run()\n",
    "mo_coeff = hf_h2.mo_coeff"
   ]
  },
  {
   "cell_type": "code",
   "execution_count": 20,
   "metadata": {},
   "outputs": [
    {
     "data": {
      "text/plain": [
       "<matplotlib.colorbar.Colorbar at 0x7fe29cc20d60>"
      ]
     },
     "execution_count": 20,
     "metadata": {},
     "output_type": "execute_result"
    },
    {
     "data": {
      "image/png": "[encoded data removed]",
      "text/plain": [
       "<Figure size 432x432 with 2 Axes>"
      ]
     },
     "metadata": {
      "needs_background": "light"
     },
     "output_type": "display_data"
    }
   ],
   "source": [
    "hf_h2_1dm = hf_h2.make_rdm1()\n",
    "S = h2.intor(\"int1e_ovlp\")\n",
    "S_transformed = mo_coeff.T @ S @ mo_coeff\n",
    "fig_h2 = plt.figure(figsize=(6, 6))\n",
    "ax_h2 = fig_h2.add_subplot(111)\n",
    "ax_h2.set_title('DM_MP2')\n",
    "image_h2 = ax_h2.imshow(S_transformed)\n",
    "plt.colorbar(image_h2)"
   ]
  },
  {
   "cell_type": "code",
   "execution_count": 21,
   "metadata": {},
   "outputs": [
    {
     "name": "stdout",
     "output_type": "stream",
     "text": [
      "E(MP2) = -1.01244593590222  E_corr = -0.0233302509003011\n",
      "E(SCS-MP2) = -1.01711198608229  E_corr = -0.0279963010803613\n"
     ]
    },
    {
     "data": {
      "text/plain": [
       "<matplotlib.colorbar.Colorbar at 0x7fe29cef9d30>"
      ]
     },
     "execution_count": 21,
     "metadata": {},
     "output_type": "execute_result"
    },
    {
     "data": {
      "image/png": "[encoded data removed]",
      "text/plain": [
       "<Figure size 432x432 with 2 Axes>"
      ]
     },
     "metadata": {
      "needs_background": "light"
     },
     "output_type": "display_data"
    }
   ],
   "source": [
    "h2_mp2 = mp.MP2(hf_h2).run()\n",
    "h2_mp2_1dm = h2_mp2.make_rdm1(ao_repr=False)\n",
    "h2_mp2_1dm = mo_coeff @ h2_mp2_1dm @ mo_coeff.T\n",
    "fig_h2 = plt.figure(figsize=(6, 6))\n",
    "ax_h2 = fig_h2.add_subplot(111)\n",
    "ax_h2.set_title('P_ij HF - P_ij PHF')\n",
    "image_h2 = ax_h2.imshow(hf_h2_1dm - h2_mp2_1dm)\n",
    "plt.colorbar(image_h2)"
   ]
  },
  {
   "attachments": {},
   "cell_type": "markdown",
   "metadata": {},
   "source": [
    "**Plotting electron density for H2O**"
   ]
  },
  {
   "cell_type": "code",
   "execution_count": 35,
   "metadata": {},
   "outputs": [],
   "source": [
    "ticks = 30\n",
    "lane = np.linspace(-0.8, 0.8, ticks)\n",
    "x_center = 0\n",
    "y_center = 0\n",
    "xyz_points = np.array([[x + x_center, y + y_center, 0] for x in lane for y in lane])\n",
    "\n",
    "\n",
    "def density_matrix_pointwise(coords, mol, dm, return_type=\"dm\"):\n",
    "    ao_vals = np.array(mol.eval_ao(\"GTOval_sph\", coords))\n",
    "    n_coords = len(coords)\n",
    "    n_orbitals = ao_vals.shape[-1]\n",
    "    ao_vals = ao_vals.reshape(n_coords, 1, n_orbitals)\n",
    "    #ao_vals_pointwise = np.matmul(ao_vals_dagger, ao_vals)\n",
    "    #ao_vals_pointwise = [[coords[i].tolist(), ao_vals_pointwise[i].tolist()] for i in range(n_coords)]\n",
    "    if return_type == \"ao_vals\":\n",
    "        return ao_vals\n",
    "    elif return_type == \"density\":\n",
    "        res = []\n",
    "        for i in range(len(coords)):\n",
    "            [x, y, _] = coords[i]\n",
    "            ao_vals_for_point = ao_vals[i].flatten()\n",
    "            z = np.einsum(\"ij,i,j\", dm, ao_vals_for_point, ao_vals_for_point)\n",
    "            res.append([x, y, z])\n",
    "        res = np.array(res)\n",
    "        return res\n",
    "    return ao_vals\n",
    "\n",
    "dm = hf_h2_1dm\n",
    "density_pointwise = density_matrix_pointwise(xyz_points, h2, dm, \"density\")\n",
    "X = density_pointwise[:, 0]\n",
    "Y = density_pointwise[:, 1]\n",
    "Z = density_pointwise[:, 2]\n",
    "X = X.reshape(ticks, ticks)\n",
    "Y = Y.reshape(ticks, ticks)\n",
    "Z = Z.reshape(ticks, ticks)"
   ]
  },
  {
   "cell_type": "code",
   "execution_count": 36,
   "metadata": {},
   "outputs": [
    {
     "data": {
      "image/png": "[encoded data removed]",
      "text/plain": [
       "<Figure size 432x288 with 1 Axes>"
      ]
     },
     "metadata": {
      "needs_background": "light"
     },
     "output_type": "display_data"
    }
   ],
   "source": [
    "fig = plt.figure()\n",
    "ax = fig.add_subplot(111, projection='3d')\n",
    "ax.plot_surface(X, Y, Z, cmap=\"viridis\")\n",
    "ax.set_xlabel('X')\n",
    "ax.set_ylabel('Y')\n",
    "ax.set_zlabel('ρ')\n",
    "ax.set_title('H2 electron density')\n",
    "ax.view_init(30, 30)\n",
    "plt.show()"
   ]
  },
  {
   "cell_type": "code",
   "execution_count": null,
   "metadata": {},
   "outputs": [],
   "source": []
  },
  {
   "cell_type": "code",
   "execution_count": null,
   "metadata": {},
   "outputs": [],
   "source": [
    "ticks = 30\n",
    "coords = [[x, y, 0] for x in range(ticks) for y in range(ticks)]"
   ]
  },
  {
   "cell_type": "code",
   "execution_count": null,
   "metadata": {},
   "outputs": [],
   "source": [
    "cutoff = 5\n",
    "dist_matrix = cdist(coords, coords)\n",
    "idx = np.arange(len(coords))\n",
    "neighbour_coords = (dist_matrix < cutoff) * idx[np.newaxis, :]"
   ]
  },
  {
   "cell_type": "code",
   "execution_count": null,
   "metadata": {},
   "outputs": [
    {
     "data": {
      "image/png": "[encoded data removed]",
      "text/plain": [
       "<Figure size 432x288 with 2 Axes>"
      ]
     },
     "metadata": {
      "needs_background": "light"
     },
     "output_type": "display_data"
    }
   ],
   "source": [
    "plt.imshow(neighbour_coords, cmap='viridis', interpolation='nearest')\n",
    "\n",
    "# Add colorbar for reference (optional)\n",
    "plt.colorbar()\n",
    "\n",
    "# Show the plot\n",
    "plt.show()"
   ]
  },
  {
   "attachments": {},
   "cell_type": "markdown",
   "metadata": {},
   "source": [
    "**Testing the speed of Orbital evaluation**"
   ]
  },
  {
   "cell_type": "code",
   "execution_count": 29,
   "metadata": {},
   "outputs": [],
   "source": [
    "def run_orbital_eval(coords):\n",
    "    start_timestamp = datetime.now()\n",
    "    h2 = gto.M(atom='H 0 2 0; H 2 0 0', basis='ccpvdz', unit='B')\n",
    "    #h2.atom = [['H', (0, 2, 0)], ['H', (2, 0, 0)]]\n",
    "    #h2.basis = 'ccpvdz'\n",
    "    #h2.unit = 'B'\n",
    "    #h2.build()\n",
    "    building_timestamp = datetime.now()\n",
    "\n",
    "    building_time = building_timestamp - start_timestamp\n",
    "    ao_vals_np = np.array(h2.eval_ao(\"GTOval_sph\", coords))\n",
    "    ao_vals_np_timestamp = datetime.now()\n",
    "    ao_vals_np_time = ao_vals_np_timestamp - building_timestamp\n",
    "\n",
    "    ao_vals = h2.eval_ao(\"GTOval_sph\", coords)\n",
    "    ao_vals_timestamp = datetime.now()\n",
    "    ao_vals_time = ao_vals_timestamp - ao_vals_np_timestamp\n",
    "    print(f\"Building time:{building_time}\")\n",
    "    print(f\"AO eval time without conversion: {ao_vals_time}, relative: building: {building_time / (building_time + ao_vals_time)}, AO eval: {(ao_vals_time / (building_time + ao_vals_time))}\")\n",
    "    print(f\"AO eval time with conversion: {ao_vals_np_time}, relative: building: {building_time / (building_time + ao_vals_np_time)}, AO eval: {(ao_vals_np_time / (building_time + ao_vals_np_time))}\")\n",
    "\n"
   ]
  },
  {
   "cell_type": "code",
   "execution_count": 31,
   "metadata": {},
   "outputs": [
    {
     "name": "stdout",
     "output_type": "stream",
     "text": [
      "Building time:0:00:00.200677\n",
      "AO eval time without conversion: 0:00:00.047975, relative: building: 0.8070596657175491, AO eval: 0.19294033428245097\n",
      "AO eval time with conversion: 0:00:00.019554, relative: building: 0.9112114098378521, AO eval: 0.08878859016214792\n"
     ]
    }
   ],
   "source": [
    "run_orbital_eval(xyz_points)"
   ]
  },
  {
   "cell_type": "code",
   "execution_count": null,
   "metadata": {},
   "outputs": [],
   "source": [
    "import pickle\n",
    "import numpy as np"
   ]
  },
  {
   "cell_type": "code",
   "execution_count": null,
   "metadata": {},
   "outputs": [],
   "source": [
    "file = np.load(\"../../logging/20230810_105113_densnet_Th1ZgPjP_md_h2.npz_densities_final/best/best_loss.npz\", allow_pickle=True)"
   ]
  },
  {
   "cell_type": "code",
   "execution_count": null,
   "metadata": {},
   "outputs": [
    {
     "name": "stdout",
     "output_type": "stream",
     "text": [
      "loss_val\n",
      "0.03242198005318642\n",
      "mean_mae_val\n",
      "0.03242198005318642\n",
      "mean_log_mae_val\n",
      "-3.4289186000823975\n",
      "densities_val\n",
      "0.03242198005318642\n",
      "step\n",
      "3000\n"
     ]
    }
   ],
   "source": [
    "for key in list(file.keys()):\n",
    "    print(key)\n",
    "    print(file[key])"
   ]
  },
  {
   "cell_type": "code",
   "execution_count": null,
   "metadata": {},
   "outputs": [],
   "source": []
  }
 ],
 "metadata": {
  "kernelspec": {
   "display_name": "Python 3",
   "language": "python",
   "name": "python3"
  },
  "language_info": {
   "codemirror_mode": {
    "name": "ipython",
    "version": 3
   },
   "file_extension": ".py",
   "mimetype": "text/x-python",
   "name": "python",
   "nbconvert_exporter": "python",
   "pygments_lexer": "ipython3",
   "version": "3.8.17"
  },
  "orig_nbformat": 4
 },
 "nbformat": 4,
 "nbformat_minor": 2
}
