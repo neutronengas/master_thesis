{
 "cells": [
  {
   "cell_type": "code",
   "execution_count": 21,
   "metadata": {},
   "outputs": [],
   "source": [
    "#from pyscf import gto, scf, md\n",
    "import re\n",
    "import pickle\n",
    "import numpy as np\n",
    "import os \n",
    "from scipy.spatial.distance import cdist\n",
    "import matplotlib.pyplot as plt \n",
    "from datetime import datetime\n",
    "from mpl_toolkits.mplot3d import Axes3D"
   ]
  },
  {
   "cell_type": "code",
   "execution_count": 22,
   "metadata": {},
   "outputs": [],
   "source": [
    "CONSTANTS = {\n",
    "    \"width_ticks\": 10,\n",
    "    \"length_ticks\": 20\n",
    "}"
   ]
  },
  {
   "cell_type": "code",
   "execution_count": 23,
   "metadata": {},
   "outputs": [],
   "source": [
    "def run_md_simulation():\n",
    "    h2 = gto.Mole()\n",
    "    h2.atom = [['H', (0.7, 0, 0)], ['H', (-0.7, 0, 0)]]\n",
    "    h2.basis = 'ccpvdz'\n",
    "    h2.unit = 'B'\n",
    "    h2.build() \n",
    "    h2._atom\n",
    "    mf = scf.RHF(h2)\n",
    "    mf.kernel()\n",
    "    mycas = mf.CASSCF(2, 2)\n",
    "    myscanner = mycas.nuc_grad_method().as_scanner()\n",
    "\n",
    "    # Generate the integrator\n",
    "    # sets the time step to 5 a.u. and will run for 100 steps\n",
    "    # or for 50 a.u.\n",
    "    myintegrator = md.NVE(myscanner,\n",
    "                                dt=1,\n",
    "                                steps=1200,\n",
    "                                energy_output=\"BOMD.md.energies\",\n",
    "                                trajectory_output=\"BOMD.md.xyz\",\n",
    "                                verbose=0).run()\n",
    "\n",
    "    # Note that we can also just pass the CASSCF object directly to\n",
    "    # generate the integrator and it will automatically convert it to a scanner\n",
    "    # myintegrator = pyscf.md.NVE(mycas, dt=5, steps=100)\n",
    "\n",
    "    # Close the file streams for the energy and trajectory.\n",
    "    myintegrator.energy_output.close()\n",
    "    myintegrator.trajectory_output.close()"
   ]
  },
  {
   "cell_type": "code",
   "execution_count": 24,
   "metadata": {},
   "outputs": [],
   "source": [
    "def grid_coordinates(ticks=30):\n",
    "    raw_data = open(\"./BOMD.md.xyz\", \"r\").read() + \"2\\n\"\n",
    "    raw_data = raw_data.split(\"MD Time\")[1:]\n",
    "    R = []\n",
    "    for n in range(len(raw_data)):\n",
    "        data_point = raw_data[n]\n",
    "        data_point = data_point.split(\"\\n\")[1:-2]\n",
    "        data_point = [re.sub(r'\\s+', ',', coords).split(\",\") for coords in data_point]\n",
    "        data_point = [[x, y, z] for [atom, x, y, z] in data_point]\n",
    "        R.append(data_point)\n",
    "    R = np.array(R, dtype=np.float32)\n",
    "    R_reshaped = R.reshape((len(raw_data) * 2, 3))\n",
    "    max_abs_value = 2 * np.sqrt((R_reshaped * R_reshaped).sum(axis=-1)).max()\n",
    "    # since the hydrogen molecule is always centered around the origin, grid axis can be chosen to be symmetrical wrt origin\n",
    "    array = np.linspace(-max_abs_value / 2, max_abs_value, ticks)\n",
    "    coords = np.array([[x, y, 0] for x in array for y in array])\n",
    "    data_dict = {\"R\": R, \"coords\": coords}\n",
    "    pickle.dump(data_dict, open(f\"./md_h2_R_coords.npz\", \"wb\"))"
   ]
  },
  {
   "cell_type": "code",
   "execution_count": 25,
   "metadata": {},
   "outputs": [],
   "source": [
    "def regular_sphere_points(radius, center, azimut_angle):\n",
    "    points = []\n",
    "    n_azimut = np.pi / azimut_angle\n",
    "    d_azi = radius * np.pi / n_azimut\n",
    "    for theta_azi in np.arange(azimut_angle, np.floor(np.pi / azimut_angle) * azimut_angle, azimut_angle):\n",
    "        r_polar = np.sin(theta_azi) * radius\n",
    "        polar_angle_increment = d_azi / r_polar\n",
    "        for phi_pol in np.arange(0, np.floor(2 * np.pi / polar_angle_increment) * polar_angle_increment, polar_angle_increment):\n",
    "            x = radius * np.sin(theta_azi) * np.cos(phi_pol) + center[0]\n",
    "            y = radius * np.sin(theta_azi) * np.sin(phi_pol) + center[1]\n",
    "            z = radius * np.cos(theta_azi) + center[2]\n",
    "            points.append([x, y, z]) \n",
    "    points = np.array(points).T.tolist()\n",
    "    [x, y, z] = points\n",
    "    return points"
   ]
  },
  {
   "cell_type": "code",
   "execution_count": 26,
   "metadata": {},
   "outputs": [],
   "source": [
    "def rectangle_coordinates(R1, R2, width_ticks, length_ticks):\n",
    "    # it is assumed that the center lies within the z=0-plane\n",
    "    R1 = np.array(R1)\n",
    "    R2 = np.array(R2)\n",
    "    center = (R1 + R2) / 2\n",
    "    diff_vec = (R2 - R1)\n",
    "    diff_vec_norm = np.linalg.norm(diff_vec)\n",
    "    alpha = 0.66\n",
    "    left_extension = R1 - alpha * diff_vec\n",
    "    length = 2 * alpha + np.linalg.norm(diff_vec) \n",
    "    first_corner = left_extension + np.cross(length / 4 * diff_vec / diff_vec_norm, [0, 0, 1])\n",
    "    second_corner = left_extension - (first_corner - left_extension)\n",
    "    third_corner = center - (first_corner - center)\n",
    "    \n",
    "    width_unit_vector = first_corner - second_corner\n",
    "    width_unit_vector /= width_ticks\n",
    "\n",
    "    length_unit_vector = third_corner - second_corner\n",
    "    length_unit_vector /= length_ticks\n",
    "    points = [(second_corner + i * width_unit_vector + j * length_unit_vector).tolist() for i in range(width_ticks) for j in range(length_ticks)]\n",
    "    return points"
   ]
  },
  {
   "cell_type": "code",
   "execution_count": 27,
   "metadata": {},
   "outputs": [],
   "source": [
    "def line_coordinates(R1, R2):\n",
    "    start_point = R1 - 10 * (R2 - R1)\n",
    "    end_point = R2 - 10 * (R1 - R2)\n",
    "    points = np.linspace(start_point, end_point, 100)\n",
    "    return points"
   ]
  },
  {
   "cell_type": "code",
   "execution_count": 28,
   "metadata": {},
   "outputs": [],
   "source": [
    "def cube_coordinates(R1, R2, side_length, num_ticks=10):\n",
    "    coords = []\n",
    "    for R in [R1, R2]:\n",
    "        corner = R - side_length / 2 * np.ones((3,))\n",
    "        print(R1, corner)\n",
    "        x_vec = side_length * np.array([1, 0, 0]) / (num_ticks - 1)\n",
    "        y_vec = np.roll(x_vec, 1)\n",
    "        z_vec = np.roll(y_vec, 1)\n",
    "        cube_points = [(corner + i * x_vec + j * y_vec + k * z_vec).tolist() for i in range(num_ticks) for j in range(num_ticks) for k in range(num_ticks)] \n",
    "        coords += cube_points\n",
    "    coords = np.array(coords)\n",
    "    return coords"
   ]
  },
  {
   "cell_type": "code",
   "execution_count": 29,
   "metadata": {},
   "outputs": [],
   "source": [
    "def generate_coords(args, coord_type):\n",
    "    R_data = np.load(\"./md_h2_R_coords.npz\", allow_pickle=True)\n",
    "    R_total = R_data[\"R\"]\n",
    "    coords = []\n",
    "    func = eval(f\"{coord_type}_coordinates\")\n",
    "    for R in R_total:\n",
    "        [R1, R2] = R\n",
    "        coords_per_R = func(*((R1, R2) + args))\n",
    "        coords.append(coords_per_R)\n",
    "    coords = np.array(coords)\n",
    "    rectangle_data_dict = {\n",
    "        \"R\": R_total,\n",
    "        f\"{coord_type}_coords\": coords,\n",
    "    }\n",
    "    with open(f\"./md_h2_R_{coord_type}_coords.npz\", \"wb\") as f:\n",
    "        pickle.dump(rectangle_data_dict, f)"
   ]
  },
  {
   "cell_type": "code",
   "execution_count": 30,
   "metadata": {},
   "outputs": [],
   "source": [
    "coord_type = \"rectangle\"\n",
    "args = (CONSTANTS[\"width_ticks\"], CONSTANTS[\"length_ticks\"])\n",
    "#generate_coords(args, coord_type)"
   ]
  },
  {
   "cell_type": "code",
   "execution_count": 31,
   "metadata": {},
   "outputs": [],
   "source": [
    "def create_densities_and_corrs(length, overwrite=False, with_corrs=False, verbose=1, corr_local=True, local_square_size=5, coord_type='rectangle'):\n",
    "    if overwrite:\n",
    "        data_dict = {key: None for key in [\"R\", \"densities\", \"corrs\", \"coords\"]}\n",
    "        with open(\"./md_h2.npz\", \"wb\") as f:\n",
    "            pickle.dump(data_dict, f)\n",
    "    R_and_coords = np.load(f\"./md_h2_R_{coord_type}_coords.npz\", allow_pickle=True)\n",
    "    R = R_and_coords[\"R\"]\n",
    "    all_coords = R_and_coords[f\"{coord_type}_coords\"]\n",
    "    i = 0\n",
    "    if length == -1:\n",
    "        length = len(R)\n",
    "    for i in range(length):\n",
    "        [R1, R2] = R[i]\n",
    "        coords = all_coords[i]\n",
    "        if verbose == 1:\n",
    "            print(i / length)\n",
    "            i += 1\n",
    "        atom_data = [[1, R1.tolist()], [1, R2.tolist()]]\n",
    "        mol = gto.M()\n",
    "        mol.atom = atom_data\n",
    "        mol.basis = \"ccpvdz\"\n",
    "        mol.build()\n",
    "        hf = mol.RHF().run(verbose=0)\n",
    "        mp2 = hf.MP2().run(verbose=0)\n",
    "        rdm1 = mp2.make_rdm1(ao_repr=True)\n",
    "        rdm2 = mp2.make_rdm2(ao_repr=True)\n",
    "        ao_vals = np.array(mol.eval_ao(\"GTOval_sph\", coords))\n",
    "        ao_vals = ao_vals.reshape(CONSTANTS[\"width_ticks\"], CONSTANTS[\"length_ticks\"], ao_vals.shape[-1])\n",
    "        ao_vals = ao_vals.reshape(CONSTANTS[\"width_ticks\"] // local_square_size, local_square_size, CONSTANTS[\"length_ticks\"] // local_square_size, local_square_size, ao_vals.shape[-1])\n",
    "        ao_vals = ao_vals.transpose((0, 2, 1, 3, 4))\n",
    "        ao_vals = ao_vals.reshape((CONSTANTS[\"width_ticks\"] * CONSTANTS[\"length_ticks\"]) // (local_square_size ** 2), local_square_size, local_square_size, ao_vals.shape[-1])\n",
    "\n",
    "        densities_for_molecule = np.einsum(\"ij,cxyi,cxyj->cxy\", rdm1, ao_vals, ao_vals)\n",
    "        atom_data = [[x, y, z] for [i, [x, y, z]] in atom_data]\n",
    "        temp_dict = {\n",
    "            \"R\": np.array(atom_data, dtype=np.float32)[np.newaxis, :, :], \n",
    "            \"densities\": densities_for_molecule[np.newaxis, :],\n",
    "            \"corrs\": None,\n",
    "            \"coords\": coords[np.newaxis, :]\n",
    "        }\n",
    "        \n",
    "        if with_corrs:\n",
    "            if coord_type == \"cube\":\n",
    "                ao_vals_new_shape = (2, ao_vals.shape[0] // 2, ao_vals.shape[1])\n",
    "                ao_vals = ao_vals.reshape(ao_vals_new_shape)\n",
    "                corrs_for_molecule = 0.5 * np.einsum(\"ijkl,cni,cnj,cmk,cml->cnm\", rdm2, ao_vals, ao_vals, ao_vals, ao_vals)\n",
    "            elif coord_type == 'rectangle' and corr_local:\n",
    "                ao_vals = ao_vals.reshape(CONSTANTS[\"width_ticks\"], CONSTANTS[\"length_ticks\"], ao_vals.shape[-1])\n",
    "                ao_vals = ao_vals.reshape(CONSTANTS[\"width_ticks\"] // local_square_size, local_square_size, CONSTANTS[\"length_ticks\"] // local_square_size, local_square_size, ao_vals.shape[-1])\n",
    "                ao_vals = ao_vals.transpose((0, 2, 1, 3, 4))\n",
    "                ao_vals = ao_vals.reshape((CONSTANTS[\"width_ticks\"] * CONSTANTS[\"length_ticks\"]) // (local_square_size ** 2), local_square_size, local_square_size, ao_vals.shape[-1])\n",
    "                corrs_for_molecule = 0.5 * np.einsum(\"ijkl,cxyi,cxyj,cabk,cabl->cxyab\", rdm2, ao_vals, ao_vals, ao_vals, ao_vals)\n",
    "            temp_dict[\"corrs\"] = corrs_for_molecule[np.newaxis, :]\n",
    "\n",
    "        file_name = \"./md_h2.npz\"\n",
    "        current_data = np.load(file_name, allow_pickle=True)\n",
    "        for key in [\"R\", \"densities\", \"coords\", \"corrs\"]:\n",
    "            if current_data[key] is None:\n",
    "                current_data[key] = temp_dict[key]\n",
    "            else:\n",
    "                current_data[key] = np.concatenate((current_data[key], temp_dict[key]))\n",
    "        with open(\"./md_h2.npz\", \"wb\") as f:\n",
    "            pickle.dump(current_data, f)\n",
    "        "
   ]
  },
  {
   "cell_type": "code",
   "execution_count": 32,
   "metadata": {},
   "outputs": [],
   "source": [
    "#create_densities_and_corrs(-1, overwrite=True, with_corrs=True)"
   ]
  },
  {
   "cell_type": "code",
   "execution_count": 33,
   "metadata": {},
   "outputs": [],
   "source": [
    "data = np.load(\"md_h2.npz\", allow_pickle=True)"
   ]
  },
  {
   "cell_type": "code",
   "execution_count": 35,
   "metadata": {},
   "outputs": [
    {
     "data": {
      "text/plain": [
       "{'R': None, 'densities': None, 'corrs': None, 'coords': None}"
      ]
     },
     "execution_count": 35,
     "metadata": {},
     "output_type": "execute_result"
    }
   ],
   "source": [
    "data"
   ]
  },
  {
   "cell_type": "code",
   "execution_count": null,
   "metadata": {},
   "outputs": [
    {
     "data": {
      "text/plain": [
       "(1200, 200)"
      ]
     },
     "execution_count": 28,
     "metadata": {},
     "output_type": "execute_result"
    }
   ],
   "source": [
    "data[\"densities\"].shape"
   ]
  },
  {
   "cell_type": "code",
   "execution_count": null,
   "metadata": {},
   "outputs": [
    {
     "data": {
      "text/plain": [
       "(1200, 2, 4, 5, 5)"
      ]
     },
     "execution_count": 33,
     "metadata": {},
     "output_type": "execute_result"
    }
   ],
   "source": [
    "dim_samples = data[\"densities\"].shape[0]\n",
    "width_ticks = 10\n",
    "length_ticks = 20\n",
    "local_square_size = 5\n",
    "arr = data[\"densities\"].reshape((dim_samples, width_ticks, length_ticks))\n",
    "arr = arr.reshape((dim_samples, width_ticks // local_square_size, local_square_size, length_ticks // local_square_size, local_square_size))\n",
    "arr = arr.transpose((0, 1, 3, 2, 4))\n",
    "arr.shape"
   ]
  },
  {
   "cell_type": "code",
   "execution_count": null,
   "metadata": {},
   "outputs": [
    {
     "data": {
      "text/plain": [
       "(1200, 8, 5, 5, 5, 5)"
      ]
     },
     "execution_count": 23,
     "metadata": {},
     "output_type": "execute_result"
    }
   ],
   "source": [
    "data[\"corrs\"].shape"
   ]
  },
  {
   "cell_type": "code",
   "execution_count": null,
   "metadata": {},
   "outputs": [
    {
     "data": {
      "text/plain": [
       "(9600, 5, 5, 5, 5)"
      ]
     },
     "execution_count": 27,
     "metadata": {},
     "output_type": "execute_result"
    }
   ],
   "source": [
    "sample_dim = data[\"corrs\"].shape[0]\n",
    "square_dim = data[\"corrs\"].shape[1]\n",
    "new_target_shape = (sample_dim * square_dim,) + tuple(data[\"corrs\"].shape[2:])\n",
    "data[\"corrs\"].reshape(new_target_shape).shape"
   ]
  },
  {
   "cell_type": "code",
   "execution_count": null,
   "metadata": {},
   "outputs": [],
   "source": []
  }
 ],
 "metadata": {
  "kernelspec": {
   "display_name": "ml_env",
   "language": "python",
   "name": "python3"
  },
  "language_info": {
   "codemirror_mode": {
    "name": "ipython",
    "version": 3
   },
   "file_extension": ".py",
   "mimetype": "text/x-python",
   "name": "python",
   "nbconvert_exporter": "python",
   "pygments_lexer": "ipython3",
   "version": "3.11.4"
  },
  "orig_nbformat": 4
 },
 "nbformat": 4,
 "nbformat_minor": 2
}
