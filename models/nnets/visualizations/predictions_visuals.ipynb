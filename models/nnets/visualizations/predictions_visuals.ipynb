{
 "cells": [
  {
   "cell_type": "code",
   "execution_count": 1,
   "metadata": {},
   "outputs": [],
   "source": [
    "import matplotlib.pyplot as plt\n",
    "import numpy as np"
   ]
  },
  {
   "cell_type": "markdown",
   "metadata": {},
   "source": [
    "**Get prediction data**"
   ]
  },
  {
   "cell_type": "code",
   "execution_count": 9,
   "metadata": {},
   "outputs": [
    {
     "name": "stdout",
     "output_type": "stream",
     "text": [
      "(200,)\n"
     ]
    }
   ],
   "source": [
    "pred_data = np.load(\"../logging/20231004_114151_densnet_CgybdWyV_md_h2.npz_densities_final/preds.npz\", allow_pickle=True)\n",
    "pred_data_idx = pred_data[\"data_idx\"]\n",
    "pred_densities = pred_data[\"pred_densities\"]\n",
    "pred_densities = np.reshape(pred_densities, (pred_densities.shape[0], 10, 20))"
   ]
  },
  {
   "cell_type": "markdown",
   "metadata": {},
   "source": [
    "**Get original data**"
   ]
  },
  {
   "cell_type": "code",
   "execution_count": 11,
   "metadata": {},
   "outputs": [
    {
     "name": "stdout",
     "output_type": "stream",
     "text": [
      "['R', 'densities', 'corrs', 'coords']\n"
     ]
    },
    {
     "ename": "TypeError",
     "evalue": "unhashable type: 'numpy.ndarray'",
     "output_type": "error",
     "traceback": [
      "\u001b[0;31m---------------------------------------------------------------------------\u001b[0m",
      "\u001b[0;31mTypeError\u001b[0m                                 Traceback (most recent call last)",
      "\u001b[1;32m/Users/benni/Documents/MA/models/nnets/visualizations/predictions_visuals.ipynb Zelle 5\u001b[0m line \u001b[0;36m3\n\u001b[1;32m      <a href='vscode-notebook-cell:/Users/benni/Documents/MA/models/nnets/visualizations/predictions_visuals.ipynb#X10sZmlsZQ%3D%3D?line=0'>1</a>\u001b[0m orig_data \u001b[39m=\u001b[39m np\u001b[39m.\u001b[39mload(\u001b[39m\"\u001b[39m\u001b[39m../data/md_h2.npz\u001b[39m\u001b[39m\"\u001b[39m, allow_pickle\u001b[39m=\u001b[39m\u001b[39mTrue\u001b[39;00m)\n\u001b[1;32m      <a href='vscode-notebook-cell:/Users/benni/Documents/MA/models/nnets/visualizations/predictions_visuals.ipynb#X10sZmlsZQ%3D%3D?line=1'>2</a>\u001b[0m \u001b[39mprint\u001b[39m(\u001b[39mlist\u001b[39m(orig_data\u001b[39m.\u001b[39mkeys()))\n\u001b[0;32m----> <a href='vscode-notebook-cell:/Users/benni/Documents/MA/models/nnets/visualizations/predictions_visuals.ipynb#X10sZmlsZQ%3D%3D?line=2'>3</a>\u001b[0m orig_densities \u001b[39m=\u001b[39m orig_data[pred_data_idx]\n",
      "\u001b[0;31mTypeError\u001b[0m: unhashable type: 'numpy.ndarray'"
     ]
    }
   ],
   "source": [
    "orig_data = np.load(\"../data/md_h2.npz\", allow_pickle=True)\n",
    "print(list(orig_data.keys()))\n",
    "orig_densities = orig_data[\"densities\"][pred_data_idx]"
   ]
  },
  {
   "cell_type": "markdown",
   "metadata": {},
   "source": [
    "**Plot predicted densities**"
   ]
  },
  {
   "cell_type": "code",
   "execution_count": null,
   "metadata": {},
   "outputs": [],
   "source": [
    "plot_idx = 0\n",
    "\n",
    "plt.imshow(pred_densities, cmap='viridis', interpolation='nearest')\n",
    "plt.colorbar()\n",
    "plt.show()"
   ]
  }
 ],
 "metadata": {
  "kernelspec": {
   "display_name": "tf_old",
   "language": "python",
   "name": "python3"
  },
  "language_info": {
   "codemirror_mode": {
    "name": "ipython",
    "version": 3
   },
   "file_extension": ".py",
   "mimetype": "text/x-python",
   "name": "python",
   "nbconvert_exporter": "python",
   "pygments_lexer": "ipython3",
   "version": "3.10.8"
  },
  "orig_nbformat": 4
 },
 "nbformat": 4,
 "nbformat_minor": 2
}
