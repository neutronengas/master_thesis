{
 "cells": [
  {
   "cell_type": "code",
   "execution_count": 1,
   "metadata": {},
   "outputs": [],
   "source": [
    "import numpy as np\n",
    "import math\n",
    "import tensorflow as tf"
   ]
  },
  {
   "cell_type": "code",
   "execution_count": 19,
   "metadata": {},
   "outputs": [],
   "source": [
    "s_type_exp_per_atom = 3\n",
    "p_type_exp_per_atom = 4\n",
    "batch_size = 30\n",
    "Z = np.array([1 for _ in range(2 * batch_size)])\n",
    "R = np.random.random((2 * batch_size, 3))\n",
    "coords = np.random.random((batch_size, 200, 3))\n",
    "N = np.array([2 for _ in coords])\n",
    "\n",
    "n_mol = tf.shape(N)[0]\n",
    "mol_ids = tf.repeat(tf.range(n_mol), N)\n",
    "N_electrons = tf.math.unsorted_segment_sum(Z, mol_ids, n_mol)[:, None]\n",
    "# recreate grid points for each atom of the molecule separately\n",
    "coords = tf.repeat(coords, N, axis=0)\n",
    "# recreate atomic positions for each point on the grid\n",
    "coeffs = np.random.random((Z.shape[0], 2 * s_type_exp_per_atom + 5 * p_type_exp_per_atom))\n",
    "#coords = tf.transpose(coords, (0, 2, 1))\n",
    "s_type_alphas = coeffs[:, :s_type_exp_per_atom] ** 2\n",
    "index = s_type_exp_per_atom\n",
    "s_type_cs = coeffs[:, index:index+s_type_exp_per_atom]\n",
    "index += s_type_exp_per_atom\n",
    "p_type_alphas = coeffs[:, index:index+p_type_exp_per_atom] ** 2\n",
    "index += p_type_exp_per_atom\n",
    "p_type_cs = coeffs[:, index:index+p_type_exp_per_atom]\n",
    "index += p_type_exp_per_atom\n",
    "v_coeffs = coeffs[:, index:]\n",
    "# calculate the integrals of the orbitals for later normalization\n",
    "s_type_integrals = s_type_cs * tf.math.sqrt(math.pi / s_type_alphas)\n",
    "p_type_integrals = 0.5 * p_type_cs * tf.math.sqrt(math.pi ** 3 / p_type_alphas ** 5)\n",
    "# create the contribution from the s_type orbitals\n",
    "# calculate the norm of the s-type orbitals \n",
    "s_type_out = s_type_cs[:, :, None] * tf.exp(-1 * s_type_alphas[:, :, None] * (tf.math.reduce_sum((R[:, None, :] - coords) ** 2, axis=-1))[:, None, :])\n",
    "s_type_out = tf.math.reduce_sum(s_type_out, axis=1)\n",
    "s_type_out = tf.math.unsorted_segment_sum(s_type_out, mol_ids, n_mol)\n",
    "# create the contribution from the p-type orbitals\n",
    "v_coeffs = tf.reshape(v_coeffs, (v_coeffs.shape[0], p_type_exp_per_atom, 3))\n",
    "p_type_out = p_type_cs[:, :, None] * tf.exp(-1 * p_type_alphas[:, :, None] * (tf.math.reduce_sum((R[:, None, :] - coords) ** 2, axis=-1))[:, None, :])\n",
    "test = tf.math.reduce_sum((v_coeffs[:, :, None, : ] * (R[:, None, :] - coords)[:, None, :, :])**2, axis=-1)\n",
    "p_type_out = p_type_out * test\n",
    "p_type_out = tf.math.reduce_sum(p_type_out, axis=1)\n",
    "p_type_out = tf.math.unsorted_segment_sum(p_type_out, mol_ids, n_mol)\n",
    "# normalizing \n",
    "s_type_norms = tf.math.unsorted_segment_sum(s_type_integrals, mol_ids, n_mol)\n",
    "s_type_norms = tf.math.reduce_sum(s_type_norms, axis=-1)\n",
    "p_type_norms = tf.math.unsorted_segment_sum(p_type_integrals, mol_ids, n_mol)\n",
    "p_type_norms = tf.math.reduce_sum(p_type_norms, axis=-1)\n",
    "norms_sum = (s_type_norms + p_type_norms)[:, None]\n",
    "#dens_out = (s_type_out + p_type_out) / (s_type_norms + p_type_norms) * tf.cast(N_electrons, dtype=tf.float32)\n",
    "dens_out = (s_type_out + p_type_out) / norms_sum #* N_electrons"
   ]
  },
  {
   "cell_type": "code",
   "execution_count": 22,
   "metadata": {},
   "outputs": [
    {
     "data": {
      "text/plain": [
       "<tf.Tensor: shape=(30, 200), dtype=float64, numpy=\n",
       "array([[2.51682718, 2.69503497, 2.86461325, ..., 3.05191844, 2.52469283,\n",
       "        2.76587181],\n",
       "       [2.89734896, 2.90040596, 2.97613405, ..., 3.02459033, 3.33838717,\n",
       "        3.08620341],\n",
       "       [3.50360183, 3.02264918, 3.14775571, ..., 3.5416509 , 3.05230738,\n",
       "        2.94342034],\n",
       "       ...,\n",
       "       [3.7062355 , 3.69630771, 3.47968726, ..., 3.10832412, 3.92848541,\n",
       "        4.0853649 ],\n",
       "       [3.35190195, 3.00677693, 3.35477084, ..., 3.05125424, 3.205794  ,\n",
       "        3.06417243],\n",
       "       [3.34392153, 3.24153226, 3.19220864, ..., 3.23908457, 3.22688993,\n",
       "        3.29443415]])>"
      ]
     },
     "execution_count": 22,
     "metadata": {},
     "output_type": "execute_result"
    }
   ],
   "source": [
    "s_type_out + p_type_out"
   ]
  }
 ],
 "metadata": {
  "kernelspec": {
   "display_name": "tf_old",
   "language": "python",
   "name": "python3"
  },
  "language_info": {
   "codemirror_mode": {
    "name": "ipython",
    "version": 3
   },
   "file_extension": ".py",
   "mimetype": "text/x-python",
   "name": "python",
   "nbconvert_exporter": "python",
   "pygments_lexer": "ipython3",
   "version": "3.10.8"
  },
  "orig_nbformat": 4
 },
 "nbformat": 4,
 "nbformat_minor": 2
}
