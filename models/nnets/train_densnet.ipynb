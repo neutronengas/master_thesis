{
 "cells": [
  {
   "cell_type": "code",
   "execution_count": 1,
   "metadata": {},
   "outputs": [
    {
     "name": "stderr",
     "output_type": "stream",
     "text": [
      "/Users/benni/anaconda3/envs/tf_old/lib/python3.10/site-packages/tensorflow_addons/utils/tfa_eol_msg.py:23: UserWarning: \n",
      "\n",
      "TensorFlow Addons (TFA) has ended development and introduction of new features.\n",
      "TFA has entered a minimal maintenance and release mode until a planned end of life in May 2024.\n",
      "Please modify downstream libraries to take dependencies from other repositories in our TensorFlow community (e.g. Keras, Keras-CV, and Keras-NLP). \n",
      "\n",
      "For more information see: https://github.com/tensorflow/addons/issues/2807 \n",
      "\n",
      "  warnings.warn(\n",
      "/Users/benni/anaconda3/envs/tf_old/lib/python3.10/site-packages/tensorflow_addons/utils/ensure_tf_install.py:53: UserWarning: Tensorflow Addons supports using Python ops for all Tensorflow versions above or equal to 2.11.0 and strictly below 2.14.0 (nightly versions are not supported). \n",
      " The versions of TensorFlow you are currently using is 2.10.0 and is not supported. \n",
      "Some things might work, some things might not.\n",
      "If you were to encounter a bug, do not file an issue.\n",
      "If you want to make sure you're using a tested and supported configuration, either change the TensorFlow version or the TensorFlow Addons's version. \n",
      "You can find the compatibility matrix in TensorFlow Addon's readme:\n",
      "https://github.com/tensorflow/addons\n",
      "  warnings.warn(\n"
     ]
    }
   ],
   "source": [
    "import tensorflow as tf\n",
    "import numpy as np\n",
    "import os\n",
    "import ast\n",
    "import logging\n",
    "import string\n",
    "import random\n",
    "import yaml\n",
    "\n",
    "from datetime import datetime\n",
    "\n",
    "from densnet.model.densnet import DensNet\n",
    "from densnet.model.dumbnet import DumbNet\n",
    "from densnet.model.activations import swish\n",
    "from densnet.training.metrics import Metrics\n",
    "from densnet.training.trainer import Trainer\n",
    "from densnet.training.data_container import DataContainer\n",
    "from densnet.training.data_provider import DataProvider"
   ]
  },
  {
   "cell_type": "code",
   "execution_count": 2,
   "metadata": {},
   "outputs": [],
   "source": [
    "# set up logger\n",
    "logger = logging.getLogger()\n",
    "\n",
    "logger.handlers = []\n",
    "ch = logging.StreamHandler()\n",
    "formatter = logging.Formatter(\n",
    "    fmt='%(asctime)s (%(levelname)s): %(message)s',\n",
    "    datefmt='%Y-%m-%d %H:%M:%S'\n",
    ")\n",
    "ch.setFormatter(formatter)\n",
    "logger.addHandler(ch)\n",
    "logger.setLevel('INFO')\n",
    "os.environ['TF_CPP_MIN_LOG_LEVEL'] = '1'\n",
    "tf.get_logger().setLevel('WARN')\n",
    "tf.autograph.set_verbosity(2)"
   ]
  },
  {
   "cell_type": "code",
   "execution_count": 3,
   "metadata": {},
   "outputs": [],
   "source": [
    "with open('config_densnet.yaml', 'r') as c:\n",
    "    config = yaml.safe_load(c)"
   ]
  },
  {
   "cell_type": "code",
   "execution_count": 4,
   "metadata": {},
   "outputs": [],
   "source": [
    "for key, val in config.items():\n",
    "    if type(val) is str:\n",
    "        try:\n",
    "            config[key] = ast.literal_eval(val)\n",
    "        except (ValueError, SyntaxError):\n",
    "            pass"
   ]
  },
  {
   "cell_type": "code",
   "execution_count": 5,
   "metadata": {},
   "outputs": [],
   "source": [
    "model_name = config['model_name']\n",
    "\n",
    "s_type_per_atom = config['s_type_per_atom']\n",
    "p_type_per_atom = config['p_type_per_atom']\n",
    "emb_size = config['emb_size']\n",
    "num_interaction_blocks = config['num_interaction_blocks']\n",
    "width_ticks = config['width_ticks']\n",
    "length_ticks = config['length_ticks']\n",
    "cutoff = config['cutoff']\n",
    "\n",
    "num_train = config['num_train']\n",
    "num_valid = config['num_valid']\n",
    "data_seed = config['data_seed']\n",
    "dataset = config['dataset']\n",
    "logdir = config['logdir']\n",
    "\n",
    "num_steps = config['num_steps']\n",
    "ema_decay = config['ema_decay']\n",
    "\n",
    "learning_rate = config['learning_rate']\n",
    "warmup_steps = config['warmup_steps']\n",
    "decay_rate = config['decay_rate']\n",
    "decay_steps = config['decay_steps']\n",
    "\n",
    "batch_size = config['batch_size']\n",
    "evaluation_interval = config['evaluation_interval']\n",
    "save_interval = config['save_interval']\n",
    "restart = config['restart']\n",
    "comment = config['comment']\n",
    "target = config['target']"
   ]
  },
  {
   "attachments": {},
   "cell_type": "markdown",
   "metadata": {},
   "source": [
    "***Create directories***"
   ]
  },
  {
   "cell_type": "code",
   "execution_count": 6,
   "metadata": {},
   "outputs": [
    {
     "name": "stderr",
     "output_type": "stream",
     "text": [
      "2023-10-02 17:40:33 (INFO): Directory: ./logging/20231002_174033_densnet_tf7kKqcp_md_h2.npz_densities_final\n"
     ]
    }
   ],
   "source": [
    "# Used for creating a random \"unique\" id for this run\n",
    "def id_generator(size=8, chars=string.ascii_uppercase + string.ascii_lowercase + string.digits):\n",
    "    return ''.join(random.SystemRandom().choice(chars) for _ in range(size))\n",
    "\n",
    "# Create directories\n",
    "# A unique directory name is created for this run based on the input\n",
    "if restart is None:\n",
    "    directory = (logdir + \"/\" + datetime.now().strftime(\"%Y%m%d_%H%M%S\") + \"_\" + model_name\n",
    "                 + \"_\" + id_generator()\n",
    "                 + \"_\" + os.path.basename(dataset)\n",
    "                 + \"_\" + '-'.join(target)\n",
    "                 + \"_\" + comment)\n",
    "else:\n",
    "    directory = restart\n",
    "logging.info(f\"Directory: {directory}\")\n",
    "\n",
    "if not os.path.exists(directory):\n",
    "    os.makedirs(directory)\n",
    "best_dir = os.path.join(directory, 'best')\n",
    "if not os.path.exists(best_dir):\n",
    "    os.makedirs(best_dir)\n",
    "log_dir = os.path.join(directory, 'logs')\n",
    "if not os.path.exists(log_dir):\n",
    "    os.makedirs(log_dir)\n",
    "best_loss_file = os.path.join(best_dir, 'best_loss.npz')\n",
    "best_ckpt_file = os.path.join(best_dir, 'ckpt')\n",
    "step_ckpt_folder = log_dir"
   ]
  },
  {
   "attachments": {},
   "cell_type": "markdown",
   "metadata": {},
   "source": [
    "***Create summary writer and metrics***"
   ]
  },
  {
   "cell_type": "code",
   "execution_count": 7,
   "metadata": {},
   "outputs": [],
   "source": [
    "summary_writer = tf.summary.create_file_writer(log_dir)\n",
    "train = {}\n",
    "validation = {}\n",
    "train['metrics'] = Metrics('train', target)\n",
    "validation['metrics'] = Metrics('val', target)"
   ]
  },
  {
   "attachments": {},
   "cell_type": "markdown",
   "metadata": {},
   "source": [
    "*Load Dataset*"
   ]
  },
  {
   "cell_type": "code",
   "execution_count": 8,
   "metadata": {},
   "outputs": [
    {
     "name": "stderr",
     "output_type": "stream",
     "text": [
      "2023-10-02 17:40:34.061696: W tensorflow/core/platform/profile_utils/cpu_utils.cc:128] Failed to get CPU frequency: 0 Hz\n"
     ]
    }
   ],
   "source": [
    "data_container = DataContainer(dataset, target, cutoff)\n",
    "data_provider = DataProvider(data_container, num_train, num_valid, batch_size, seed=data_seed, randomized=True)\n",
    "\n",
    "train['dataset'] = data_provider.get_dataset('train').prefetch(tf.data.experimental.AUTOTUNE)\n",
    "train['dataset_iter'] = iter(train['dataset'])\n",
    "validation['dataset'] = data_provider.get_dataset('val').prefetch(tf.data.experimental.AUTOTUNE)\n",
    "validation['dataset_iter'] = iter(validation['dataset'])"
   ]
  },
  {
   "attachments": {},
   "cell_type": "markdown",
   "metadata": {},
   "source": [
    "*Initialize model*"
   ]
  },
  {
   "cell_type": "code",
   "execution_count": 9,
   "metadata": {},
   "outputs": [],
   "source": [
    "if model_name == \"dumbnet\":\n",
    "    model = None\n",
    "else:\n",
    "    model = DensNet(num_interaction_blocks=num_interaction_blocks, num_grid_points=width_ticks*length_ticks, emb_size=emb_size, s_type_per_atom=s_type_per_atom, p_type_per_atom=p_type_per_atom, activation=swish)"
   ]
  },
  {
   "attachments": {},
   "cell_type": "markdown",
   "metadata": {},
   "source": [
    "*Save/load best recorded loss*"
   ]
  },
  {
   "cell_type": "code",
   "execution_count": 10,
   "metadata": {},
   "outputs": [
    {
     "name": "stderr",
     "output_type": "stream",
     "text": [
      "/Users/benni/Documents/MA/models/nnets/densnet/training/metrics.py:68: RuntimeWarning: divide by zero encountered in log\n",
      "  return np.mean(np.log(self.maes)).item()\n"
     ]
    }
   ],
   "source": [
    "if os.path.isfile(best_loss_file):\n",
    "    loss_file = np.load(best_loss_file)\n",
    "    metrics_best = {k: v.item() for k, v in loss_file.items()}\n",
    "else:\n",
    "    metrics_best = validation['metrics'].result()\n",
    "    for key in metrics_best.keys():\n",
    "        metrics_best[key] = np.inf\n",
    "    metrics_best['step'] = 0\n",
    "    np.savez(best_loss_file, **metrics_best)"
   ]
  },
  {
   "attachments": {},
   "cell_type": "markdown",
   "metadata": {},
   "source": [
    "*Initialize trainer*"
   ]
  },
  {
   "cell_type": "code",
   "execution_count": 11,
   "metadata": {},
   "outputs": [],
   "source": [
    "trainer = Trainer(model, learning_rate, warmup_steps, decay_steps, decay_rate, ema_decay, max_grad_norm=1000)"
   ]
  },
  {
   "attachments": {},
   "cell_type": "markdown",
   "metadata": {},
   "source": [
    "*Set up checkpointing and load latest checkpoint*"
   ]
  },
  {
   "cell_type": "code",
   "execution_count": 12,
   "metadata": {},
   "outputs": [],
   "source": [
    "# Set up checkpointing\n",
    "ckpt = tf.train.Checkpoint(step=tf.Variable(1), optimizer=trainer.optimizer, model=model)\n",
    "manager = tf.train.CheckpointManager(ckpt, step_ckpt_folder, max_to_keep=3)\n",
    "\n",
    "# Restore latest checkpoint\n",
    "ckpt_restored = tf.train.latest_checkpoint(log_dir)\n",
    "if ckpt_restored is not None:\n",
    "    ckpt.restore(ckpt_restored)"
   ]
  },
  {
   "attachments": {},
   "cell_type": "markdown",
   "metadata": {},
   "source": [
    "*Training loop*"
   ]
  },
  {
   "cell_type": "code",
   "execution_count": 13,
   "metadata": {},
   "outputs": [
    {
     "name": "stderr",
     "output_type": "stream",
     "text": [
      "/Users/benni/anaconda3/envs/tf_old/lib/python3.10/site-packages/tensorflow/python/framework/indexed_slices.py:444: UserWarning: Converting sparse IndexedSlices(IndexedSlices(indices=Tensor(\"gradient_tape/densnet/interaction/Reshape_2:0\", shape=(None,), dtype=int32), values=Tensor(\"gradient_tape/densnet/interaction/Reshape_1:0\", shape=(None, 30), dtype=float32), dense_shape=Tensor(\"gradient_tape/densnet/interaction/Cast:0\", shape=(2,), dtype=int32))) to a dense Tensor of unknown shape. This may consume a large amount of memory.\n",
      "  warnings.warn(\n",
      "/Users/benni/anaconda3/envs/tf_old/lib/python3.10/site-packages/tensorflow/python/framework/indexed_slices.py:444: UserWarning: Converting sparse IndexedSlices(IndexedSlices(indices=Tensor(\"gradient_tape/densnet/interaction/Reshape_5:0\", shape=(None,), dtype=int32), values=Tensor(\"gradient_tape/densnet/interaction/Reshape_4:0\", shape=(None, 30), dtype=float32), dense_shape=Tensor(\"gradient_tape/densnet/interaction/Cast_1:0\", shape=(2,), dtype=int32))) to a dense Tensor of unknown shape. This may consume a large amount of memory.\n",
      "  warnings.warn(\n",
      "2023-10-02 17:40:37 (INFO): 100/10000 (epoch 4):Loss: train=0.114616, val=0.174619;logMAE: train=-2.166170, val=-1.745150\n",
      "2023-10-02 17:40:39 (INFO): 200/10000 (epoch 8):Loss: train=0.055551, val=0.162074;logMAE: train=-2.890459, val=-1.819704\n",
      "2023-10-02 17:40:40 (INFO): 300/10000 (epoch 12):Loss: train=0.055461, val=0.148901;logMAE: train=-2.892067, val=-1.904476\n",
      "2023-10-02 17:40:42 (INFO): 400/10000 (epoch 15):Loss: train=0.054549, val=0.134528;logMAE: train=-2.908648, val=-2.005980\n",
      "2023-10-02 17:40:44 (INFO): 500/10000 (epoch 19):Loss: train=0.053534, val=0.116685;logMAE: train=-2.927442, val=-2.148280\n",
      "2023-10-02 17:40:46 (INFO): 600/10000 (epoch 23):Loss: train=0.052067, val=0.095314;logMAE: train=-2.955229, val=-2.350580\n",
      "2023-10-02 17:40:47 (INFO): 700/10000 (epoch 26):Loss: train=0.051931, val=0.077018;logMAE: train=-2.957839, val=-2.563711\n",
      "2023-10-02 17:40:49 (INFO): 800/10000 (epoch 30):Loss: train=0.051551, val=0.065499;logMAE: train=-2.965188, val=-2.725721\n",
      "2023-10-02 17:40:51 (INFO): 900/10000 (epoch 34):Loss: train=0.051516, val=0.058497;logMAE: train=-2.965861, val=-2.838778\n",
      "2023-10-02 17:40:53 (INFO): 1000/10000 (epoch 38):Loss: train=0.051407, val=0.054870;logMAE: train=-2.967990, val=-2.902781\n",
      "2023-10-02 17:40:55 (INFO): 1100/10000 (epoch 41):Loss: train=0.051098, val=0.053393;logMAE: train=-2.974007, val=-2.930083\n",
      "2023-10-02 17:40:56 (INFO): 1200/10000 (epoch 45):Loss: train=0.051340, val=0.053131;logMAE: train=-2.969292, val=-2.934989\n",
      "2023-10-02 17:40:58 (INFO): 1300/10000 (epoch 49):Loss: train=0.050848, val=0.053312;logMAE: train=-2.978919, val=-2.931589\n",
      "2023-10-02 17:41:00 (INFO): 1400/10000 (epoch 52):Loss: train=0.050843, val=0.053551;logMAE: train=-2.979019, val=-2.927121\n",
      "2023-10-02 17:41:02 (INFO): 1500/10000 (epoch 56):Loss: train=0.050735, val=0.053609;logMAE: train=-2.981140, val=-2.926047\n",
      "2023-10-02 17:41:03 (INFO): 1600/10000 (epoch 60):Loss: train=0.050944, val=0.053368;logMAE: train=-2.977027, val=-2.930547\n",
      "2023-10-02 17:41:05 (INFO): 1700/10000 (epoch 63):Loss: train=0.050782, val=0.053027;logMAE: train=-2.980207, val=-2.936952\n",
      "2023-10-02 17:41:07 (INFO): 1800/10000 (epoch 67):Loss: train=0.050830, val=0.052705;logMAE: train=-2.979270, val=-2.943052\n",
      "2023-10-02 17:41:09 (INFO): 1900/10000 (epoch 71):Loss: train=0.050834, val=0.052461;logMAE: train=-2.979181, val=-2.947677\n",
      "2023-10-02 17:41:11 (INFO): 2000/10000 (epoch 75):Loss: train=0.050733, val=0.052249;logMAE: train=-2.981176, val=-2.951732\n",
      "2023-10-02 17:41:12 (INFO): 2100/10000 (epoch 78):Loss: train=0.050901, val=0.052058;logMAE: train=-2.977878, val=-2.955388\n",
      "2023-10-02 17:41:14 (INFO): 2200/10000 (epoch 82):Loss: train=0.050803, val=0.051822;logMAE: train=-2.979797, val=-2.959943\n",
      "2023-10-02 17:41:16 (INFO): 2300/10000 (epoch 86):Loss: train=0.050778, val=0.051620;logMAE: train=-2.980286, val=-2.963844\n",
      "2023-10-02 17:41:18 (INFO): 2400/10000 (epoch 89):Loss: train=0.050886, val=0.051454;logMAE: train=-2.978175, val=-2.967068\n",
      "2023-10-02 17:41:20 (INFO): 2500/10000 (epoch 93):Loss: train=0.050794, val=0.051297;logMAE: train=-2.979967, val=-2.970124\n",
      "2023-10-02 17:41:21 (INFO): 2600/10000 (epoch 97):Loss: train=0.050796, val=0.051168;logMAE: train=-2.979930, val=-2.972642\n",
      "2023-10-02 17:41:23 (INFO): 2700/10000 (epoch 101):Loss: train=0.050771, val=0.051052;logMAE: train=-2.980437, val=-2.974905\n",
      "2023-10-02 17:41:25 (INFO): 2800/10000 (epoch 104):Loss: train=0.050828, val=0.050957;logMAE: train=-2.979301, val=-2.976768\n",
      "2023-10-02 17:41:27 (INFO): 2900/10000 (epoch 108):Loss: train=0.050757, val=0.050881;logMAE: train=-2.980711, val=-2.978273\n",
      "2023-10-02 17:41:29 (INFO): 3000/10000 (epoch 112):Loss: train=0.050866, val=0.050821;logMAE: train=-2.978559, val=-2.979453\n",
      "2023-10-02 17:41:30 (INFO): 3100/10000 (epoch 115):Loss: train=0.050721, val=0.050768;logMAE: train=-2.981411, val=-2.980490\n",
      "2023-10-02 17:41:32 (INFO): 3200/10000 (epoch 119):Loss: train=0.050913, val=0.050728;logMAE: train=-2.977638, val=-2.981271\n",
      "2023-10-02 17:41:34 (INFO): 3300/10000 (epoch 123):Loss: train=0.050846, val=0.050694;logMAE: train=-2.978948, val=-2.981947\n",
      "2023-10-02 17:41:36 (INFO): 3400/10000 (epoch 126):Loss: train=0.050751, val=0.050665;logMAE: train=-2.980830, val=-2.982516\n",
      "2023-10-02 17:41:37 (INFO): 3500/10000 (epoch 130):Loss: train=0.050753, val=0.050642;logMAE: train=-2.980788, val=-2.982969\n",
      "2023-10-02 17:41:39 (INFO): 3600/10000 (epoch 134):Loss: train=0.050950, val=0.050626;logMAE: train=-2.976908, val=-2.983286\n",
      "2023-10-02 17:41:41 (INFO): 3700/10000 (epoch 138):Loss: train=0.050807, val=0.050614;logMAE: train=-2.979721, val=-2.983520\n",
      "2023-10-02 17:41:43 (INFO): 3800/10000 (epoch 141):Loss: train=0.050779, val=0.050602;logMAE: train=-2.980266, val=-2.983757\n",
      "2023-10-02 17:41:45 (INFO): 3900/10000 (epoch 145):Loss: train=0.050872, val=0.050593;logMAE: train=-2.978439, val=-2.983934\n",
      "2023-10-02 17:41:46 (INFO): 4000/10000 (epoch 149):Loss: train=0.050788, val=0.050586;logMAE: train=-2.980088, val=-2.984089\n",
      "2023-10-02 17:41:48 (INFO): 4100/10000 (epoch 152):Loss: train=0.050939, val=0.050581;logMAE: train=-2.977125, val=-2.984187\n",
      "2023-10-02 17:41:50 (INFO): 4200/10000 (epoch 156):Loss: train=0.050712, val=0.050577;logMAE: train=-2.981593, val=-2.984260\n",
      "2023-10-02 17:41:52 (INFO): 4300/10000 (epoch 160):Loss: train=0.050993, val=0.050573;logMAE: train=-2.976073, val=-2.984344\n",
      "2023-10-02 17:41:53 (INFO): 4400/10000 (epoch 163):Loss: train=0.050647, val=0.050570;logMAE: train=-2.982883, val=-2.984390\n",
      "2023-10-02 17:41:55 (INFO): 4500/10000 (epoch 167):Loss: train=0.050821, val=0.050567;logMAE: train=-2.979447, val=-2.984457\n",
      "2023-10-02 17:41:57 (INFO): 4600/10000 (epoch 171):Loss: train=0.050891, val=0.050566;logMAE: train=-2.978078, val=-2.984479\n",
      "2023-10-02 17:41:59 (INFO): 4700/10000 (epoch 175):Loss: train=0.050816, val=0.050564;logMAE: train=-2.979548, val=-2.984515\n",
      "2023-10-02 17:42:01 (INFO): 4800/10000 (epoch 178):Loss: train=0.050739, val=0.050563;logMAE: train=-2.981054, val=-2.984533\n",
      "2023-10-02 17:42:02 (INFO): 4900/10000 (epoch 182):Loss: train=0.050970, val=0.050562;logMAE: train=-2.976517, val=-2.984551\n",
      "2023-10-02 17:42:04 (INFO): 5000/10000 (epoch 186):Loss: train=0.050679, val=0.050561;logMAE: train=-2.982244, val=-2.984565\n",
      "2023-10-02 17:42:06 (INFO): 5100/10000 (epoch 189):Loss: train=0.050858, val=0.050561;logMAE: train=-2.978723, val=-2.984571\n",
      "2023-10-02 17:42:08 (INFO): 5200/10000 (epoch 193):Loss: train=0.050764, val=0.050561;logMAE: train=-2.980576, val=-2.984577\n",
      "2023-10-02 17:42:09 (INFO): 5300/10000 (epoch 197):Loss: train=0.050797, val=0.050560;logMAE: train=-2.979927, val=-2.984585\n",
      "2023-10-02 17:42:11 (INFO): 5400/10000 (epoch 201):Loss: train=0.050774, val=0.050560;logMAE: train=-2.980381, val=-2.984588\n",
      "2023-10-02 17:42:13 (INFO): 5500/10000 (epoch 204):Loss: train=0.050833, val=0.050560;logMAE: train=-2.979208, val=-2.984593\n",
      "2023-10-02 17:42:15 (INFO): 5600/10000 (epoch 208):Loss: train=0.050875, val=0.050560;logMAE: train=-2.978379, val=-2.984592\n",
      "2023-10-02 17:42:17 (INFO): 5700/10000 (epoch 212):Loss: train=0.050777, val=0.050560;logMAE: train=-2.980303, val=-2.984593\n",
      "2023-10-02 17:42:18 (INFO): 5800/10000 (epoch 215):Loss: train=0.050735, val=0.050560;logMAE: train=-2.981146, val=-2.984593\n",
      "2023-10-02 17:42:20 (INFO): 5900/10000 (epoch 219):Loss: train=0.050700, val=0.050560;logMAE: train=-2.981824, val=-2.984591\n",
      "2023-10-02 17:42:22 (INFO): 6000/10000 (epoch 223):Loss: train=0.051006, val=0.050560;logMAE: train=-2.975805, val=-2.984591\n",
      "2023-10-02 17:42:24 (INFO): 6100/10000 (epoch 226):Loss: train=0.050727, val=0.050560;logMAE: train=-2.981297, val=-2.984592\n",
      "2023-10-02 17:42:26 (INFO): 6200/10000 (epoch 230):Loss: train=0.050787, val=0.050560;logMAE: train=-2.980122, val=-2.984593\n",
      "2023-10-02 17:42:27 (INFO): 6300/10000 (epoch 234):Loss: train=0.050916, val=0.050560;logMAE: train=-2.977577, val=-2.984594\n",
      "2023-10-02 17:42:29 (INFO): 6400/10000 (epoch 238):Loss: train=0.050658, val=0.050560;logMAE: train=-2.982667, val=-2.984596\n",
      "2023-10-02 17:42:31 (INFO): 6500/10000 (epoch 241):Loss: train=0.050845, val=0.050560;logMAE: train=-2.978975, val=-2.984600\n",
      "2023-10-02 17:42:33 (INFO): 6600/10000 (epoch 245):Loss: train=0.050641, val=0.050560;logMAE: train=-2.982990, val=-2.984600\n",
      "2023-10-02 17:42:35 (INFO): 6700/10000 (epoch 249):Loss: train=0.050989, val=0.050560;logMAE: train=-2.976144, val=-2.984602\n"
     ]
    }
   ],
   "source": [
    "with summary_writer.as_default():\n",
    "    steps_per_epoch = int(np.ceil(num_train / batch_size))\n",
    "\n",
    "    if ckpt_restored is not None:\n",
    "        step_init = ckpt.step.numpy()\n",
    "    else:\n",
    "        step_init = 1\n",
    "    for step in range(step_init, num_steps + 1):\n",
    "        # Update step number\n",
    "        ckpt.step.assign(step)\n",
    "        tf.summary.experimental.set_step(step)\n",
    "\n",
    "        # Perform training step\n",
    "        trainer.train_on_batch(train['dataset_iter'], train['metrics'])\n",
    "\n",
    "        # Save progress\n",
    "        if (step % save_interval == 0):\n",
    "            manager.save()\n",
    "\n",
    "        # Evaluate model and log results\n",
    "        if (step % evaluation_interval == 0):\n",
    "\n",
    "            # Save backup variables and load averaged variables\n",
    "            trainer.save_variable_backups()\n",
    "            trainer.load_averaged_variables()\n",
    "\n",
    "            # Compute results on the validation set\n",
    "            for i in range(int(np.ceil(num_valid / batch_size))):\n",
    "                trainer.test_on_batch(validation['dataset_iter'], validation['metrics'])\n",
    "\n",
    "            # Update and save best result\n",
    "            if validation['metrics'].mean_mae < metrics_best['mean_mae_val']:\n",
    "                metrics_best['step'] = step\n",
    "                metrics_best.update(validation['metrics'].result())\n",
    "\n",
    "                np.savez(best_loss_file, **metrics_best)\n",
    "                model.save_weights(best_ckpt_file)\n",
    "\n",
    "            for key, val in metrics_best.items():\n",
    "                if key != 'step':\n",
    "                    tf.summary.scalar(key + '_best', val)\n",
    "                \n",
    "            epoch = step // steps_per_epoch\n",
    "            logging.info(\n",
    "                f\"{step}/{num_steps} (epoch {epoch + 1}):\"\n",
    "                f\"Loss: train={train['metrics'].loss:.6f}, val={validation['metrics'].loss:.6f};\"\n",
    "                f\"logMAE: train={train['metrics'].mean_log_mae:.6f}, \"\n",
    "                f\"val={validation['metrics'].mean_log_mae:.6f}\"\n",
    "            )\n",
    "\n",
    "            train['metrics'].write()\n",
    "            validation['metrics'].write()\n",
    "\n",
    "            train['metrics'].reset_states()\n",
    "            validation['metrics'].reset_states()\n",
    "\n",
    "            # Restore backup variables\n",
    "            trainer.restore_variable_backups()"
   ]
  }
 ],
 "metadata": {
  "kernelspec": {
   "display_name": "Python 3",
   "language": "python",
   "name": "python3"
  },
  "language_info": {
   "codemirror_mode": {
    "name": "ipython",
    "version": 3
   },
   "file_extension": ".py",
   "mimetype": "text/x-python",
   "name": "python",
   "nbconvert_exporter": "python",
   "pygments_lexer": "ipython3",
   "version": "3.10.8"
  },
  "orig_nbformat": 4
 },
 "nbformat": 4,
 "nbformat_minor": 2
}
