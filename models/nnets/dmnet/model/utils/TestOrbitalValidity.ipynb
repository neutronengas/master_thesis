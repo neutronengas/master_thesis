{
 "cells": [
  {
   "cell_type": "code",
   "execution_count": 1,
   "metadata": {},
   "outputs": [],
   "source": [
    "from create_orbital_values import create_orbital_values\n",
    "import numpy as np\n",
    "import matplotlib.pyplot as plt\n",
    "import scipy.sparse as sp"
   ]
  },
  {
   "cell_type": "code",
   "execution_count": 63,
   "metadata": {},
   "outputs": [],
   "source": [
    "data = np.load(\"../../../data/md_h2.npz\", allow_pickle=True)\n",
    "test_data = np.load(\"../../../data/md_h2_hfdensities.npz\", allow_pickle=True)\n",
    "data[\"R\"] = data[\"R\"].reshape((data[\"R\"].shape[0] * data[\"R\"].shape[1], 3))\n",
    "N_cumsum = np.concatenate([[0], data[\"N\"]]).cumsum()\n",
    "N_rdm_cumsum = np.concatenate([[0], data[\"N_rdm\"]]).cumsum()\n",
    "data[\"rdm_hf\"] = test_data[\"rdm_hf\"]"
   ]
  },
  {
   "cell_type": "code",
   "execution_count": 65,
   "metadata": {},
   "outputs": [],
   "source": [
    "densities = test_data[\"densities\"]\n",
    "hf_densities = test_data[\"hf_densities\"]"
   ]
  },
  {
   "cell_type": "code",
   "execution_count": 76,
   "metadata": {},
   "outputs": [
    {
     "data": {
      "text/plain": [
       "0.08881851504881051"
      ]
     },
     "execution_count": 76,
     "metadata": {},
     "output_type": "execute_result"
    }
   ],
   "source": [
    "np.absolute(densities[:, :100] - hf_densities[:, :100]).sum() / 1200"
   ]
  },
  {
   "cell_type": "code",
   "execution_count": null,
   "metadata": {},
   "outputs": [],
   "source": []
  }
 ],
 "metadata": {
  "kernelspec": {
   "display_name": "tf_old",
   "language": "python",
   "name": "python3"
  },
  "language_info": {
   "codemirror_mode": {
    "name": "ipython",
    "version": 3
   },
   "file_extension": ".py",
   "mimetype": "text/x-python",
   "name": "python",
   "nbconvert_exporter": "python",
   "pygments_lexer": "ipython3",
   "version": "3.10.8"
  },
  "orig_nbformat": 4
 },
 "nbformat": 4,
 "nbformat_minor": 2
}
