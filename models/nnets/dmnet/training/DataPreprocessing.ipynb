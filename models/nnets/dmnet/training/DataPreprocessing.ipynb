{
 "cells": [
  {
   "cell_type": "code",
   "execution_count": 70,
   "metadata": {},
   "outputs": [],
   "source": [
    "import numpy as np\n",
    "from functools import partial\n",
    "import matplotlib.pyplot as plt"
   ]
  },
  {
   "cell_type": "code",
   "execution_count": 177,
   "metadata": {},
   "outputs": [],
   "source": [
    "# (m_max=3, max_no_orbitals_per_m=4, max_split_per_m=5)\n",
    "ORBITAL_PARAMS = (3, 4, 5)\n",
    "\n",
    "PYSCF_ORBITAL_INDICES_STRDICT = {\n",
    "    \"H-Ar\": [\n",
    "        [0, 0, 0], \n",
    "        [1, 0, 0], \n",
    "        [1, 1, 0], \n",
    "        [1, 1, 1], \n",
    "        [1, 1, 2]\n",
    "    ],\n",
    "    \"Li-Ne\": [\n",
    "        [0, 0, 0], \n",
    "        [1, 0, 0],\n",
    "        [2, 0, 0],\n",
    "        [1, 1, 0], \n",
    "        [1, 1, 1], \n",
    "        [1, 1, 2],\n",
    "        [2, 1, 0],\n",
    "        [2, 1, 1],\n",
    "        [2, 1, 2],\n",
    "        [2, 2, 0],\n",
    "        [2, 2, 1],\n",
    "        [2, 2, 2],\n",
    "        [2, 2, 3],\n",
    "        [2, 2, 4]\n",
    "    ]\n",
    "}\n",
    "\n",
    "PYSCF_ORBITAL_INDICES = {i: PYSCF_ORBITAL_INDICES_STRDICT[\"H-Ar\"] if i < 3 else PYSCF_ORBITAL_INDICES_STRDICT[\"Li-Ne\"]for i in range(1, 15)}"
   ]
  },
  {
   "cell_type": "code",
   "execution_count": 178,
   "metadata": {},
   "outputs": [],
   "source": [
    "def rdm_transform(rdm, Z, orbital_parameters):\n",
    "    (a, b) = rdm.shape\n",
    "    x = np.repeat(np.arange(a)[:, None], b, axis=1)\n",
    "    y = np.repeat(np.arange(b)[None, :], a, axis=0)\n",
    "    ind_mat = np.dstack((x, y))\n",
    "    \n",
    "    def ind_transform(id, Z, orbital_parameters):\n",
    "        [i, j] = id\n",
    "        new_ij = []\n",
    "        orb_numbers = np.array([5 if i < 3 else 14 for i in Z])\n",
    "        atom_ids = np.repeat(np.arange(1, len(Z) + 1), orb_numbers)\n",
    "        for k, x in enumerate([i, j]):\n",
    "            atom_id = atom_ids[x]\n",
    "            num_orb_within_mol = (atom_ids == atom_id)[:x].sum()\n",
    "            index = PYSCF_ORBITAL_INDICES[atom_id][num_orb_within_mol]\n",
    "            flattened_index_offset = np.ravel_multi_index(index, dims=orbital_parameters)\n",
    "            max_index = tuple([x - 1 for x in orbital_parameters])\n",
    "            flattened_index = flattened_index_offset + (atom_id - 1) * np.ravel_multi_index(max_index, dims=orbital_parameters)\n",
    "            new_ij.append(flattened_index)\n",
    "        return new_ij\n",
    "    \n",
    "    new_ind_matrix = np.apply_along_axis(partial(ind_transform, Z=Z, orbital_parameters=orbital_parameters), axis=2, arr=ind_mat)\n",
    "    new_ids = np.reshape(new_ind_matrix, (a ** 2, 2))\n",
    "    return new_ids"
   ]
  },
  {
   "cell_type": "code",
   "execution_count": 187,
   "metadata": {},
   "outputs": [],
   "source": [
    "def add_Z_and_N(h2_dict):\n",
    "    n_h2_mols = len(h2_dict[\"R\"])\n",
    "    Z = np.ones((2 * n_h2_mols,), dtype=np.int32)\n",
    "    N = 2 * np.ones((n_h2_mols,), dtype=np.int32)\n",
    "    h2_dict[\"Z\"] = Z\n",
    "    h2_dict[\"N\"] = N\n",
    "    return h2_dict"
   ]
  },
  {
   "cell_type": "code",
   "execution_count": 211,
   "metadata": {},
   "outputs": [],
   "source": [
    "def add_rdm_indices(data_dict, orbital_parameters):\n",
    "    N_rdm = data_dict[\"N_rdm\"]\n",
    "    N = data_dict[\"N\"]\n",
    "    rdm_values = data_dict[\"rdm_hf\"]\n",
    "    Z = data_dict[\"Z\"]\n",
    "    rdm_ids = []\n",
    "    n_rdm_end = 0\n",
    "    n_end = 0\n",
    "    for (n, n_rdm) in zip(N, N_rdm):\n",
    "        n_rdm_start = n_rdm_end\n",
    "        n_start = n_end\n",
    "\n",
    "        n_rdm_end = n_rdm_start + n_rdm\n",
    "        n_end = n_start + n\n",
    "\n",
    "        z = Z[n_start:n_end]\n",
    "        rdm = rdm_values[n_rdm_start:n_rdm_end]\n",
    "        \n",
    "        rdm = np.reshape(rdm, (int(np.sqrt(n_rdm)), int(np.sqrt(n_rdm))))\n",
    "        rdm_new_ids = rdm_transform(rdm, z, orbital_parameters)\n",
    "        rdm_ids.append(rdm_new_ids)\n",
    "    data_dict[\"rdm_id\"] = np.array(rdm_ids)\n",
    "    return data_dict"
   ]
  },
  {
   "cell_type": "code",
   "execution_count": 212,
   "metadata": {},
   "outputs": [],
   "source": [
    "data = np.load(\"../../data/md_h2.npz\", allow_pickle=True)\n",
    "#data = add_Z_and_N(data)\n",
    "#data = add_rdm_indices(data, ORBITAL_PARAMS)"
   ]
  },
  {
   "cell_type": "code",
   "execution_count": 214,
   "metadata": {},
   "outputs": [
    {
     "data": {
      "text/plain": [
       "['R', 'densities', 'corrs', 'coords', 'rdm_hf', 'N_rdm', 'Z', 'N', 'rdm_id']"
      ]
     },
     "execution_count": 214,
     "metadata": {},
     "output_type": "execute_result"
    }
   ],
   "source": [
    "list(data.keys())"
   ]
  },
  {
   "cell_type": "code",
   "execution_count": 215,
   "metadata": {},
   "outputs": [
    {
     "data": {
      "text/plain": [
       "array([100, 100, 100, ..., 100, 100, 100])"
      ]
     },
     "execution_count": 215,
     "metadata": {},
     "output_type": "execute_result"
    }
   ],
   "source": [
    "data[\"N_rdm\"]"
   ]
  },
  {
   "cell_type": "code",
   "execution_count": null,
   "metadata": {},
   "outputs": [],
   "source": []
  }
 ],
 "metadata": {
  "kernelspec": {
   "display_name": "tf_old",
   "language": "python",
   "name": "python3"
  },
  "language_info": {
   "codemirror_mode": {
    "name": "ipython",
    "version": 3
   },
   "file_extension": ".py",
   "mimetype": "text/x-python",
   "name": "python",
   "nbconvert_exporter": "python",
   "pygments_lexer": "ipython3",
   "version": "3.10.8"
  },
  "orig_nbformat": 4
 },
 "nbformat": 4,
 "nbformat_minor": 2
}
