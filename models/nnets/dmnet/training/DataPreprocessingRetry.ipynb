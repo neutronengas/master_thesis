{
 "cells": [
  {
   "cell_type": "code",
   "execution_count": 1,
   "metadata": {},
   "outputs": [],
   "source": [
    "import numpy as np\n",
    "from functools import partial\n",
    "import pickle\n",
    "import matplotlib.pyplot as plt"
   ]
  },
  {
   "cell_type": "code",
   "execution_count": 2,
   "metadata": {},
   "outputs": [],
   "source": [
    "def rdm_padding(rdm, Z):\n",
    "    num_orbitals = np.array([5 if z < 3 else 14 for z in Z])\n",
    "    rdm_atom_start_indices = np.concatenate([[0], num_orbitals]).cumsum()\n",
    "    insert_start_positions = rdm_atom_start_indices[1:][rdm_atom_start_indices[1:] - rdm_atom_start_indices[:-1] == 5]\n",
    "    insertum = np.zeros((9, rdm.shape[1]))\n",
    "    for index in reversed(insert_start_positions):\n",
    "        rdm = np.insert(rdm, index, insertum, axis=0)\n",
    "    rdm = rdm.T\n",
    "    insertum = np.zeros((9, rdm.shape[1]))\n",
    "    for index in reversed(insert_start_positions):\n",
    "        rdm = np.insert(rdm, index, insertum, axis=0)\n",
    "    for i in np.concatenate([[0], (14 * np.ones_like(Z, dtype=np.int32))[:-1]]).cumsum()[Z <= 2] + 2:\n",
    "        rdm[:, [i, i + 1, i + 2, i + 3]] = rdm[:, [i + 3, i, i + 1, i + 2]]\n",
    "        rdm[[i, i + 1, i + 2, i + 3], :] = rdm[[i + 3, i, i + 1, i + 2], :]\n",
    "    return rdm"
   ]
  },
  {
   "cell_type": "code",
   "execution_count": 3,
   "metadata": {},
   "outputs": [],
   "source": [
    "def rdm_reshape(rdm):\n",
    "    side_length = len(rdm)\n",
    "    n_atoms = side_length // 14\n",
    "    rdm = np.reshape(rdm, (n_atoms, 14, n_atoms, 14))\n",
    "    rdm = np.transpose(rdm, (0, 2, 1, 3))\n",
    "    rdm = np.reshape(rdm, (n_atoms ** 2, 14, 14 ))\n",
    "    return rdm"
   ]
  },
  {
   "cell_type": "code",
   "execution_count": 4,
   "metadata": {},
   "outputs": [],
   "source": [
    "def add_Z_and_N(dict, Z):\n",
    "    n_mols = len(dict[\"R\"])\n",
    "    N = Z.shape[0] * np.ones((n_mols,), dtype=np.int32)\n",
    "    dict[\"Z\"] = Z\n",
    "    dict[\"N\"] = N\n",
    "    return dict"
   ]
  },
  {
   "cell_type": "code",
   "execution_count": 26,
   "metadata": {},
   "outputs": [],
   "source": [
    "data = np.load(\"../../data/md_benzene.npz\", allow_pickle=True)\n",
    "#data = add_Z_and_N(data)\n",
    "R = np.array([data[key][\"R\"].tolist() for key in list(data.keys())])\n",
    "coords = np.array([data[key][\"coords\"].tolist() for key in list(data.keys())])\n",
    "hf_density = np.array([data[key][\"hf_density\"].tolist() for key in list(data.keys())])\n",
    "mp_density = np.array([data[key][\"mp_density\"].tolist() for key in list(data.keys())])\n",
    "data = {\n",
    "    \"R\": R,\n",
    "    \"coords\": coords,\n",
    "    \"hf_density\": hf_density,\n",
    "    \"mp_density\": mp_density\n",
    "}\n",
    "Z = np.array([6, 6, 6, 6, 6, 6, 1, 1, 1, 1, 1, 1])\n",
    "data = add_Z_and_N(data, Z)"
   ]
  },
  {
   "cell_type": "code",
   "execution_count": null,
   "metadata": {},
   "outputs": [],
   "source": [
    "rdm_hf = data[\"rdm_hf\"]\n",
    "rdm_hf = np.reshape(rdm_hf, (1200, 10, 10))\n",
    "h2_rdm_pad = partial(rdm_padding, Z=np.array([1, 1]))\n",
    "rdm_hf = np.vectorize(h2_rdm_pad, signature=\"(a,a)->(b,b)\")(rdm_hf)\n",
    "rdm_hf = np.vectorize(rdm_reshape, signature=\"(a,a)->(c,b,b)\")(rdm_hf)\n",
    "rdm_hf = np.reshape(rdm_hf, (rdm_hf.shape[0] * rdm_hf.shape[1], rdm_hf.shape[2], rdm_hf.shape[3]))\n",
    "data[\"rdm_hf\"] = rdm_hf\n",
    "data[\"N_rdm\"] = data[\"N\"] ** 2"
   ]
  },
  {
   "cell_type": "code",
   "execution_count": null,
   "metadata": {},
   "outputs": [],
   "source": [
    "with open(\"../../data/md_h2.npz\", \"wb\") as f:\n",
    "    pickle.dump(data, f)"
   ]
  },
  {
   "cell_type": "code",
   "execution_count": null,
   "metadata": {},
   "outputs": [
    {
     "data": {
      "text/plain": [
       "<matplotlib.image.AxesImage at 0x10ee86bf0>"
      ]
     },
     "execution_count": 8,
     "metadata": {},
     "output_type": "execute_result"
    },
    {
     "data": {
      "image/png": "[encoded data removed]",
      "text/plain": [
       "<Figure size 640x480 with 1 Axes>"
      ]
     },
     "metadata": {},
     "output_type": "display_data"
    }
   ],
   "source": [
    "plt.imshow(data[\"rdm_hf\"][0])"
   ]
  },
  {
   "cell_type": "code",
   "execution_count": null,
   "metadata": {},
   "outputs": [
    {
     "data": {
      "text/plain": [
       "4800"
      ]
     },
     "execution_count": 9,
     "metadata": {},
     "output_type": "execute_result"
    }
   ],
   "source": [
    "data[\"N_rdm\"].sum()"
   ]
  },
  {
   "cell_type": "code",
   "execution_count": null,
   "metadata": {},
   "outputs": [],
   "source": []
  }
 ],
 "metadata": {
  "kernelspec": {
   "display_name": "tf_old",
   "language": "python",
   "name": "python3"
  },
  "language_info": {
   "codemirror_mode": {
    "name": "ipython",
    "version": 3
   },
   "file_extension": ".py",
   "mimetype": "text/x-python",
   "name": "python",
   "nbconvert_exporter": "python",
   "pygments_lexer": "ipython3",
   "version": "3.10.8"
  },
  "orig_nbformat": 4
 },
 "nbformat": 4,
 "nbformat_minor": 2
}
