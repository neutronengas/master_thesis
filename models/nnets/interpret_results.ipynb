{
 "cells": [
  {
   "cell_type": "code",
   "execution_count": 1,
   "metadata": {},
   "outputs": [],
   "source": [
    "import matplotlib.pyplot as plt\n",
    "import numpy as np"
   ]
  },
  {
   "attachments": {},
   "cell_type": "markdown",
   "metadata": {},
   "source": [
    "**Results from ConvNet**"
   ]
  },
  {
   "cell_type": "code",
   "execution_count": 2,
   "metadata": {},
   "outputs": [
    {
     "name": "stdout",
     "output_type": "stream",
     "text": [
      "MAE: 0.0013304032618179917\n",
      "# weights: tf.Tensor(30, shape=(), dtype=int32)\n"
     ]
    }
   ],
   "source": [
    "convnet_results = np.load(\"./logging/20230912_103805_convnet_dqNU7ZcP_md_h2.npz_corrs_final/preds.npz\", allow_pickle=True)\n",
    "print(\"MAE:\", convnet_results[\"MAE\"])\n",
    "print(\"# weights:\", convnet_results[\"no_weights\"])"
   ]
  },
  {
   "attachments": {},
   "cell_type": "markdown",
   "metadata": {},
   "source": [
    "**Results from DumbConvNet**"
   ]
  },
  {
   "cell_type": "code",
   "execution_count": 3,
   "metadata": {},
   "outputs": [
    {
     "name": "stdout",
     "output_type": "stream",
     "text": [
      "MAE: 0.0006936436402611434\n",
      "# weights: tf.Tensor(650, shape=(), dtype=int32)\n"
     ]
    }
   ],
   "source": [
    "dumbconvnet_results = np.load(\"./logging/20230912_125445_dumbconvnet_RlKqmsbp_md_h2.npz_corrs_final/preds.npz\", allow_pickle=True)\n",
    "print(\"MAE:\", dumbconvnet_results[\"MAE\"])\n",
    "print(\"# weights:\", dumbconvnet_results[\"no_weights\"])"
   ]
  },
  {
   "cell_type": "code",
   "execution_count": null,
   "metadata": {},
   "outputs": [],
   "source": []
  }
 ],
 "metadata": {
  "kernelspec": {
   "display_name": "quantchem",
   "language": "python",
   "name": "python3"
  },
  "language_info": {
   "codemirror_mode": {
    "name": "ipython",
    "version": 3
   },
   "file_extension": ".py",
   "mimetype": "text/x-python",
   "name": "python",
   "nbconvert_exporter": "python",
   "pygments_lexer": "ipython3",
   "version": "3.8.17"
  },
  "orig_nbformat": 4
 },
 "nbformat": 4,
 "nbformat_minor": 2
}
