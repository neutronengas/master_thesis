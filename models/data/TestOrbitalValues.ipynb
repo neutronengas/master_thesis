{
 "cells": [
  {
   "cell_type": "code",
   "execution_count": 1,
   "metadata": {},
   "outputs": [],
   "source": [
    "import numpy as np\n",
    "from create_orbital_values import *"
   ]
  },
  {
   "cell_type": "code",
   "execution_count": 2,
   "metadata": {},
   "outputs": [
    {
     "name": "stdout",
     "output_type": "stream",
     "text": [
      "[-1.4792578  -1.1800719  -0.54803591 -0.         -0.         -0.\n",
      " -0.         -0.         -0.        ]\n"
     ]
    }
   ],
   "source": [
    "Z = np.array([7, 1, 1, 6, 8, 1])\n",
    "pyscf_data = np.load(\"./formamide_aovalues.npz\", allow_pickle=True)\n",
    "coords = pyscf_data[\"gridpoints\"]\n",
    "pyscf_orbvals = pyscf_data[\"ao_vals\"]\n",
    "R = np.array([list(b) for [a, b] in pyscf_data[\"atom_coords\"]])\n",
    "orb_vals = create_orbital_values(Z, R, coords)"
   ]
  },
  {
   "cell_type": "code",
   "execution_count": 3,
   "metadata": {},
   "outputs": [
    {
     "data": {
      "text/plain": [
       "array([-0.18242215, -0.20281722, -0.22452864, ...,  0.00296454,\n",
       "        0.00242467,  0.00197068], dtype=float32)"
      ]
     },
     "execution_count": 3,
     "metadata": {},
     "output_type": "execute_result"
    }
   ],
   "source": [
    "orb_vals[0, :, 4]"
   ]
  },
  {
   "cell_type": "code",
   "execution_count": 4,
   "metadata": {},
   "outputs": [
    {
     "data": {
      "text/plain": [
       "array([-0.18242214, -0.20281722, -0.22452864, ...,  0.00296454,\n",
       "        0.00242467,  0.00197068])"
      ]
     },
     "execution_count": 4,
     "metadata": {},
     "output_type": "execute_result"
    }
   ],
   "source": [
    "pyscf_orbvals[:, 4]"
   ]
  },
  {
   "cell_type": "code",
   "execution_count": null,
   "metadata": {},
   "outputs": [],
   "source": []
  }
 ],
 "metadata": {
  "kernelspec": {
   "display_name": "tf_old",
   "language": "python",
   "name": "python3"
  },
  "language_info": {
   "codemirror_mode": {
    "name": "ipython",
    "version": 3
   },
   "file_extension": ".py",
   "mimetype": "text/x-python",
   "name": "python",
   "nbconvert_exporter": "python",
   "pygments_lexer": "ipython3",
   "version": "3.10.8"
  }
 },
 "nbformat": 4,
 "nbformat_minor": 2
}
