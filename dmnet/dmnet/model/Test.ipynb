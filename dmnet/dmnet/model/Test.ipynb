{
 "cells": [
  {
   "cell_type": "code",
   "execution_count": 1,
   "metadata": {},
   "outputs": [],
   "source": [
    "import tensorflow as tf\n",
    "import numpy as np\n",
    "import math\n",
    "from scipy.special import binom\n",
    "\n",
    "\n",
    "def call(r, m, l):\n",
    "    # r: (None, 3)\n",
    "    r = tf.cast(r, dtype=tf.float32)\n",
    "    r_norm = tf.norm(r, axis=1)\n",
    "    l = tf.reshape(tf.cast(l, dtype=tf.float32), (1,))\n",
    "    m = tf.reshape(tf.cast(m, dtype=tf.float32), (1,))\n",
    "    \n",
    "    prefactor = tf.reshape(tf.sqrt((l + 0.5) / math.pi), (1,))\n",
    "\n",
    "    def factorial(x):\n",
    "        x = tf.cast(x, dtype=tf.float32)\n",
    "        return tf.exp(tf.math.lgamma(x + 1))\n",
    "    \n",
    "    def log_factorial(x):\n",
    "        x = tf.cast(x, dtype=tf.float32)\n",
    "        return tf.math.lgamma(x + 1)\n",
    "\n",
    "    PI_ml = prefactor\n",
    "    PI_ml *= tf.sqrt(factorial(l - m) / factorial(l + m))\n",
    "    k = tf.range(int(tf.math.floor((l - m) / 2)) + 1)[None, :]\n",
    "    k = tf.cast(k, dtype=tf.float32)\n",
    "    b = k ** r\n",
    "    # work in logarithmic scale\n",
    "    fac = tf.cast(tf.math.floormod(k, 2), dtype=tf.float32)\n",
    "    tf.debugging.check_numerics(fac, \"nan at 1\")\n",
    "    fac -= l * tf.math.log(2.)\n",
    "    fac += log_factorial(l) - log_factorial(l - k) - log_factorial(k)\n",
    "    tf.debugging.check_numerics(fac, \"nan at 2\")\n",
    "    fac += log_factorial(2 * l - 2 * k) - log_factorial(l - 2 * k) - log_factorial(l)\n",
    "    tf.debugging.check_numerics(fac, \"nan at 3\")\n",
    "    fac += log_factorial(l - 2 * k) - (l - 2 * k - m)\n",
    "    tf.debugging.check_numerics(fac, \"nan at 4\")\n",
    "    fac += (2 * k - 1) * (tf.math.log(r[:, 2]) - tf.math.log(r_norm))[:, None]\n",
    "    tf.debugging.check_numerics(fac, \"nan at 5\")\n",
    "    fac -= m * tf.math.log(r[:, 2, None])\n",
    "    tf.debugging.check_numerics(fac, \"nan at 6\")\n",
    "    fac = tf.math.exp(fac)\n",
    "    PI_ml *= fac\n",
    "    tf.debugging.check_numerics(fac, \"nan in PI_ml\")\n",
    "    PI_ml = tf.reduce_sum(PI_ml, axis=1)\n",
    "\n",
    "    if m == 0:\n",
    "        res = PI_ml / tf.sqrt(2.)\n",
    "    else:\n",
    "        trigon = tf.sin if m < 0 else tf.cos\n",
    "        m = tf.math.abs(m)\n",
    "        m = tf.cast(m, dtype=tf.float32)[None, :]\n",
    "        p = tf.range(tf.math.abs(m) + 1, dtype=tf.float32)[None, :]\n",
    "\n",
    "        # work in logarithmic scale\n",
    "        fac = log_factorial(m) - log_factorial(p) - log_factorial(m - p)\n",
    "        fac += p * tf.math.log(r[:, 0, None]) \n",
    "        fac += (m - p) * tf.math.log(r[:, 1, None])\n",
    "        fac += tf.math.log(trigon(m - p) * math.pi / 2)\n",
    "        fac = tf.math.exp(fac)\n",
    "        fac = tf.reduce_sum(fac, axis=1)\n",
    "        res = PI_ml * fac\n",
    "    return res"
   ]
  },
  {
   "cell_type": "code",
   "execution_count": 2,
   "metadata": {},
   "outputs": [],
   "source": [
    "random_vector = np.random.normal(0, 1, (10, 3))\n",
    "r = tf.constant(random_vector, dtype=tf.float32)"
   ]
  },
  {
   "cell_type": "code",
   "execution_count": 5,
   "metadata": {},
   "outputs": [
    {
     "ename": "InvalidArgumentError",
     "evalue": "{{function_node __wrapped__CheckNumerics_device_/job:localhost/replica:0/task:0/device:CPU:0}} nan at 5 : Tensor had NaN values [Op:CheckNumerics]",
     "output_type": "error",
     "traceback": [
      "\u001b[0;31m---------------------------------------------------------------------------\u001b[0m",
      "\u001b[0;31mInvalidArgumentError\u001b[0m                      Traceback (most recent call last)",
      "Cell \u001b[0;32mIn[5], line 5\u001b[0m\n\u001b[1;32m      3\u001b[0m m \u001b[38;5;241m=\u001b[39m \u001b[38;5;241m0\u001b[39m\n\u001b[1;32m      4\u001b[0m m \u001b[38;5;241m=\u001b[39m tf\u001b[38;5;241m.\u001b[39mconstant(m, dtype\u001b[38;5;241m=\u001b[39mtf\u001b[38;5;241m.\u001b[39mfloat32)\n\u001b[0;32m----> 5\u001b[0m \u001b[43mcall\u001b[49m\u001b[43m(\u001b[49m\u001b[43mrandom_vector\u001b[49m\u001b[43m,\u001b[49m\u001b[43m \u001b[49m\u001b[43mm\u001b[49m\u001b[43m,\u001b[49m\u001b[43m \u001b[49m\u001b[43ml\u001b[49m\u001b[43m)\u001b[49m\n",
      "Cell \u001b[0;32mIn[1], line 40\u001b[0m, in \u001b[0;36mcall\u001b[0;34m(r, m, l)\u001b[0m\n\u001b[1;32m     38\u001b[0m tf\u001b[38;5;241m.\u001b[39mdebugging\u001b[38;5;241m.\u001b[39mcheck_numerics(fac, \u001b[38;5;124m\"\u001b[39m\u001b[38;5;124mnan at 4\u001b[39m\u001b[38;5;124m\"\u001b[39m)\n\u001b[1;32m     39\u001b[0m fac \u001b[38;5;241m+\u001b[39m\u001b[38;5;241m=\u001b[39m (\u001b[38;5;241m2\u001b[39m \u001b[38;5;241m*\u001b[39m k \u001b[38;5;241m-\u001b[39m \u001b[38;5;241m1\u001b[39m) \u001b[38;5;241m*\u001b[39m (tf\u001b[38;5;241m.\u001b[39mmath\u001b[38;5;241m.\u001b[39mlog(r[:, \u001b[38;5;241m2\u001b[39m]) \u001b[38;5;241m-\u001b[39m tf\u001b[38;5;241m.\u001b[39mmath\u001b[38;5;241m.\u001b[39mlog(r_norm))[:, \u001b[38;5;28;01mNone\u001b[39;00m]\n\u001b[0;32m---> 40\u001b[0m \u001b[43mtf\u001b[49m\u001b[38;5;241;43m.\u001b[39;49m\u001b[43mdebugging\u001b[49m\u001b[38;5;241;43m.\u001b[39;49m\u001b[43mcheck_numerics\u001b[49m\u001b[43m(\u001b[49m\u001b[43mfac\u001b[49m\u001b[43m,\u001b[49m\u001b[43m \u001b[49m\u001b[38;5;124;43m\"\u001b[39;49m\u001b[38;5;124;43mnan at 5\u001b[39;49m\u001b[38;5;124;43m\"\u001b[39;49m\u001b[43m)\u001b[49m\n\u001b[1;32m     41\u001b[0m fac \u001b[38;5;241m-\u001b[39m\u001b[38;5;241m=\u001b[39m m \u001b[38;5;241m*\u001b[39m tf\u001b[38;5;241m.\u001b[39mmath\u001b[38;5;241m.\u001b[39mlog(r[:, \u001b[38;5;241m2\u001b[39m, \u001b[38;5;28;01mNone\u001b[39;00m])\n\u001b[1;32m     42\u001b[0m tf\u001b[38;5;241m.\u001b[39mdebugging\u001b[38;5;241m.\u001b[39mcheck_numerics(fac, \u001b[38;5;124m\"\u001b[39m\u001b[38;5;124mnan at 6\u001b[39m\u001b[38;5;124m\"\u001b[39m)\n",
      "File \u001b[0;32m~/anaconda3/envs/tf_old/lib/python3.10/site-packages/tensorflow/python/ops/gen_array_ops.py:964\u001b[0m, in \u001b[0;36mcheck_numerics\u001b[0;34m(tensor, message, name)\u001b[0m\n\u001b[1;32m    962\u001b[0m   \u001b[38;5;28;01mreturn\u001b[39;00m _result\n\u001b[1;32m    963\u001b[0m \u001b[38;5;28;01mexcept\u001b[39;00m _core\u001b[38;5;241m.\u001b[39m_NotOkStatusException \u001b[38;5;28;01mas\u001b[39;00m e:\n\u001b[0;32m--> 964\u001b[0m   \u001b[43m_ops\u001b[49m\u001b[38;5;241;43m.\u001b[39;49m\u001b[43mraise_from_not_ok_status\u001b[49m\u001b[43m(\u001b[49m\u001b[43me\u001b[49m\u001b[43m,\u001b[49m\u001b[43m \u001b[49m\u001b[43mname\u001b[49m\u001b[43m)\u001b[49m\n\u001b[1;32m    965\u001b[0m \u001b[38;5;28;01mexcept\u001b[39;00m _core\u001b[38;5;241m.\u001b[39m_FallbackException:\n\u001b[1;32m    966\u001b[0m   \u001b[38;5;28;01mpass\u001b[39;00m\n",
      "File \u001b[0;32m~/anaconda3/envs/tf_old/lib/python3.10/site-packages/tensorflow/python/framework/ops.py:7209\u001b[0m, in \u001b[0;36mraise_from_not_ok_status\u001b[0;34m(e, name)\u001b[0m\n\u001b[1;32m   7207\u001b[0m \u001b[38;5;28;01mdef\u001b[39;00m \u001b[38;5;21mraise_from_not_ok_status\u001b[39m(e, name):\n\u001b[1;32m   7208\u001b[0m   e\u001b[38;5;241m.\u001b[39mmessage \u001b[38;5;241m+\u001b[39m\u001b[38;5;241m=\u001b[39m (\u001b[38;5;124m\"\u001b[39m\u001b[38;5;124m name: \u001b[39m\u001b[38;5;124m\"\u001b[39m \u001b[38;5;241m+\u001b[39m name \u001b[38;5;28;01mif\u001b[39;00m name \u001b[38;5;129;01mis\u001b[39;00m \u001b[38;5;129;01mnot\u001b[39;00m \u001b[38;5;28;01mNone\u001b[39;00m \u001b[38;5;28;01melse\u001b[39;00m \u001b[38;5;124m\"\u001b[39m\u001b[38;5;124m\"\u001b[39m)\n\u001b[0;32m-> 7209\u001b[0m   \u001b[38;5;28;01mraise\u001b[39;00m core\u001b[38;5;241m.\u001b[39m_status_to_exception(e) \u001b[38;5;28;01mfrom\u001b[39;00m \u001b[38;5;28;01mNone\u001b[39;00m\n",
      "\u001b[0;31mInvalidArgumentError\u001b[0m: {{function_node __wrapped__CheckNumerics_device_/job:localhost/replica:0/task:0/device:CPU:0}} nan at 5 : Tensor had NaN values [Op:CheckNumerics]"
     ]
    }
   ],
   "source": [
    "l = 0\n",
    "l = tf.constant(l, dtype=tf.float32)\n",
    "m = 0\n",
    "m = tf.constant(m, dtype=tf.float32)\n",
    "call(random_vector, m, l)"
   ]
  },
  {
   "cell_type": "code",
   "execution_count": 6,
   "metadata": {},
   "outputs": [
    {
     "data": {
      "text/plain": [
       "0.0"
      ]
     },
     "execution_count": 6,
     "metadata": {},
     "output_type": "execute_result"
    }
   ],
   "source": [
    "float(1 < 0)"
   ]
  },
  {
   "cell_type": "code",
   "execution_count": null,
   "metadata": {},
   "outputs": [],
   "source": []
  }
 ],
 "metadata": {
  "kernelspec": {
   "display_name": "tf_old",
   "language": "python",
   "name": "python3"
  },
  "language_info": {
   "codemirror_mode": {
    "name": "ipython",
    "version": 3
   },
   "file_extension": ".py",
   "mimetype": "text/x-python",
   "name": "python",
   "nbconvert_exporter": "python",
   "pygments_lexer": "ipython3",
   "version": "3.10.8"
  },
  "orig_nbformat": 4
 },
 "nbformat": 4,
 "nbformat_minor": 2
}
